{
 "cells": [
  {
   "cell_type": "code",
   "execution_count": 1,
   "metadata": {},
   "outputs": [],
   "source": [
    "import requests\n",
    "from tqdm.auto import tqdm\n",
    "from dotenv import load_dotenv\n",
    "\n",
    "import time\n",
    "import os\n",
    "import json\n",
    "from ast import literal_eval    \n",
    "from pprint import pprint\n",
    "from datetime import datetime, timedelta\n",
    "from collections import defaultdict\n",
    "from tqdm.auto import tqdm"
   ]
  },
  {
   "cell_type": "code",
   "execution_count": 24,
   "metadata": {},
   "outputs": [],
   "source": [
    "with open(\"../data/bus_lines.txt\") as f:\n",
    "    bus_lines = f.read().splitlines()\n",
    "# bus_lines = list(map(int, bus_lines))"
   ]
  },
  {
   "cell_type": "code",
   "execution_count": 3,
   "metadata": {},
   "outputs": [
    {
     "data": {
      "text/plain": [
       "True"
      ]
     },
     "execution_count": 3,
     "metadata": {},
     "output_type": "execute_result"
    }
   ],
   "source": [
    "load_dotenv()"
   ]
  },
  {
   "cell_type": "code",
   "execution_count": 4,
   "metadata": {},
   "outputs": [],
   "source": [
    "api_key = os.environ['STIB_API_KEY']\n",
    "headers = {\n",
    "    \"Authorization\": f\"Apikey {api_key}\"\n",
    "}\n",
    "url = \"https://stibmivb.opendatasoft.com/api/explore/v2.1/catalog/datasets/vehicle-position-rt-production/records\""
   ]
  },
  {
   "cell_type": "code",
   "execution_count": 5,
   "metadata": {},
   "outputs": [],
   "source": [
    "session = requests.Session()\n",
    "session.headers.update(headers)"
   ]
  },
  {
   "cell_type": "code",
   "execution_count": 6,
   "metadata": {},
   "outputs": [],
   "source": [
    "with open(\"../data/bus_lines.txt\") as f:\n",
    "    bus_lines = f.read().splitlines()"
   ]
  },
  {
   "cell_type": "code",
   "execution_count": 28,
   "metadata": {},
   "outputs": [],
   "source": [
    "params = {\n",
    "    'timezone': 'Europe/Brussels',\n",
    "}\n",
    "\n",
    "def get_data(params={}):\n",
    "    response = session.get(url, params=params)\n",
    "    data = response.json()\n",
    "    if response.status_code != 200:\n",
    "        pprint(data)\n",
    "        raise Exception(f\"Error: {response.status_code}\")\n",
    "    else:\n",
    "        data = response.json()['results']\n",
    "        for i, entry in enumerate(data):\n",
    "            data[i]['vehiclepositions'] = literal_eval(entry['vehiclepositions'])\n",
    "        return data"
   ]
  },
  {
   "cell_type": "code",
   "execution_count": 32,
   "metadata": {},
   "outputs": [],
   "source": [
    "def collect_data_until(dt_until):\n",
    "    segments_data = defaultdict(list)\n",
    "\n",
    "    dt_now = datetime.now()\n",
    "    dt_init = dt_now.strftime(\"%Y-%m-%d_%H:%M:%S\")\n",
    "\n",
    "    i = 0\n",
    "    total = (dt_until - dt_now).seconds // 13\n",
    "\n",
    "    # Initialize the progress bar\n",
    "    with tqdm(\n",
    "        total=total,\n",
    "        desc=\"Collecting vehicle positions\",\n",
    "        unit=\"iteration\",\n",
    "        bar_format=\"{l_bar}{bar}| {n_fmt}/{total_fmt} [{elapsed}<{remaining}]\",\n",
    "    ) as pbar:\n",
    "        while dt_now < dt_until:\n",
    "            dt_now = datetime.now()\n",
    "            # print(\n",
    "            #     f\"Collecting vehicle positions at {dt_now.strftime('%H:%M:%S')} ({i}/{total})\"\n",
    "            # )\n",
    "\n",
    "            for line in range(0, len(bus_lines), 10):\n",
    "                required_lines = bus_lines[line : line + 10]\n",
    "                params[\"where\"] = f\"lineid in {str(tuple(required_lines))}\"\n",
    "                vehicle_positions = get_data(params)\n",
    "                for line in vehicle_positions:\n",
    "                    vehicle_positions_with_timestamp = {\n",
    "                        \"timestamp\": dt_now.strftime(\"%Y-%m-%d %H:%M:%S\"),\n",
    "                        \"vehicle_positions\": line[\"vehiclepositions\"],\n",
    "                    }\n",
    "                    if (\n",
    "                        vehicle_positions_with_timestamp\n",
    "                        not in segments_data[line[\"lineid\"]]\n",
    "                    ):\n",
    "                        segments_data[line[\"lineid\"]].append(\n",
    "                            vehicle_positions_with_timestamp\n",
    "                        )\n",
    "\n",
    "            i += 1\n",
    "            with open(f\"vehicle_positions_{dt_init}.json\", \"w\") as f:\n",
    "                json.dump(segments_data, f, indent=2)\n",
    "\n",
    "            # Update progress bar\n",
    "            pbar.update(1)\n",
    "\n",
    "            # 13 seconds interval\n",
    "            if dt_now + timedelta(seconds=13) <= dt_until:\n",
    "                time.sleep(13)\n",
    "                dt_now = datetime.now()\n",
    "            else:\n",
    "                break\n",
    "\n",
    "    return segments_data"
   ]
  },
  {
   "cell_type": "code",
   "execution_count": 33,
   "metadata": {},
   "outputs": [
    {
     "data": {
      "text/plain": [
       "'2024-08-27 17:02:21'"
      ]
     },
     "execution_count": 33,
     "metadata": {},
     "output_type": "execute_result"
    }
   ],
   "source": [
    "H = 8\n",
    "M = 0\n",
    "\n",
    "dt = datetime.now() + timedelta(hours=H, minutes=M)\n",
    "datetime.strftime(dt, '%Y-%m-%d %H:%M:%S')"
   ]
  },
  {
   "cell_type": "code",
   "execution_count": 34,
   "metadata": {},
   "outputs": [
    {
     "data": {
      "application/vnd.jupyter.widget-view+json": {
       "model_id": "2220d4e0b6ec462fbb9c49ed78e4d06e",
       "version_major": 2,
       "version_minor": 0
      },
      "text/plain": [
       "Collecting vehicle positions:   0%|          | 0/2215 [00:00<?]"
      ]
     },
     "metadata": {},
     "output_type": "display_data"
    },
    {
     "name": "stdout",
     "output_type": "stream",
     "text": [
      "{'call_limit': 10000,\n",
      " 'error': 'You have exceeded your quota of 10000 api calls per day.',\n",
      " 'errorcode': 10001,\n",
      " 'limit_time_unit': 'day',\n",
      " 'reset_time': '2024-08-28T00:00:00Z'}\n"
     ]
    },
    {
     "ename": "Exception",
     "evalue": "Error: 429",
     "output_type": "error",
     "traceback": [
      "\u001b[0;31m---------------------------------------------------------------------------\u001b[0m",
      "\u001b[0;31mException\u001b[0m                                 Traceback (most recent call last)",
      "Cell \u001b[0;32mIn[34], line 3\u001b[0m\n\u001b[1;32m      1\u001b[0m dt_now \u001b[38;5;241m=\u001b[39m datetime\u001b[38;5;241m.\u001b[39mnow()\n\u001b[1;32m      2\u001b[0m dt_later \u001b[38;5;241m=\u001b[39m dt_now \u001b[38;5;241m+\u001b[39m timedelta(hours\u001b[38;5;241m=\u001b[39mH, minutes\u001b[38;5;241m=\u001b[39mM)\n\u001b[0;32m----> 3\u001b[0m data \u001b[38;5;241m=\u001b[39m \u001b[43mcollect_data_until\u001b[49m\u001b[43m(\u001b[49m\u001b[43mdt_later\u001b[49m\u001b[43m)\u001b[49m\n",
      "Cell \u001b[0;32mIn[32], line 26\u001b[0m, in \u001b[0;36mcollect_data_until\u001b[0;34m(dt_until)\u001b[0m\n\u001b[1;32m     24\u001b[0m required_lines \u001b[38;5;241m=\u001b[39m bus_lines[line : line \u001b[38;5;241m+\u001b[39m \u001b[38;5;241m10\u001b[39m]\n\u001b[1;32m     25\u001b[0m params[\u001b[38;5;124m\"\u001b[39m\u001b[38;5;124mwhere\u001b[39m\u001b[38;5;124m\"\u001b[39m] \u001b[38;5;241m=\u001b[39m \u001b[38;5;124mf\u001b[39m\u001b[38;5;124m\"\u001b[39m\u001b[38;5;124mlineid in \u001b[39m\u001b[38;5;132;01m{\u001b[39;00m\u001b[38;5;28mstr\u001b[39m(\u001b[38;5;28mtuple\u001b[39m(required_lines))\u001b[38;5;132;01m}\u001b[39;00m\u001b[38;5;124m\"\u001b[39m\n\u001b[0;32m---> 26\u001b[0m vehicle_positions \u001b[38;5;241m=\u001b[39m \u001b[43mget_data\u001b[49m\u001b[43m(\u001b[49m\u001b[43mparams\u001b[49m\u001b[43m)\u001b[49m\n\u001b[1;32m     27\u001b[0m \u001b[38;5;28;01mfor\u001b[39;00m line \u001b[38;5;129;01min\u001b[39;00m vehicle_positions:\n\u001b[1;32m     28\u001b[0m     vehicle_positions_with_timestamp \u001b[38;5;241m=\u001b[39m {\n\u001b[1;32m     29\u001b[0m         \u001b[38;5;124m\"\u001b[39m\u001b[38;5;124mtimestamp\u001b[39m\u001b[38;5;124m\"\u001b[39m: dt_now\u001b[38;5;241m.\u001b[39mstrftime(\u001b[38;5;124m\"\u001b[39m\u001b[38;5;124m%\u001b[39m\u001b[38;5;124mY-\u001b[39m\u001b[38;5;124m%\u001b[39m\u001b[38;5;124mm-\u001b[39m\u001b[38;5;132;01m%d\u001b[39;00m\u001b[38;5;124m \u001b[39m\u001b[38;5;124m%\u001b[39m\u001b[38;5;124mH:\u001b[39m\u001b[38;5;124m%\u001b[39m\u001b[38;5;124mM:\u001b[39m\u001b[38;5;124m%\u001b[39m\u001b[38;5;124mS\u001b[39m\u001b[38;5;124m\"\u001b[39m),\n\u001b[1;32m     30\u001b[0m         \u001b[38;5;124m\"\u001b[39m\u001b[38;5;124mvehicle_positions\u001b[39m\u001b[38;5;124m\"\u001b[39m: line[\u001b[38;5;124m'\u001b[39m\u001b[38;5;124mvehiclepositions\u001b[39m\u001b[38;5;124m'\u001b[39m],\n\u001b[1;32m     31\u001b[0m     }\n",
      "Cell \u001b[0;32mIn[28], line 10\u001b[0m, in \u001b[0;36mget_data\u001b[0;34m(params)\u001b[0m\n\u001b[1;32m      8\u001b[0m \u001b[38;5;28;01mif\u001b[39;00m response\u001b[38;5;241m.\u001b[39mstatus_code \u001b[38;5;241m!=\u001b[39m \u001b[38;5;241m200\u001b[39m:\n\u001b[1;32m      9\u001b[0m     pprint(data)\n\u001b[0;32m---> 10\u001b[0m     \u001b[38;5;28;01mraise\u001b[39;00m \u001b[38;5;167;01mException\u001b[39;00m(\u001b[38;5;124mf\u001b[39m\u001b[38;5;124m\"\u001b[39m\u001b[38;5;124mError: \u001b[39m\u001b[38;5;132;01m{\u001b[39;00mresponse\u001b[38;5;241m.\u001b[39mstatus_code\u001b[38;5;132;01m}\u001b[39;00m\u001b[38;5;124m\"\u001b[39m)\n\u001b[1;32m     11\u001b[0m \u001b[38;5;28;01melse\u001b[39;00m:\n\u001b[1;32m     12\u001b[0m     data \u001b[38;5;241m=\u001b[39m response\u001b[38;5;241m.\u001b[39mjson()[\u001b[38;5;124m'\u001b[39m\u001b[38;5;124mresults\u001b[39m\u001b[38;5;124m'\u001b[39m]\n",
      "\u001b[0;31mException\u001b[0m: Error: 429"
     ]
    }
   ],
   "source": [
    "dt_now = datetime.now()\n",
    "dt_later = dt_now + timedelta(hours=H, minutes=M)\n",
    "data = collect_data_until(dt_later)"
   ]
  },
  {
   "cell_type": "code",
   "execution_count": null,
   "metadata": {},
   "outputs": [],
   "source": []
  }
 ],
 "metadata": {
  "kernelspec": {
   "display_name": "libcity",
   "language": "python",
   "name": "python3"
  },
  "language_info": {
   "codemirror_mode": {
    "name": "ipython",
    "version": 3
   },
   "file_extension": ".py",
   "mimetype": "text/x-python",
   "name": "python",
   "nbconvert_exporter": "python",
   "pygments_lexer": "ipython3",
   "version": "3.8.19"
  }
 },
 "nbformat": 4,
 "nbformat_minor": 2
}
