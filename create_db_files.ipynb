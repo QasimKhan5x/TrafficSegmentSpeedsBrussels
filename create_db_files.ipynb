{
 "cells": [
  {
   "cell_type": "code",
   "execution_count": 112,
   "metadata": {},
   "outputs": [],
   "source": [
    "import pandas as pd\n",
    "import geopandas as gpd\n",
    "import json\n",
    "import statistics\n",
    "\n",
    "import pickle\n",
    "from datetime import datetime, timedelta\n",
    "from tqdm.auto import tqdm\n",
    "from shapely import Point, LineString"
   ]
  },
  {
   "cell_type": "markdown",
   "metadata": {},
   "source": [
    "## Lines"
   ]
  },
  {
   "cell_type": "code",
   "execution_count": 113,
   "metadata": {},
   "outputs": [],
   "source": [
    "with open(\"data/bus_lines.txt\") as f:\n",
    "    bus_lines = f.read().splitlines()\n",
    "lines_df = pd.DataFrame(bus_lines, columns=[\"lineID\"])\n",
    "lines_df.drop_duplicates(inplace=True)\n",
    "lines_df.to_csv(\"preprocessed_data/Lines.csv\", index=False)\n"
   ]
  },
  {
   "cell_type": "markdown",
   "metadata": {},
   "source": [
    "## Stops"
   ]
  },
  {
   "cell_type": "code",
   "execution_count": 15,
   "metadata": {},
   "outputs": [
    {
     "data": {
      "text/html": [
       "<div>\n",
       "<style scoped>\n",
       "    .dataframe tbody tr th:only-of-type {\n",
       "        vertical-align: middle;\n",
       "    }\n",
       "\n",
       "    .dataframe tbody tr th {\n",
       "        vertical-align: top;\n",
       "    }\n",
       "\n",
       "    .dataframe thead th {\n",
       "        text-align: right;\n",
       "    }\n",
       "</style>\n",
       "<table border=\"1\" class=\"dataframe\">\n",
       "  <thead>\n",
       "    <tr style=\"text-align: right;\">\n",
       "      <th></th>\n",
       "      <th>id</th>\n",
       "      <th>stop_id</th>\n",
       "      <th>stop_lat</th>\n",
       "      <th>stop_lon</th>\n",
       "      <th>direction</th>\n",
       "      <th>stop_name</th>\n",
       "      <th>direction_id</th>\n",
       "      <th>stop_sequence</th>\n",
       "      <th>route_short_name</th>\n",
       "      <th>geometry</th>\n",
       "    </tr>\n",
       "  </thead>\n",
       "  <tbody>\n",
       "    <tr>\n",
       "      <th>0</th>\n",
       "      <td>453</td>\n",
       "      <td>1780</td>\n",
       "      <td>50.841848</td>\n",
       "      <td>4.364842</td>\n",
       "      <td>0</td>\n",
       "      <td>TRONE</td>\n",
       "      <td>V</td>\n",
       "      <td>0</td>\n",
       "      <td>12</td>\n",
       "      <td>POINT (4.36484 50.84185)</td>\n",
       "    </tr>\n",
       "    <tr>\n",
       "      <th>1</th>\n",
       "      <td>454</td>\n",
       "      <td>6433</td>\n",
       "      <td>50.840303</td>\n",
       "      <td>4.367119</td>\n",
       "      <td>0</td>\n",
       "      <td>TRONE</td>\n",
       "      <td>V</td>\n",
       "      <td>1</td>\n",
       "      <td>12</td>\n",
       "      <td>POINT (4.36712 50.84030)</td>\n",
       "    </tr>\n",
       "    <tr>\n",
       "      <th>2</th>\n",
       "      <td>455</td>\n",
       "      <td>1131</td>\n",
       "      <td>50.839745</td>\n",
       "      <td>4.373679</td>\n",
       "      <td>0</td>\n",
       "      <td>LUXEMBOURG</td>\n",
       "      <td>V</td>\n",
       "      <td>2</td>\n",
       "      <td>12</td>\n",
       "      <td>POINT (4.37368 50.83975)</td>\n",
       "    </tr>\n",
       "    <tr>\n",
       "      <th>3</th>\n",
       "      <td>456</td>\n",
       "      <td>1418</td>\n",
       "      <td>50.843470</td>\n",
       "      <td>4.383977</td>\n",
       "      <td>0</td>\n",
       "      <td>SCHUMAN</td>\n",
       "      <td>V</td>\n",
       "      <td>3</td>\n",
       "      <td>12</td>\n",
       "      <td>POINT (4.38398 50.84347)</td>\n",
       "    </tr>\n",
       "    <tr>\n",
       "      <th>4</th>\n",
       "      <td>457</td>\n",
       "      <td>2247</td>\n",
       "      <td>50.853976</td>\n",
       "      <td>4.397888</td>\n",
       "      <td>0</td>\n",
       "      <td>MEISER</td>\n",
       "      <td>V</td>\n",
       "      <td>4</td>\n",
       "      <td>12</td>\n",
       "      <td>POINT (4.39789 50.85398)</td>\n",
       "    </tr>\n",
       "  </tbody>\n",
       "</table>\n",
       "</div>"
      ],
      "text/plain": [
       "    id  stop_id   stop_lat  stop_lon  direction   stop_name direction_id  \\\n",
       "0  453     1780  50.841848  4.364842          0       TRONE            V   \n",
       "1  454     6433  50.840303  4.367119          0       TRONE            V   \n",
       "2  455     1131  50.839745  4.373679          0  LUXEMBOURG            V   \n",
       "3  456     1418  50.843470  4.383977          0     SCHUMAN            V   \n",
       "4  457     2247  50.853976  4.397888          0      MEISER            V   \n",
       "\n",
       "   stop_sequence route_short_name                  geometry  \n",
       "0              0               12  POINT (4.36484 50.84185)  \n",
       "1              1               12  POINT (4.36712 50.84030)  \n",
       "2              2               12  POINT (4.37368 50.83975)  \n",
       "3              3               12  POINT (4.38398 50.84347)  \n",
       "4              4               12  POINT (4.39789 50.85398)  "
      ]
     },
     "execution_count": 15,
     "metadata": {},
     "output_type": "execute_result"
    }
   ],
   "source": [
    "stop_gdf = gpd.read_file(\"data/stops.geojson\")\n",
    "stop_gdf.head()"
   ]
  },
  {
   "cell_type": "code",
   "execution_count": 16,
   "metadata": {},
   "outputs": [],
   "source": [
    "stop_gdf = stop_gdf.drop(columns=[\"id\", \"stop_lat\", \"stop_lon\", \"direction_id\"])"
   ]
  },
  {
   "cell_type": "code",
   "execution_count": 17,
   "metadata": {},
   "outputs": [],
   "source": [
    "def reverse_point_coordinates(geom):\n",
    "    \"\"\"\n",
    "    Reverses the coordinates of Point geometries in the specified geometry column of the DataFrame.\n",
    "\n",
    "    Parameters:\n",
    "    df (GeoDataFrame): The GeoDataFrame containing the Point geometries.\n",
    "    geometry_column (str): The name of the geometry column to process. Default is 'geometry'.\n",
    "\n",
    "    Returns:\n",
    "    GeoDataFrame: A GeoDataFrame with the coordinates of Point geometries reversed.\n",
    "    \"\"\"\n",
    "    if geom.geom_type == 'Point':\n",
    "        x, y = geom.coords[0]\n",
    "        # Reverse the coordinates\n",
    "        return Point(y, x)\n",
    "    return geom"
   ]
  },
  {
   "cell_type": "code",
   "execution_count": 18,
   "metadata": {},
   "outputs": [],
   "source": [
    "stop_gdf['geometry'] = stop_gdf['geometry'].apply(reverse_point_coordinates)"
   ]
  },
  {
   "cell_type": "code",
   "execution_count": 19,
   "metadata": {},
   "outputs": [],
   "source": [
    "stop_gdf.rename(columns={'route_short_name': 'line_id'}, inplace=True)"
   ]
  },
  {
   "cell_type": "code",
   "execution_count": 20,
   "metadata": {},
   "outputs": [
    {
     "name": "stdout",
     "output_type": "stream",
     "text": [
      "<class 'geopandas.geodataframe.GeoDataFrame'>\n",
      "RangeIndex: 2189 entries, 0 to 2188\n",
      "Data columns (total 6 columns):\n",
      " #   Column         Non-Null Count  Dtype   \n",
      "---  ------         --------------  -----   \n",
      " 0   stop_id        2189 non-null   int64   \n",
      " 1   direction      2189 non-null   int64   \n",
      " 2   stop_name      2189 non-null   object  \n",
      " 3   stop_sequence  2189 non-null   int64   \n",
      " 4   line_id        2189 non-null   object  \n",
      " 5   geometry       2189 non-null   geometry\n",
      "dtypes: geometry(1), int64(3), object(2)\n",
      "memory usage: 102.7+ KB\n"
     ]
    }
   ],
   "source": [
    "stop_gdf.info()"
   ]
  },
  {
   "cell_type": "code",
   "execution_count": 21,
   "metadata": {},
   "outputs": [],
   "source": [
    "stop_gdf['line_id']= stop_gdf['line_id'].astype(int)"
   ]
  },
  {
   "cell_type": "code",
   "execution_count": 22,
   "metadata": {},
   "outputs": [
    {
     "data": {
      "text/html": [
       "<div>\n",
       "<style scoped>\n",
       "    .dataframe tbody tr th:only-of-type {\n",
       "        vertical-align: middle;\n",
       "    }\n",
       "\n",
       "    .dataframe tbody tr th {\n",
       "        vertical-align: top;\n",
       "    }\n",
       "\n",
       "    .dataframe thead th {\n",
       "        text-align: right;\n",
       "    }\n",
       "</style>\n",
       "<table border=\"1\" class=\"dataframe\">\n",
       "  <thead>\n",
       "    <tr style=\"text-align: right;\">\n",
       "      <th></th>\n",
       "      <th>stop_id</th>\n",
       "      <th>direction</th>\n",
       "      <th>stop_name</th>\n",
       "      <th>stop_sequence</th>\n",
       "      <th>line_id</th>\n",
       "      <th>geometry</th>\n",
       "    </tr>\n",
       "  </thead>\n",
       "  <tbody>\n",
       "    <tr>\n",
       "      <th>0</th>\n",
       "      <td>1780</td>\n",
       "      <td>0</td>\n",
       "      <td>TRONE</td>\n",
       "      <td>0</td>\n",
       "      <td>12</td>\n",
       "      <td>POINT (50.84185 4.36484)</td>\n",
       "    </tr>\n",
       "    <tr>\n",
       "      <th>1</th>\n",
       "      <td>6433</td>\n",
       "      <td>0</td>\n",
       "      <td>TRONE</td>\n",
       "      <td>1</td>\n",
       "      <td>12</td>\n",
       "      <td>POINT (50.84030 4.36712)</td>\n",
       "    </tr>\n",
       "    <tr>\n",
       "      <th>2</th>\n",
       "      <td>1131</td>\n",
       "      <td>0</td>\n",
       "      <td>LUXEMBOURG</td>\n",
       "      <td>2</td>\n",
       "      <td>12</td>\n",
       "      <td>POINT (50.83975 4.37368)</td>\n",
       "    </tr>\n",
       "    <tr>\n",
       "      <th>3</th>\n",
       "      <td>1418</td>\n",
       "      <td>0</td>\n",
       "      <td>SCHUMAN</td>\n",
       "      <td>3</td>\n",
       "      <td>12</td>\n",
       "      <td>POINT (50.84347 4.38398)</td>\n",
       "    </tr>\n",
       "    <tr>\n",
       "      <th>4</th>\n",
       "      <td>2247</td>\n",
       "      <td>0</td>\n",
       "      <td>MEISER</td>\n",
       "      <td>4</td>\n",
       "      <td>12</td>\n",
       "      <td>POINT (50.85398 4.39789)</td>\n",
       "    </tr>\n",
       "  </tbody>\n",
       "</table>\n",
       "</div>"
      ],
      "text/plain": [
       "   stop_id  direction   stop_name  stop_sequence  line_id  \\\n",
       "0     1780          0       TRONE              0       12   \n",
       "1     6433          0       TRONE              1       12   \n",
       "2     1131          0  LUXEMBOURG              2       12   \n",
       "3     1418          0     SCHUMAN              3       12   \n",
       "4     2247          0      MEISER              4       12   \n",
       "\n",
       "                   geometry  \n",
       "0  POINT (50.84185 4.36484)  \n",
       "1  POINT (50.84030 4.36712)  \n",
       "2  POINT (50.83975 4.37368)  \n",
       "3  POINT (50.84347 4.38398)  \n",
       "4  POINT (50.85398 4.39789)  "
      ]
     },
     "execution_count": 22,
     "metadata": {},
     "output_type": "execute_result"
    }
   ],
   "source": [
    "stop_gdf.head()"
   ]
  },
  {
   "cell_type": "markdown",
   "metadata": {},
   "source": [
    "Primary Key of Stops: stop_id, direction, line_id"
   ]
  },
  {
   "cell_type": "code",
   "execution_count": 23,
   "metadata": {},
   "outputs": [
    {
     "data": {
      "text/plain": [
       "0"
      ]
     },
     "execution_count": 23,
     "metadata": {},
     "output_type": "execute_result"
    }
   ],
   "source": [
    "stop_gdf.duplicated(subset=['stop_id', 'direction', 'line_id']).sum()"
   ]
  },
  {
   "cell_type": "code",
   "execution_count": 24,
   "metadata": {},
   "outputs": [],
   "source": [
    "stop_gdf.to_file(\"preprocessed_data/Stops.geojson\", driver=\"GeoJSON\")"
   ]
  },
  {
   "cell_type": "markdown",
   "metadata": {},
   "source": [
    "## Segments"
   ]
  },
  {
   "cell_type": "markdown",
   "metadata": {},
   "source": [
    "- line_id\n",
    "- distance\n",
    "- path (geo)\n",
    "- direction\n",
    "- segment_number\n",
    "- startStopID\n",
    "- endStopID\n"
   ]
  },
  {
   "cell_type": "code",
   "execution_count": 98,
   "metadata": {},
   "outputs": [
    {
     "data": {
      "text/html": [
       "<div>\n",
       "<style scoped>\n",
       "    .dataframe tbody tr th:only-of-type {\n",
       "        vertical-align: middle;\n",
       "    }\n",
       "\n",
       "    .dataframe tbody tr th {\n",
       "        vertical-align: top;\n",
       "    }\n",
       "\n",
       "    .dataframe thead th {\n",
       "        text-align: right;\n",
       "    }\n",
       "</style>\n",
       "<table border=\"1\" class=\"dataframe\">\n",
       "  <thead>\n",
       "    <tr style=\"text-align: right;\">\n",
       "      <th></th>\n",
       "      <th>id</th>\n",
       "      <th>end</th>\n",
       "      <th>color</th>\n",
       "      <th>start</th>\n",
       "      <th>line_id</th>\n",
       "      <th>distance</th>\n",
       "      <th>direction</th>\n",
       "      <th>geometry</th>\n",
       "    </tr>\n",
       "  </thead>\n",
       "  <tbody>\n",
       "    <tr>\n",
       "      <th>0</th>\n",
       "      <td>1780</td>\n",
       "      <td>6433</td>\n",
       "      <td>#4C8B33</td>\n",
       "      <td>1780</td>\n",
       "      <td>12</td>\n",
       "      <td>0.000000</td>\n",
       "      <td>1</td>\n",
       "      <td>LINESTRING (4.36479 50.84185, 4.36479 50.84185...</td>\n",
       "    </tr>\n",
       "    <tr>\n",
       "      <th>1</th>\n",
       "      <td>6433</td>\n",
       "      <td>1131</td>\n",
       "      <td>#4C8B33</td>\n",
       "      <td>6433</td>\n",
       "      <td>12</td>\n",
       "      <td>688.862247</td>\n",
       "      <td>1</td>\n",
       "      <td>LINESTRING (4.36712 50.84033, 4.36713 50.84032...</td>\n",
       "    </tr>\n",
       "    <tr>\n",
       "      <th>2</th>\n",
       "      <td>1131</td>\n",
       "      <td>1418</td>\n",
       "      <td>#4C8B33</td>\n",
       "      <td>1131</td>\n",
       "      <td>12</td>\n",
       "      <td>1734.101558</td>\n",
       "      <td>1</td>\n",
       "      <td>LINESTRING (4.37362 50.83978, 4.37396 50.84038...</td>\n",
       "    </tr>\n",
       "    <tr>\n",
       "      <th>3</th>\n",
       "      <td>1418</td>\n",
       "      <td>2247</td>\n",
       "      <td>#4C8B33</td>\n",
       "      <td>1418</td>\n",
       "      <td>12</td>\n",
       "      <td>3922.269263</td>\n",
       "      <td>1</td>\n",
       "      <td>LINESTRING (4.38391 50.84347, 4.38391 50.84347...</td>\n",
       "    </tr>\n",
       "    <tr>\n",
       "      <th>4</th>\n",
       "      <td>2247</td>\n",
       "      <td>4556</td>\n",
       "      <td>#4C8B33</td>\n",
       "      <td>2247</td>\n",
       "      <td>12</td>\n",
       "      <td>6843.167479</td>\n",
       "      <td>1</td>\n",
       "      <td>LINESTRING (4.39787 50.85398, 4.39803 50.85436...</td>\n",
       "    </tr>\n",
       "  </tbody>\n",
       "</table>\n",
       "</div>"
      ],
      "text/plain": [
       "     id   end    color  start line_id     distance  direction  \\\n",
       "0  1780  6433  #4C8B33   1780      12     0.000000          1   \n",
       "1  6433  1131  #4C8B33   6433      12   688.862247          1   \n",
       "2  1131  1418  #4C8B33   1131      12  1734.101558          1   \n",
       "3  1418  2247  #4C8B33   1418      12  3922.269263          1   \n",
       "4  2247  4556  #4C8B33   2247      12  6843.167479          1   \n",
       "\n",
       "                                            geometry  \n",
       "0  LINESTRING (4.36479 50.84185, 4.36479 50.84185...  \n",
       "1  LINESTRING (4.36712 50.84033, 4.36713 50.84032...  \n",
       "2  LINESTRING (4.37362 50.83978, 4.37396 50.84038...  \n",
       "3  LINESTRING (4.38391 50.84347, 4.38391 50.84347...  \n",
       "4  LINESTRING (4.39787 50.85398, 4.39803 50.85436...  "
      ]
     },
     "execution_count": 98,
     "metadata": {},
     "output_type": "execute_result"
    }
   ],
   "source": [
    "segment_gdf = gpd.read_file(\"data/segments.geojson\")\n",
    "segment_gdf.head()"
   ]
  },
  {
   "cell_type": "code",
   "execution_count": 99,
   "metadata": {},
   "outputs": [
    {
     "name": "stdout",
     "output_type": "stream",
     "text": [
      "<class 'geopandas.geodataframe.GeoDataFrame'>\n",
      "RangeIndex: 2061 entries, 0 to 2060\n",
      "Data columns (total 8 columns):\n",
      " #   Column     Non-Null Count  Dtype   \n",
      "---  ------     --------------  -----   \n",
      " 0   id         2061 non-null   object  \n",
      " 1   end        2061 non-null   int64   \n",
      " 2   color      2061 non-null   object  \n",
      " 3   start      2061 non-null   int64   \n",
      " 4   line_id    2061 non-null   object  \n",
      " 5   distance   2061 non-null   float64 \n",
      " 6   direction  2061 non-null   int64   \n",
      " 7   geometry   2061 non-null   geometry\n",
      "dtypes: float64(1), geometry(1), int64(3), object(3)\n",
      "memory usage: 128.9+ KB\n"
     ]
    }
   ],
   "source": [
    "segment_gdf.info()"
   ]
  },
  {
   "cell_type": "code",
   "execution_count": 100,
   "metadata": {},
   "outputs": [],
   "source": [
    "segment_gdf['line_id'] = segment_gdf['line_id'].astype(int)"
   ]
  },
  {
   "cell_type": "code",
   "execution_count": 101,
   "metadata": {},
   "outputs": [],
   "source": [
    "segment_gdf = segment_gdf.drop(columns=[\"id\", \"color\"])"
   ]
  },
  {
   "cell_type": "markdown",
   "metadata": {},
   "source": [
    "Stops\n",
    "\n",
    "- DELTA -> CHIREC = direction 0 (V)\n",
    "- CHIREC -> DELTA = direction 1 (F)\n",
    "\n",
    "Segments\n",
    "\n",
    "- DELTA -> CHIREC = direction 1\n",
    "- CHIREC -> DELTA = direction 2"
   ]
  },
  {
   "cell_type": "code",
   "execution_count": 102,
   "metadata": {},
   "outputs": [],
   "source": [
    "# in direction, map 1 to 0 and 2 to 1\n",
    "segment_gdf[\"direction\"] = segment_gdf[\"direction\"] - 1"
   ]
  },
  {
   "cell_type": "code",
   "execution_count": 103,
   "metadata": {},
   "outputs": [],
   "source": [
    "# # Step 1: Group by 'line_id' and 'direction', then sort by 'distance'\n",
    "# segment_gdf = segment_gdf.sort_values(by=['line_id', 'direction', 'distance'])\n",
    "# # Step 2: Assign a row number to each row within each group\n",
    "# segment_gdf['segment_number'] = segment_gdf.groupby(['line_id', 'direction']).cumcount()\n",
    "# segment_gdf.head(10)"
   ]
  },
  {
   "cell_type": "code",
   "execution_count": 104,
   "metadata": {},
   "outputs": [
    {
     "data": {
      "text/html": [
       "<div>\n",
       "<style scoped>\n",
       "    .dataframe tbody tr th:only-of-type {\n",
       "        vertical-align: middle;\n",
       "    }\n",
       "\n",
       "    .dataframe tbody tr th {\n",
       "        vertical-align: top;\n",
       "    }\n",
       "\n",
       "    .dataframe thead th {\n",
       "        text-align: right;\n",
       "    }\n",
       "</style>\n",
       "<table border=\"1\" class=\"dataframe\">\n",
       "  <thead>\n",
       "    <tr style=\"text-align: right;\">\n",
       "      <th></th>\n",
       "      <th>end_stop_id</th>\n",
       "      <th>start_stop_id</th>\n",
       "      <th>line_id</th>\n",
       "      <th>distance</th>\n",
       "      <th>direction</th>\n",
       "      <th>geometry</th>\n",
       "    </tr>\n",
       "  </thead>\n",
       "  <tbody>\n",
       "    <tr>\n",
       "      <th>0</th>\n",
       "      <td>6433</td>\n",
       "      <td>1780</td>\n",
       "      <td>12</td>\n",
       "      <td>0.000000</td>\n",
       "      <td>0</td>\n",
       "      <td>LINESTRING (4.36479 50.84185, 4.36479 50.84185...</td>\n",
       "    </tr>\n",
       "    <tr>\n",
       "      <th>1</th>\n",
       "      <td>1131</td>\n",
       "      <td>6433</td>\n",
       "      <td>12</td>\n",
       "      <td>688.862247</td>\n",
       "      <td>0</td>\n",
       "      <td>LINESTRING (4.36712 50.84033, 4.36713 50.84032...</td>\n",
       "    </tr>\n",
       "    <tr>\n",
       "      <th>2</th>\n",
       "      <td>1418</td>\n",
       "      <td>1131</td>\n",
       "      <td>12</td>\n",
       "      <td>1734.101558</td>\n",
       "      <td>0</td>\n",
       "      <td>LINESTRING (4.37362 50.83978, 4.37396 50.84038...</td>\n",
       "    </tr>\n",
       "    <tr>\n",
       "      <th>3</th>\n",
       "      <td>2247</td>\n",
       "      <td>1418</td>\n",
       "      <td>12</td>\n",
       "      <td>3922.269263</td>\n",
       "      <td>0</td>\n",
       "      <td>LINESTRING (4.38391 50.84347, 4.38391 50.84347...</td>\n",
       "    </tr>\n",
       "    <tr>\n",
       "      <th>4</th>\n",
       "      <td>4556</td>\n",
       "      <td>2247</td>\n",
       "      <td>12</td>\n",
       "      <td>6843.167479</td>\n",
       "      <td>0</td>\n",
       "      <td>LINESTRING (4.39787 50.85398, 4.39803 50.85436...</td>\n",
       "    </tr>\n",
       "  </tbody>\n",
       "</table>\n",
       "</div>"
      ],
      "text/plain": [
       "   end_stop_id  start_stop_id  line_id     distance  direction  \\\n",
       "0         6433           1780       12     0.000000          0   \n",
       "1         1131           6433       12   688.862247          0   \n",
       "2         1418           1131       12  1734.101558          0   \n",
       "3         2247           1418       12  3922.269263          0   \n",
       "4         4556           2247       12  6843.167479          0   \n",
       "\n",
       "                                            geometry  \n",
       "0  LINESTRING (4.36479 50.84185, 4.36479 50.84185...  \n",
       "1  LINESTRING (4.36712 50.84033, 4.36713 50.84032...  \n",
       "2  LINESTRING (4.37362 50.83978, 4.37396 50.84038...  \n",
       "3  LINESTRING (4.38391 50.84347, 4.38391 50.84347...  \n",
       "4  LINESTRING (4.39787 50.85398, 4.39803 50.85436...  "
      ]
     },
     "execution_count": 104,
     "metadata": {},
     "output_type": "execute_result"
    }
   ],
   "source": [
    "segment_gdf.rename(columns={'start': 'start_stop_id', 'end': 'end_stop_id'}, inplace=True)\n",
    "segment_gdf.head()"
   ]
  },
  {
   "cell_type": "code",
   "execution_count": 105,
   "metadata": {},
   "outputs": [],
   "source": [
    "segment_gdf.drop(columns=[\"line_id\", \"direction\", \"distance\"], inplace=True)"
   ]
  },
  {
   "cell_type": "code",
   "execution_count": 106,
   "metadata": {},
   "outputs": [
    {
     "name": "stdout",
     "output_type": "stream",
     "text": [
      "(2061, 3)\n"
     ]
    }
   ],
   "source": [
    "print(segment_gdf.shape)"
   ]
  },
  {
   "cell_type": "code",
   "execution_count": 107,
   "metadata": {},
   "outputs": [],
   "source": [
    "segment_gdf.drop_duplicates(subset=[\"start_stop_id\", \"end_stop_id\"], inplace=True)"
   ]
  },
  {
   "cell_type": "code",
   "execution_count": 108,
   "metadata": {},
   "outputs": [
    {
     "name": "stdout",
     "output_type": "stream",
     "text": [
      "(1680, 3)\n"
     ]
    }
   ],
   "source": [
    "print(segment_gdf.shape)"
   ]
  },
  {
   "cell_type": "code",
   "execution_count": 109,
   "metadata": {},
   "outputs": [],
   "source": [
    "def reverse_coordinates(geometry):\n",
    "    if geometry.geom_type == 'LineString':\n",
    "        # Reverse the coordinates of each point in the LineString\n",
    "        reversed_coords = [(y, x) for x, y in geometry.coords]\n",
    "        return LineString(reversed_coords)\n",
    "    else:\n",
    "        # Handle other geometry types if necessary\n",
    "        return geometry"
   ]
  },
  {
   "cell_type": "code",
   "execution_count": 110,
   "metadata": {},
   "outputs": [],
   "source": [
    "segment_gdf['geometry'] = segment_gdf['geometry'].apply(reverse_coordinates)"
   ]
  },
  {
   "cell_type": "code",
   "execution_count": 111,
   "metadata": {},
   "outputs": [],
   "source": [
    "segment_gdf.to_file(\"preprocessed_data/Segments.geojson\", driver=\"GeoJSON\")"
   ]
  },
  {
   "cell_type": "markdown",
   "metadata": {},
   "source": [
    "## Time"
   ]
  },
  {
   "cell_type": "markdown",
   "metadata": {},
   "source": [
    "- TimeID\n",
    "- time\n",
    "- hour_offset\n",
    "- minute_offset\n",
    "- day\n",
    "- month\n",
    "- year\n",
    "- hour\n",
    "- minute"
   ]
  },
  {
   "cell_type": "markdown",
   "metadata": {},
   "source": [
    "### MT"
   ]
  },
  {
   "cell_type": "code",
   "execution_count": null,
   "metadata": {},
   "outputs": [],
   "source": [
    "start_date = datetime.strptime(\"2024-05-23 09:00:00\", \"%Y-%m-%d %H:%M:%S\")\n",
    "end_date = datetime.strptime(\"2024-05-23 18:00:00\", \"%Y-%m-%d %H:%M:%S\")"
   ]
  },
  {
   "cell_type": "code",
   "execution_count": null,
   "metadata": {},
   "outputs": [],
   "source": [
    "# Generate a list of datetime values from start_date to end_date at 10-minute intervals\n",
    "datetime_range = pd.date_range(start=start_date, end=end_date, freq='10T')\n",
    "\n",
    "# Calculate the hour and minute offsets\n",
    "hour_offset = (datetime_range - start_date).total_seconds() // 3600\n",
    "minute_offset = ((datetime_range - start_date).total_seconds() % 3600) // 60\n",
    "\n",
    "\n",
    "# Create the DataFrame\n",
    "time_df = pd.DataFrame({\n",
    "    'datetime': datetime_range,\n",
    "    'hour_offset': hour_offset,\n",
    "    'minute_offset': minute_offset,\n",
    "    'day': datetime_range.day,\n",
    "    'month': datetime_range.month,\n",
    "    'year': datetime_range.year,\n",
    "    'hour': datetime_range.hour,\n",
    "    'minute': datetime_range.minute\n",
    "})\n",
    "\n",
    "time_df.head(10)"
   ]
  },
  {
   "cell_type": "markdown",
   "metadata": {},
   "source": [
    "### GM"
   ]
  },
  {
   "cell_type": "code",
   "execution_count": 40,
   "metadata": {},
   "outputs": [],
   "source": [
    "def parse_date(date_str):\n",
    "    # Parse the datetime string\n",
    "    parsed_datetime = datetime.fromisoformat(date_str)\n",
    "    # Convert to the desired format\n",
    "    formatted_datetime = parsed_datetime.strftime(\"%Y-%m-%d %H:%M:%S\")\n",
    "    formatted_datetime = datetime.strptime(formatted_datetime, \"%Y-%m-%d %H:%M:%S\")\n",
    "    return formatted_datetime"
   ]
  },
  {
   "cell_type": "code",
   "execution_count": 41,
   "metadata": {},
   "outputs": [],
   "source": [
    "def round_to_nearest_10_minutes(dt):\n",
    "    \"\"\"\n",
    "    Rounds a datetime object to the nearest 10 minutes.\n",
    "\n",
    "    :param dt: datetime object to be rounded\n",
    "    :return: datetime object rounded to the nearest 10 minutes\n",
    "    \"\"\"\n",
    "    # Calculate the number of minutes to add or subtract to round to the nearest 10 minutes\n",
    "    new_minute = (dt.minute // 10) * 10\n",
    "    remainder = dt.minute % 10\n",
    "\n",
    "    if remainder >= 5:\n",
    "        # If the remainder is 5 or more, round up to the next 10 minutes\n",
    "        dt = dt.replace(minute=new_minute, second=0, microsecond=0) + timedelta(minutes=10)\n",
    "    else:\n",
    "        # Otherwise, round down to the nearest 10 minutes\n",
    "        dt = dt.replace(minute=new_minute, second=0, microsecond=0)\n",
    "    dt = dt.replace(second=0, microsecond=0)\n",
    "    return dt"
   ]
  },
  {
   "cell_type": "code",
   "execution_count": 42,
   "metadata": {},
   "outputs": [],
   "source": [
    "with open(\"data/gm_segment_speeds_aug27.pkl\", \"rb\") as f:\n",
    "    gm_segment_speeds = pickle.load(f)"
   ]
  },
  {
   "cell_type": "code",
   "execution_count": 43,
   "metadata": {},
   "outputs": [
    {
     "name": "stdout",
     "output_type": "stream",
     "text": [
      "4900\n"
     ]
    },
    {
     "data": {
      "text/plain": [
       "dict_keys([(12, 1, 0, 1), (12, 2, 0, 1), (13, 1, 0, 1), (13, 2, 0, 1), (14, 1, 0, 1), (14, 2, 0, 1), (17, 1, 0, 1), (17, 2, 0, 1), (20, 1, 0, 1), (20, 2, 0, 1), (21, 1, 0, 1), (21, 2, 0, 1), (27, 1, 0, 1), (27, 2, 0, 1), (28, 1, 0, 1), (28, 2, 0, 1), (29, 1, 0, 1), (29, 2, 0, 1), (33, 1, 0, 1), (33, 2, 0, 1), (34, 1, 0, 1), (34, 2, 0, 1), (36, 1, 0, 1), (36, 2, 0, 1), (37, 1, 0, 1), (37, 2, 0, 1), (38, 1, 0, 1), (38, 2, 0, 1), (41, 1, 0, 1), (41, 2, 0, 1), (42, 1, 0, 1), (42, 2, 0, 1), (43, 1, 0, 1), (43, 2, 0, 1), (45, 1, 0, 1), (45, 2, 0, 1), (46, 1, 0, 1), (46, 2, 0, 1), (47, 1, 0, 1), (47, 2, 0, 1), (49, 1, 0, 1), (49, 2, 0, 1), (50, 1, 0, 1), (50, 2, 0, 1), (52, 1, 0, 1), (52, 2, 0, 1), (53, 1, 0, 1), (53, 2, 0, 1), (54, 1, 0, 1), (54, 2, 0, 1), (56, 1, 0, 1), (56, 2, 0, 1), (57, 1, 0, 1), (57, 2, 0, 1), (58, 1, 0, 1), (58, 2, 0, 1), (59, 1, 0, 1), (59, 2, 0, 1), (61, 1, 0, 1), (61, 2, 0, 1), (63, 1, 0, 1), (63, 2, 0, 1), (64, 1, 0, 1), (64, 2, 0, 1), (65, 1, 0, 1), (65, 2, 0, 1), (66, 1, 0, 1), (66, 2, 0, 1), (69, 1, 0, 1), (69, 2, 0, 1), (71, 1, 0, 1), (71, 2, 0, 1), (72, 1, 0, 1), (72, 2, 0, 1), (74, 1, 0, 1), (74, 2, 0, 1), (75, 1, 0, 1), (75, 2, 0, 1), (76, 1, 0, 1), (76, 2, 0, 1), (77, 1, 0, 1), (77, 2, 0, 1), (78, 1, 0, 1), (78, 2, 0, 1), (79, 1, 0, 1), (79, 2, 0, 1), (80, 1, 0, 1), (80, 2, 0, 1), (83, 1, 0, 1), (83, 2, 0, 1), (86, 1, 0, 1), (86, 2, 0, 1), (87, 1, 0, 1), (87, 2, 0, 1), (88, 1, 0, 1), (88, 2, 0, 1), (89, 1, 0, 1), (89, 2, 0, 1), (95, 1, 0, 1), (95, 2, 0, 1), (12, 1, 0, 10), (12, 2, 0, 10), (13, 1, 0, 10), (13, 2, 0, 10), (14, 1, 0, 10), (14, 2, 0, 10), (17, 1, 0, 10), (17, 2, 0, 10), (20, 1, 0, 10), (20, 2, 0, 10), (21, 1, 0, 10), (21, 2, 0, 10), (27, 1, 0, 10), (27, 2, 0, 10), (28, 1, 0, 10), (28, 2, 0, 10), (29, 1, 0, 10), (29, 2, 0, 10), (33, 1, 0, 10), (33, 2, 0, 10), (34, 1, 0, 10), (34, 2, 0, 10), (36, 1, 0, 10), (36, 2, 0, 10), (37, 1, 0, 10), (37, 2, 0, 10), (38, 1, 0, 10), (38, 2, 0, 10), (41, 1, 0, 10), (41, 2, 0, 10), (42, 1, 0, 10), (42, 2, 0, 10), (43, 1, 0, 10), (43, 2, 0, 10), (45, 1, 0, 10), (45, 2, 0, 10), (46, 1, 0, 10), (46, 2, 0, 10), (47, 1, 0, 10), (47, 2, 0, 10), (49, 1, 0, 10), (49, 2, 0, 10), (50, 1, 0, 10), (50, 2, 0, 10), (52, 1, 0, 10), (52, 2, 0, 10), (53, 1, 0, 10), (53, 2, 0, 10), (54, 1, 0, 10), (54, 2, 0, 10), (56, 1, 0, 10), (56, 2, 0, 10), (57, 1, 0, 10), (57, 2, 0, 10), (58, 1, 0, 10), (58, 2, 0, 10), (59, 1, 0, 10), (59, 2, 0, 10), (61, 1, 0, 10), (61, 2, 0, 10), (63, 1, 0, 10), (63, 2, 0, 10), (64, 1, 0, 10), (64, 2, 0, 10), (65, 1, 0, 10), (65, 2, 0, 10), (66, 1, 0, 10), (66, 2, 0, 10), (69, 1, 0, 10), (69, 2, 0, 10), (71, 1, 0, 10), (71, 2, 0, 10), (72, 1, 0, 10), (72, 2, 0, 10), (74, 1, 0, 10), (74, 2, 0, 10), (75, 1, 0, 10), (75, 2, 0, 10), (76, 1, 0, 10), (76, 2, 0, 10), (77, 1, 0, 10), (77, 2, 0, 10), (78, 1, 0, 10), (78, 2, 0, 10), (79, 1, 0, 10), (79, 2, 0, 10), (80, 1, 0, 10), (80, 2, 0, 10), (83, 1, 0, 10), (83, 2, 0, 10), (86, 1, 0, 10), (86, 2, 0, 10), (87, 1, 0, 10), (87, 2, 0, 10), (88, 1, 0, 10), (88, 2, 0, 10), (89, 1, 0, 10), (89, 2, 0, 10), (95, 1, 0, 10), (95, 2, 0, 10), (12, 1, 0, 20), (12, 2, 0, 20), (13, 1, 0, 20), (13, 2, 0, 20), (14, 1, 0, 20), (14, 2, 0, 20), (17, 1, 0, 20), (17, 2, 0, 20), (20, 1, 0, 20), (20, 2, 0, 20), (21, 1, 0, 20), (21, 2, 0, 20), (27, 1, 0, 20), (27, 2, 0, 20), (28, 1, 0, 20), (28, 2, 0, 20), (29, 1, 0, 20), (29, 2, 0, 20), (33, 1, 0, 20), (33, 2, 0, 20), (34, 1, 0, 20), (34, 2, 0, 20), (36, 1, 0, 20), (36, 2, 0, 20), (37, 1, 0, 20), (37, 2, 0, 20), (38, 1, 0, 20), (38, 2, 0, 20), (41, 1, 0, 20), (41, 2, 0, 20), (42, 1, 0, 20), (42, 2, 0, 20), (43, 1, 0, 20), (43, 2, 0, 20), (45, 1, 0, 20), (45, 2, 0, 20), (46, 1, 0, 20), (46, 2, 0, 20), (47, 1, 0, 20), (47, 2, 0, 20), (49, 1, 0, 20), (49, 2, 0, 20), (50, 1, 0, 20), (50, 2, 0, 20), (52, 1, 0, 20), (52, 2, 0, 20), (53, 1, 0, 20), (53, 2, 0, 20), (54, 1, 0, 20), (54, 2, 0, 20), (56, 1, 0, 20), (56, 2, 0, 20), (57, 1, 0, 20), (57, 2, 0, 20), (58, 1, 0, 20), (58, 2, 0, 20), (59, 1, 0, 20), (59, 2, 0, 20), (61, 1, 0, 20), (61, 2, 0, 20), (63, 1, 0, 20), (63, 2, 0, 20), (64, 1, 0, 20), (64, 2, 0, 20), (65, 1, 0, 20), (65, 2, 0, 20), (66, 1, 0, 20), (66, 2, 0, 20), (69, 1, 0, 20), (69, 2, 0, 20), (71, 1, 0, 20), (71, 2, 0, 20), (72, 1, 0, 20), (72, 2, 0, 20), (74, 1, 0, 20), (74, 2, 0, 20), (75, 1, 0, 20), (75, 2, 0, 20), (76, 1, 0, 20), (76, 2, 0, 20), (77, 1, 0, 20), (77, 2, 0, 20), (78, 1, 0, 20), (78, 2, 0, 20), (79, 1, 0, 20), (79, 2, 0, 20), (80, 1, 0, 20), (80, 2, 0, 20), (83, 1, 0, 20), (83, 2, 0, 20), (86, 1, 0, 20), (86, 2, 0, 20), (87, 1, 0, 20), (87, 2, 0, 20), (88, 1, 0, 20), (88, 2, 0, 20), (89, 1, 0, 20), (89, 2, 0, 20), (95, 1, 0, 20), (95, 2, 0, 20), (12, 1, 0, 30), (12, 2, 0, 30), (13, 1, 0, 30), (13, 2, 0, 30), (14, 1, 0, 30), (14, 2, 0, 30), (17, 1, 0, 30), (17, 2, 0, 30), (20, 1, 0, 30), (20, 2, 0, 30), (21, 1, 0, 30), (21, 2, 0, 30), (27, 1, 0, 30), (27, 2, 0, 30), (28, 1, 0, 30), (28, 2, 0, 30), (29, 1, 0, 30), (29, 2, 0, 30), (33, 1, 0, 30), (33, 2, 0, 30), (34, 1, 0, 30), (34, 2, 0, 30), (36, 1, 0, 30), (36, 2, 0, 30), (37, 1, 0, 30), (37, 2, 0, 30), (38, 1, 0, 30), (38, 2, 0, 30), (41, 1, 0, 30), (41, 2, 0, 30), (42, 1, 0, 30), (42, 2, 0, 30), (43, 1, 0, 30), (43, 2, 0, 30), (45, 1, 0, 30), (45, 2, 0, 30), (46, 1, 0, 30), (46, 2, 0, 30), (47, 1, 0, 30), (47, 2, 0, 30), (49, 1, 0, 30), (49, 2, 0, 30), (50, 1, 0, 30), (50, 2, 0, 30), (52, 1, 0, 30), (52, 2, 0, 30), (53, 1, 0, 30), (53, 2, 0, 30), (54, 1, 0, 30), (54, 2, 0, 30), (56, 1, 0, 30), (56, 2, 0, 30), (57, 1, 0, 30), (57, 2, 0, 30), (58, 1, 0, 30), (58, 2, 0, 30), (59, 1, 0, 30), (59, 2, 0, 30), (61, 1, 0, 30), (61, 2, 0, 30), (63, 1, 0, 30), (63, 2, 0, 30), (64, 1, 0, 30), (64, 2, 0, 30), (65, 1, 0, 30), (65, 2, 0, 30), (66, 1, 0, 30), (66, 2, 0, 30), (69, 1, 0, 30), (69, 2, 0, 30), (71, 1, 0, 30), (71, 2, 0, 30), (72, 1, 0, 30), (72, 2, 0, 30), (74, 1, 0, 30), (74, 2, 0, 30), (75, 1, 0, 30), (75, 2, 0, 30), (76, 1, 0, 30), (76, 2, 0, 30), (77, 1, 0, 30), (77, 2, 0, 30), (78, 1, 0, 30), (78, 2, 0, 30), (79, 1, 0, 30), (79, 2, 0, 30), (80, 1, 0, 30), (80, 2, 0, 30), (83, 1, 0, 30), (83, 2, 0, 30), (86, 1, 0, 30), (86, 2, 0, 30), (87, 1, 0, 30), (87, 2, 0, 30), (88, 1, 0, 30), (88, 2, 0, 30), (89, 1, 0, 30), (89, 2, 0, 30), (95, 1, 0, 30), (95, 2, 0, 30), (12, 1, 0, 40), (12, 2, 0, 40), (13, 1, 0, 40), (13, 2, 0, 40), (14, 1, 0, 40), (14, 2, 0, 40), (17, 1, 0, 40), (17, 2, 0, 40), (20, 1, 0, 40), (20, 2, 0, 40), (21, 1, 0, 40), (21, 2, 0, 40), (27, 1, 0, 40), (27, 2, 0, 40), (28, 1, 0, 40), (28, 2, 0, 40), (29, 1, 0, 40), (29, 2, 0, 40), (33, 1, 0, 40), (33, 2, 0, 40), (34, 1, 0, 40), (34, 2, 0, 40), (36, 1, 0, 40), (36, 2, 0, 40), (37, 1, 0, 40), (37, 2, 0, 40), (38, 1, 0, 40), (38, 2, 0, 40), (41, 1, 0, 40), (41, 2, 0, 40), (42, 1, 0, 40), (42, 2, 0, 40), (43, 1, 0, 40), (43, 2, 0, 40), (45, 1, 0, 40), (45, 2, 0, 40), (46, 1, 0, 40), (46, 2, 0, 40), (47, 1, 0, 40), (47, 2, 0, 40), (49, 1, 0, 40), (49, 2, 0, 40), (50, 1, 0, 40), (50, 2, 0, 40), (52, 1, 0, 40), (52, 2, 0, 40), (53, 1, 0, 40), (53, 2, 0, 40), (54, 1, 0, 40), (54, 2, 0, 40), (56, 1, 0, 40), (56, 2, 0, 40), (57, 1, 0, 40), (57, 2, 0, 40), (58, 1, 0, 40), (58, 2, 0, 40), (59, 1, 0, 40), (59, 2, 0, 40), (61, 1, 0, 40), (61, 2, 0, 40), (63, 1, 0, 40), (63, 2, 0, 40), (64, 1, 0, 40), (64, 2, 0, 40), (65, 1, 0, 40), (65, 2, 0, 40), (66, 1, 0, 40), (66, 2, 0, 40), (69, 1, 0, 40), (69, 2, 0, 40), (71, 1, 0, 40), (71, 2, 0, 40), (72, 1, 0, 40), (72, 2, 0, 40), (74, 1, 0, 40), (74, 2, 0, 40), (75, 1, 0, 40), (75, 2, 0, 40), (76, 1, 0, 40), (76, 2, 0, 40), (77, 1, 0, 40), (77, 2, 0, 40), (78, 1, 0, 40), (78, 2, 0, 40), (79, 1, 0, 40), (79, 2, 0, 40), (80, 1, 0, 40), (80, 2, 0, 40), (83, 1, 0, 40), (83, 2, 0, 40), (86, 1, 0, 40), (86, 2, 0, 40), (87, 1, 0, 40), (87, 2, 0, 40), (88, 1, 0, 40), (88, 2, 0, 40), (89, 1, 0, 40), (89, 2, 0, 40), (95, 1, 0, 40), (95, 2, 0, 40), (12, 1, 0, 50), (12, 2, 0, 50), (13, 1, 0, 50), (13, 2, 0, 50), (14, 1, 0, 50), (14, 2, 0, 50), (17, 1, 0, 50), (17, 2, 0, 50), (20, 1, 0, 50), (20, 2, 0, 50), (21, 1, 0, 50), (21, 2, 0, 50), (27, 1, 0, 50), (27, 2, 0, 50), (28, 1, 0, 50), (28, 2, 0, 50), (29, 1, 0, 50), (29, 2, 0, 50), (33, 1, 0, 50), (33, 2, 0, 50), (34, 1, 0, 50), (34, 2, 0, 50), (36, 1, 0, 50), (36, 2, 0, 50), (37, 1, 0, 50), (37, 2, 0, 50), (38, 1, 0, 50), (38, 2, 0, 50), (41, 1, 0, 50), (41, 2, 0, 50), (42, 1, 0, 50), (42, 2, 0, 50), (43, 1, 0, 50), (43, 2, 0, 50), (45, 1, 0, 50), (45, 2, 0, 50), (46, 1, 0, 50), (46, 2, 0, 50), (47, 1, 0, 50), (47, 2, 0, 50), (49, 1, 0, 50), (49, 2, 0, 50), (50, 1, 0, 50), (50, 2, 0, 50), (52, 1, 0, 50), (52, 2, 0, 50), (53, 1, 0, 50), (53, 2, 0, 50), (54, 1, 0, 50), (54, 2, 0, 50), (56, 1, 0, 50), (56, 2, 0, 50), (57, 1, 0, 50), (57, 2, 0, 50), (58, 1, 0, 50), (58, 2, 0, 50), (59, 1, 0, 50), (59, 2, 0, 50), (61, 1, 0, 50), (61, 2, 0, 50), (63, 1, 0, 50), (63, 2, 0, 50), (64, 1, 0, 50), (64, 2, 0, 50), (65, 1, 0, 50), (65, 2, 0, 50), (66, 1, 0, 50), (66, 2, 0, 50), (69, 1, 0, 50), (69, 2, 0, 50), (71, 1, 0, 50), (71, 2, 0, 50), (72, 1, 0, 50), (72, 2, 0, 50), (74, 1, 0, 50), (74, 2, 0, 50), (75, 1, 0, 50), (75, 2, 0, 50), (76, 1, 0, 50), (76, 2, 0, 50), (77, 1, 0, 50), (77, 2, 0, 50), (78, 1, 0, 50), (78, 2, 0, 50), (79, 1, 0, 50), (79, 2, 0, 50), (80, 1, 0, 50), (80, 2, 0, 50), (83, 1, 0, 50), (83, 2, 0, 50), (86, 1, 0, 50), (86, 2, 0, 50), (87, 1, 0, 50), (87, 2, 0, 50), (88, 1, 0, 50), (88, 2, 0, 50), (89, 1, 0, 50), (89, 2, 0, 50), (95, 1, 0, 50), (95, 2, 0, 50), (12, 1, 1, 0), (12, 2, 1, 0), (13, 1, 1, 0), (13, 2, 1, 0), (14, 1, 1, 0), (14, 2, 1, 0), (17, 1, 1, 0), (17, 2, 1, 0), (20, 1, 1, 0), (20, 2, 1, 0), (21, 1, 1, 0), (21, 2, 1, 0), (27, 1, 1, 0), (27, 2, 1, 0), (28, 1, 1, 0), (28, 2, 1, 0), (29, 1, 1, 0), (29, 2, 1, 0), (33, 1, 1, 0), (33, 2, 1, 0), (34, 1, 1, 0), (34, 2, 1, 0), (36, 1, 1, 0), (36, 2, 1, 0), (37, 1, 1, 0), (37, 2, 1, 0), (38, 1, 1, 0), (38, 2, 1, 0), (41, 1, 1, 0), (41, 2, 1, 0), (42, 1, 1, 0), (42, 2, 1, 0), (43, 1, 1, 0), (43, 2, 1, 0), (45, 1, 1, 0), (45, 2, 1, 0), (46, 1, 1, 0), (46, 2, 1, 0), (47, 1, 1, 0), (47, 2, 1, 0), (49, 1, 1, 0), (49, 2, 1, 0), (50, 1, 1, 0), (50, 2, 1, 0), (52, 1, 1, 0), (52, 2, 1, 0), (53, 1, 1, 0), (53, 2, 1, 0), (54, 1, 1, 0), (54, 2, 1, 0), (56, 1, 1, 0), (56, 2, 1, 0), (57, 1, 1, 0), (57, 2, 1, 0), (58, 1, 1, 0), (58, 2, 1, 0), (59, 1, 1, 0), (59, 2, 1, 0), (61, 1, 1, 0), (61, 2, 1, 0), (63, 1, 1, 0), (63, 2, 1, 0), (64, 1, 1, 0), (64, 2, 1, 0), (65, 1, 1, 0), (65, 2, 1, 0), (66, 1, 1, 0), (66, 2, 1, 0), (69, 1, 1, 0), (69, 2, 1, 0), (71, 1, 1, 0), (71, 2, 1, 0), (72, 1, 1, 0), (72, 2, 1, 0), (74, 1, 1, 0), (74, 2, 1, 0), (75, 1, 1, 0), (75, 2, 1, 0), (76, 1, 1, 0), (76, 2, 1, 0), (77, 1, 1, 0), (77, 2, 1, 0), (78, 1, 1, 0), (78, 2, 1, 0), (79, 1, 1, 0), (79, 2, 1, 0), (80, 1, 1, 0), (80, 2, 1, 0), (83, 1, 1, 0), (83, 2, 1, 0), (86, 1, 1, 0), (86, 2, 1, 0), (87, 1, 1, 0), (87, 2, 1, 0), (88, 1, 1, 0), (88, 2, 1, 0), (89, 1, 1, 0), (89, 2, 1, 0), (95, 1, 1, 0), (95, 2, 1, 0), (12, 1, 1, 10), (12, 2, 1, 10), (13, 1, 1, 10), (13, 2, 1, 10), (14, 1, 1, 10), (14, 2, 1, 10), (17, 1, 1, 10), (17, 2, 1, 10), (20, 1, 1, 10), (20, 2, 1, 10), (21, 1, 1, 10), (21, 2, 1, 10), (27, 1, 1, 10), (27, 2, 1, 10), (28, 1, 1, 10), (28, 2, 1, 10), (29, 1, 1, 10), (29, 2, 1, 10), (33, 1, 1, 10), (33, 2, 1, 10), (34, 1, 1, 10), (34, 2, 1, 10), (36, 1, 1, 10), (36, 2, 1, 10), (37, 1, 1, 10), (37, 2, 1, 10), (38, 1, 1, 10), (38, 2, 1, 10), (41, 1, 1, 10), (41, 2, 1, 10), (42, 1, 1, 10), (42, 2, 1, 10), (43, 1, 1, 10), (43, 2, 1, 10), (45, 1, 1, 10), (45, 2, 1, 10), (46, 1, 1, 10), (46, 2, 1, 10), (47, 1, 1, 10), (47, 2, 1, 10), (49, 1, 1, 10), (49, 2, 1, 10), (50, 1, 1, 10), (50, 2, 1, 10), (52, 1, 1, 10), (52, 2, 1, 10), (53, 1, 1, 10), (53, 2, 1, 10), (54, 1, 1, 10), (54, 2, 1, 10), (56, 1, 1, 10), (56, 2, 1, 10), (57, 1, 1, 10), (57, 2, 1, 10), (58, 1, 1, 10), (58, 2, 1, 10), (59, 1, 1, 10), (59, 2, 1, 10), (61, 1, 1, 10), (61, 2, 1, 10), (63, 1, 1, 10), (63, 2, 1, 10), (64, 1, 1, 10), (64, 2, 1, 10), (65, 1, 1, 10), (65, 2, 1, 10), (66, 1, 1, 10), (66, 2, 1, 10), (69, 1, 1, 10), (69, 2, 1, 10), (71, 1, 1, 10), (71, 2, 1, 10), (72, 1, 1, 10), (72, 2, 1, 10), (74, 1, 1, 10), (74, 2, 1, 10), (75, 1, 1, 10), (75, 2, 1, 10), (76, 1, 1, 10), (76, 2, 1, 10), (77, 1, 1, 10), (77, 2, 1, 10), (78, 1, 1, 10), (78, 2, 1, 10), (79, 1, 1, 10), (79, 2, 1, 10), (80, 1, 1, 10), (80, 2, 1, 10), (83, 1, 1, 10), (83, 2, 1, 10), (86, 1, 1, 10), (86, 2, 1, 10), (87, 1, 1, 10), (87, 2, 1, 10), (88, 1, 1, 10), (88, 2, 1, 10), (89, 1, 1, 10), (89, 2, 1, 10), (95, 1, 1, 10), (95, 2, 1, 10), (12, 1, 1, 20), (12, 2, 1, 20), (13, 1, 1, 20), (13, 2, 1, 20), (14, 1, 1, 20), (14, 2, 1, 20), (17, 1, 1, 20), (17, 2, 1, 20), (20, 1, 1, 20), (20, 2, 1, 20), (21, 1, 1, 20), (21, 2, 1, 20), (27, 1, 1, 20), (27, 2, 1, 20), (28, 1, 1, 20), (28, 2, 1, 20), (29, 1, 1, 20), (29, 2, 1, 20), (33, 1, 1, 20), (33, 2, 1, 20), (34, 1, 1, 20), (34, 2, 1, 20), (36, 1, 1, 20), (36, 2, 1, 20), (37, 1, 1, 20), (37, 2, 1, 20), (38, 1, 1, 20), (38, 2, 1, 20), (41, 1, 1, 20), (41, 2, 1, 20), (42, 1, 1, 20), (42, 2, 1, 20), (43, 1, 1, 20), (43, 2, 1, 20), (45, 1, 1, 20), (45, 2, 1, 20), (46, 1, 1, 20), (46, 2, 1, 20), (47, 1, 1, 20), (47, 2, 1, 20), (49, 1, 1, 20), (49, 2, 1, 20), (50, 1, 1, 20), (50, 2, 1, 20), (52, 1, 1, 20), (52, 2, 1, 20), (53, 1, 1, 20), (53, 2, 1, 20), (54, 1, 1, 20), (54, 2, 1, 20), (56, 1, 1, 20), (56, 2, 1, 20), (57, 1, 1, 20), (57, 2, 1, 20), (58, 1, 1, 20), (58, 2, 1, 20), (59, 1, 1, 20), (59, 2, 1, 20), (61, 1, 1, 20), (61, 2, 1, 20), (63, 1, 1, 20), (63, 2, 1, 20), (64, 1, 1, 20), (64, 2, 1, 20), (65, 1, 1, 20), (65, 2, 1, 20), (66, 1, 1, 20), (66, 2, 1, 20), (69, 1, 1, 20), (69, 2, 1, 20), (71, 1, 1, 20), (71, 2, 1, 20), (72, 1, 1, 20), (72, 2, 1, 20), (74, 1, 1, 20), (74, 2, 1, 20), (75, 1, 1, 20), (75, 2, 1, 20), (76, 1, 1, 20), (76, 2, 1, 20), (77, 1, 1, 20), (77, 2, 1, 20), (78, 1, 1, 20), (78, 2, 1, 20), (79, 1, 1, 20), (79, 2, 1, 20), (80, 1, 1, 20), (80, 2, 1, 20), (83, 1, 1, 20), (83, 2, 1, 20), (86, 1, 1, 20), (86, 2, 1, 20), (87, 1, 1, 20), (87, 2, 1, 20), (88, 1, 1, 20), (88, 2, 1, 20), (89, 1, 1, 20), (89, 2, 1, 20), (95, 1, 1, 20), (95, 2, 1, 20), (12, 1, 1, 30), (12, 2, 1, 30), (13, 1, 1, 30), (13, 2, 1, 30), (14, 1, 1, 30), (14, 2, 1, 30), (17, 1, 1, 30), (17, 2, 1, 30), (20, 1, 1, 30), (20, 2, 1, 30), (21, 1, 1, 30), (21, 2, 1, 30), (27, 1, 1, 30), (27, 2, 1, 30), (28, 1, 1, 30), (28, 2, 1, 30), (29, 1, 1, 30), (29, 2, 1, 30), (33, 1, 1, 30), (33, 2, 1, 30), (34, 1, 1, 30), (34, 2, 1, 30), (36, 1, 1, 30), (36, 2, 1, 30), (37, 1, 1, 30), (37, 2, 1, 30), (38, 1, 1, 30), (38, 2, 1, 30), (41, 1, 1, 30), (41, 2, 1, 30), (42, 1, 1, 30), (42, 2, 1, 30), (43, 1, 1, 30), (43, 2, 1, 30), (45, 1, 1, 30), (45, 2, 1, 30), (46, 1, 1, 30), (46, 2, 1, 30), (47, 1, 1, 30), (47, 2, 1, 30), (49, 1, 1, 30), (49, 2, 1, 30), (50, 1, 1, 30), (50, 2, 1, 30), (52, 1, 1, 30), (52, 2, 1, 30), (53, 1, 1, 30), (53, 2, 1, 30), (54, 1, 1, 30), (54, 2, 1, 30), (56, 1, 1, 30), (56, 2, 1, 30), (57, 1, 1, 30), (57, 2, 1, 30), (58, 1, 1, 30), (58, 2, 1, 30), (59, 1, 1, 30), (59, 2, 1, 30), (61, 1, 1, 30), (61, 2, 1, 30), (63, 1, 1, 30), (63, 2, 1, 30), (64, 1, 1, 30), (64, 2, 1, 30), (65, 1, 1, 30), (65, 2, 1, 30), (66, 1, 1, 30), (66, 2, 1, 30), (69, 1, 1, 30), (69, 2, 1, 30), (71, 1, 1, 30), (71, 2, 1, 30), (72, 1, 1, 30), (72, 2, 1, 30), (74, 1, 1, 30), (74, 2, 1, 30), (75, 1, 1, 30), (75, 2, 1, 30), (76, 1, 1, 30), (76, 2, 1, 30), (77, 1, 1, 30), (77, 2, 1, 30), (78, 1, 1, 30), (78, 2, 1, 30), (79, 1, 1, 30), (79, 2, 1, 30), (80, 1, 1, 30), (80, 2, 1, 30), (83, 1, 1, 30), (83, 2, 1, 30), (86, 1, 1, 30), (86, 2, 1, 30), (87, 1, 1, 30), (87, 2, 1, 30), (88, 1, 1, 30), (88, 2, 1, 30), (89, 1, 1, 30), (89, 2, 1, 30), (95, 1, 1, 30), (95, 2, 1, 30), (12, 1, 1, 40), (12, 2, 1, 40), (13, 1, 1, 40), (13, 2, 1, 40), (14, 1, 1, 40), (14, 2, 1, 40), (17, 1, 1, 40), (17, 2, 1, 40), (20, 1, 1, 40), (20, 2, 1, 40), (21, 1, 1, 40), (21, 2, 1, 40), (27, 1, 1, 40), (27, 2, 1, 40), (28, 1, 1, 40), (28, 2, 1, 40), (29, 1, 1, 40), (29, 2, 1, 40), (33, 1, 1, 40), (33, 2, 1, 40), (34, 1, 1, 40), (34, 2, 1, 40), (36, 1, 1, 40), (36, 2, 1, 40), (37, 1, 1, 40), (37, 2, 1, 40), (38, 1, 1, 40), (38, 2, 1, 40), (41, 1, 1, 40), (41, 2, 1, 40), (42, 1, 1, 40), (42, 2, 1, 40), (43, 1, 1, 40), (43, 2, 1, 40), (45, 1, 1, 40), (45, 2, 1, 40), (46, 1, 1, 40), (46, 2, 1, 40), (47, 1, 1, 40), (47, 2, 1, 40), (49, 1, 1, 40), (49, 2, 1, 40), (50, 1, 1, 40), (50, 2, 1, 40), (52, 1, 1, 40), (52, 2, 1, 40), (53, 1, 1, 40), (53, 2, 1, 40), (54, 1, 1, 40), (54, 2, 1, 40), (56, 1, 1, 40), (56, 2, 1, 40), (57, 1, 1, 40), (57, 2, 1, 40), (58, 1, 1, 40), (58, 2, 1, 40), (59, 1, 1, 40), (59, 2, 1, 40), (61, 1, 1, 40), (61, 2, 1, 40), (63, 1, 1, 40), (63, 2, 1, 40), (64, 1, 1, 40), (64, 2, 1, 40), (65, 1, 1, 40), (65, 2, 1, 40), (66, 1, 1, 40), (66, 2, 1, 40), (69, 1, 1, 40), (69, 2, 1, 40), (71, 1, 1, 40), (71, 2, 1, 40), (72, 1, 1, 40), (72, 2, 1, 40), (74, 1, 1, 40), (74, 2, 1, 40), (75, 1, 1, 40), (75, 2, 1, 40), (76, 1, 1, 40), (76, 2, 1, 40), (77, 1, 1, 40), (77, 2, 1, 40), (78, 1, 1, 40), (78, 2, 1, 40), (79, 1, 1, 40), (79, 2, 1, 40), (80, 1, 1, 40), (80, 2, 1, 40), (83, 1, 1, 40), (83, 2, 1, 40), (86, 1, 1, 40), (86, 2, 1, 40), (87, 1, 1, 40), (87, 2, 1, 40), (88, 1, 1, 40), (88, 2, 1, 40), (89, 1, 1, 40), (89, 2, 1, 40), (95, 1, 1, 40), (95, 2, 1, 40), (12, 1, 1, 50), (12, 2, 1, 50), (13, 1, 1, 50), (13, 2, 1, 50), (14, 1, 1, 50), (14, 2, 1, 50), (17, 1, 1, 50), (17, 2, 1, 50), (20, 1, 1, 50), (20, 2, 1, 50), (21, 1, 1, 50), (21, 2, 1, 50), (27, 1, 1, 50), (27, 2, 1, 50), (28, 1, 1, 50), (28, 2, 1, 50), (29, 1, 1, 50), (29, 2, 1, 50), (33, 1, 1, 50), (33, 2, 1, 50), (34, 1, 1, 50), (34, 2, 1, 50), (36, 1, 1, 50), (36, 2, 1, 50), (37, 1, 1, 50), (37, 2, 1, 50), (38, 1, 1, 50), (38, 2, 1, 50), (41, 1, 1, 50), (41, 2, 1, 50), (42, 1, 1, 50), (42, 2, 1, 50), (43, 1, 1, 50), (43, 2, 1, 50), (45, 1, 1, 50), (45, 2, 1, 50), (46, 1, 1, 50), (46, 2, 1, 50), (47, 1, 1, 50), (47, 2, 1, 50), (49, 1, 1, 50), (49, 2, 1, 50), (50, 1, 1, 50), (50, 2, 1, 50), (52, 1, 1, 50), (52, 2, 1, 50), (53, 1, 1, 50), (53, 2, 1, 50), (54, 1, 1, 50), (54, 2, 1, 50), (56, 1, 1, 50), (56, 2, 1, 50), (57, 1, 1, 50), (57, 2, 1, 50), (58, 1, 1, 50), (58, 2, 1, 50), (59, 1, 1, 50), (59, 2, 1, 50), (61, 1, 1, 50), (61, 2, 1, 50), (63, 1, 1, 50), (63, 2, 1, 50), (64, 1, 1, 50), (64, 2, 1, 50), (65, 1, 1, 50), (65, 2, 1, 50), (66, 1, 1, 50), (66, 2, 1, 50), (69, 1, 1, 50), (69, 2, 1, 50), (71, 1, 1, 50), (71, 2, 1, 50), (72, 1, 1, 50), (72, 2, 1, 50), (74, 1, 1, 50), (74, 2, 1, 50), (75, 1, 1, 50), (75, 2, 1, 50), (76, 1, 1, 50), (76, 2, 1, 50), (77, 1, 1, 50), (77, 2, 1, 50), (78, 1, 1, 50), (78, 2, 1, 50), (79, 1, 1, 50), (79, 2, 1, 50), (80, 1, 1, 50), (80, 2, 1, 50), (83, 1, 1, 50), (83, 2, 1, 50), (86, 1, 1, 50), (86, 2, 1, 50), (87, 1, 1, 50), (87, 2, 1, 50), (88, 1, 1, 50), (88, 2, 1, 50), (89, 1, 1, 50), (89, 2, 1, 50), (95, 1, 1, 50), (95, 2, 1, 50), (12, 1, 2, 0), (12, 2, 2, 0), (13, 1, 2, 0), (13, 2, 2, 0), (14, 1, 2, 0), (14, 2, 2, 0), (17, 1, 2, 0), (17, 2, 2, 0), (20, 1, 2, 0), (20, 2, 2, 0), (21, 1, 2, 0), (21, 2, 2, 0), (27, 1, 2, 0), (27, 2, 2, 0), (28, 1, 2, 0), (28, 2, 2, 0), (29, 1, 2, 0), (29, 2, 2, 0), (33, 1, 2, 0), (33, 2, 2, 0), (34, 1, 2, 0), (34, 2, 2, 0), (36, 1, 2, 0), (36, 2, 2, 0), (37, 1, 2, 0), (37, 2, 2, 0), (38, 1, 2, 0), (38, 2, 2, 0), (41, 1, 2, 0), (41, 2, 2, 0), (42, 1, 2, 0), (42, 2, 2, 0), (43, 1, 2, 0), (43, 2, 2, 0), (45, 1, 2, 0), (45, 2, 2, 0), (46, 1, 2, 0), (46, 2, 2, 0), (47, 1, 2, 0), (47, 2, 2, 0), (49, 1, 2, 0), (49, 2, 2, 0), (50, 1, 2, 0), (50, 2, 2, 0), (52, 1, 2, 0), (52, 2, 2, 0), (53, 1, 2, 0), (53, 2, 2, 0), (54, 1, 2, 0), (54, 2, 2, 0), (56, 1, 2, 0), (56, 2, 2, 0), (57, 1, 2, 0), (57, 2, 2, 0), (58, 1, 2, 0), (58, 2, 2, 0), (59, 1, 2, 0), (59, 2, 2, 0), (61, 1, 2, 0), (61, 2, 2, 0), (63, 1, 2, 0), (63, 2, 2, 0), (64, 1, 2, 0), (64, 2, 2, 0), (65, 1, 2, 0), (65, 2, 2, 0), (66, 1, 2, 0), (66, 2, 2, 0), (69, 1, 2, 0), (69, 2, 2, 0), (71, 1, 2, 0), (71, 2, 2, 0), (72, 1, 2, 0), (72, 2, 2, 0), (74, 1, 2, 0), (74, 2, 2, 0), (75, 1, 2, 0), (75, 2, 2, 0), (76, 1, 2, 0), (76, 2, 2, 0), (77, 1, 2, 0), (77, 2, 2, 0), (78, 1, 2, 0), (78, 2, 2, 0), (79, 1, 2, 0), (79, 2, 2, 0), (80, 1, 2, 0), (80, 2, 2, 0), (83, 1, 2, 0), (83, 2, 2, 0), (86, 1, 2, 0), (86, 2, 2, 0), (87, 1, 2, 0), (87, 2, 2, 0), (88, 1, 2, 0), (88, 2, 2, 0), (89, 1, 2, 0), (89, 2, 2, 0), (95, 1, 2, 0), (95, 2, 2, 0), (12, 1, 2, 10), (12, 2, 2, 10), (13, 1, 2, 10), (13, 2, 2, 10), (14, 1, 2, 10), (14, 2, 2, 10), (17, 1, 2, 10), (17, 2, 2, 10), (20, 1, 2, 10), (20, 2, 2, 10), (21, 1, 2, 10), (21, 2, 2, 10), (27, 1, 2, 10), (27, 2, 2, 10), (28, 1, 2, 10), (28, 2, 2, 10), (29, 1, 2, 10), (29, 2, 2, 10), (33, 1, 2, 10), (33, 2, 2, 10), (34, 1, 2, 10), (34, 2, 2, 10), (36, 1, 2, 10), (36, 2, 2, 10), (37, 1, 2, 10), (37, 2, 2, 10), (38, 1, 2, 10), (38, 2, 2, 10), (41, 1, 2, 10), (41, 2, 2, 10), (42, 1, 2, 10), (42, 2, 2, 10), (43, 1, 2, 10), (43, 2, 2, 10), (45, 1, 2, 10), (45, 2, 2, 10), (46, 1, 2, 10), (46, 2, 2, 10), (47, 1, 2, 10), (47, 2, 2, 10), (49, 1, 2, 10), (49, 2, 2, 10), (50, 1, 2, 10), (50, 2, 2, 10), (52, 1, 2, 10), (52, 2, 2, 10), (53, 1, 2, 10), (53, 2, 2, 10), (54, 1, 2, 10), (54, 2, 2, 10), (56, 1, 2, 10), (56, 2, 2, 10), (57, 1, 2, 10), (57, 2, 2, 10), (58, 1, 2, 10), (58, 2, 2, 10), (59, 1, 2, 10), (59, 2, 2, 10), (61, 1, 2, 10), (61, 2, 2, 10), (63, 1, 2, 10), (63, 2, 2, 10), (64, 1, 2, 10), (64, 2, 2, 10), (65, 1, 2, 10), (65, 2, 2, 10), (66, 1, 2, 10), (66, 2, 2, 10), (69, 1, 2, 10), (69, 2, 2, 10), (71, 1, 2, 10), (71, 2, 2, 10), (72, 1, 2, 10), (72, 2, 2, 10), (74, 1, 2, 10), (74, 2, 2, 10), (75, 1, 2, 10), (75, 2, 2, 10), (76, 1, 2, 10), (76, 2, 2, 10), (77, 1, 2, 10), (77, 2, 2, 10), (78, 1, 2, 10), (78, 2, 2, 10), (79, 1, 2, 10), (79, 2, 2, 10), (80, 1, 2, 10), (80, 2, 2, 10), (83, 1, 2, 10), (83, 2, 2, 10), (86, 1, 2, 10), (86, 2, 2, 10), (87, 1, 2, 10), (87, 2, 2, 10), (88, 1, 2, 10), (88, 2, 2, 10), (89, 1, 2, 10), (89, 2, 2, 10), (95, 1, 2, 10), (95, 2, 2, 10), (12, 1, 2, 20), (12, 2, 2, 20), (13, 1, 2, 20), (13, 2, 2, 20), (14, 1, 2, 20), (14, 2, 2, 20), (17, 1, 2, 20), (17, 2, 2, 20), (20, 1, 2, 20), (20, 2, 2, 20), (21, 1, 2, 20), (21, 2, 2, 20), (27, 1, 2, 20), (27, 2, 2, 20), (28, 1, 2, 20), (28, 2, 2, 20), (29, 1, 2, 20), (29, 2, 2, 20), (33, 1, 2, 20), (33, 2, 2, 20), (34, 1, 2, 20), (34, 2, 2, 20), (36, 1, 2, 20), (36, 2, 2, 20), (37, 1, 2, 20), (37, 2, 2, 20), (38, 1, 2, 20), (38, 2, 2, 20), (41, 1, 2, 20), (41, 2, 2, 20), (42, 1, 2, 20), (42, 2, 2, 20), (43, 1, 2, 20), (43, 2, 2, 20), (45, 1, 2, 20), (45, 2, 2, 20), (46, 1, 2, 20), (46, 2, 2, 20), (47, 1, 2, 20), (47, 2, 2, 20), (49, 1, 2, 20), (49, 2, 2, 20), (50, 1, 2, 20), (50, 2, 2, 20), (52, 1, 2, 20), (52, 2, 2, 20), (53, 1, 2, 20), (53, 2, 2, 20), (54, 1, 2, 20), (54, 2, 2, 20), (56, 1, 2, 20), (56, 2, 2, 20), (57, 1, 2, 20), (57, 2, 2, 20), (58, 1, 2, 20), (58, 2, 2, 20), (59, 1, 2, 20), (59, 2, 2, 20), (61, 1, 2, 20), (61, 2, 2, 20), (63, 1, 2, 20), (63, 2, 2, 20), (64, 1, 2, 20), (64, 2, 2, 20), (65, 1, 2, 20), (65, 2, 2, 20), (66, 1, 2, 20), (66, 2, 2, 20), (69, 1, 2, 20), (69, 2, 2, 20), (71, 1, 2, 20), (71, 2, 2, 20), (72, 1, 2, 20), (72, 2, 2, 20), (74, 1, 2, 20), (74, 2, 2, 20), (75, 1, 2, 20), (75, 2, 2, 20), (76, 1, 2, 20), (76, 2, 2, 20), (77, 1, 2, 20), (77, 2, 2, 20), (78, 1, 2, 20), (78, 2, 2, 20), (79, 1, 2, 20), (79, 2, 2, 20), (80, 1, 2, 20), (80, 2, 2, 20), (83, 1, 2, 20), (83, 2, 2, 20), (86, 1, 2, 20), (86, 2, 2, 20), (87, 1, 2, 20), (87, 2, 2, 20), (88, 1, 2, 20), (88, 2, 2, 20), (89, 1, 2, 20), (89, 2, 2, 20), (95, 1, 2, 20), (95, 2, 2, 20), (12, 1, 2, 30), (12, 2, 2, 30), (13, 1, 2, 30), (13, 2, 2, 30), (14, 1, 2, 30), (14, 2, 2, 30), (17, 1, 2, 30), (17, 2, 2, 30), (20, 1, 2, 30), (20, 2, 2, 30), (21, 1, 2, 30), (21, 2, 2, 30), (27, 1, 2, 30), (27, 2, 2, 30), (28, 1, 2, 30), (28, 2, 2, 30), (29, 1, 2, 30), (29, 2, 2, 30), (33, 1, 2, 30), (33, 2, 2, 30), (34, 1, 2, 30), (34, 2, 2, 30), (36, 1, 2, 30), (36, 2, 2, 30), (37, 1, 2, 30), (37, 2, 2, 30), (38, 1, 2, 30), (38, 2, 2, 30), (41, 1, 2, 30), (41, 2, 2, 30), (42, 1, 2, 30), (42, 2, 2, 30), (43, 1, 2, 30), (43, 2, 2, 30), (45, 1, 2, 30), (45, 2, 2, 30), (46, 1, 2, 30), (46, 2, 2, 30), (47, 1, 2, 30), (47, 2, 2, 30), (49, 1, 2, 30), (49, 2, 2, 30), (50, 1, 2, 30), (50, 2, 2, 30), (52, 1, 2, 30), (52, 2, 2, 30), (53, 1, 2, 30), (53, 2, 2, 30), (54, 1, 2, 30), (54, 2, 2, 30), (56, 1, 2, 30), (56, 2, 2, 30), (57, 1, 2, 30), (57, 2, 2, 30), (58, 1, 2, 30), (58, 2, 2, 30), (59, 1, 2, 30), (59, 2, 2, 30), (61, 1, 2, 30), (61, 2, 2, 30), (63, 1, 2, 30), (63, 2, 2, 30), (64, 1, 2, 30), (64, 2, 2, 30), (65, 1, 2, 30), (65, 2, 2, 30), (66, 1, 2, 30), (66, 2, 2, 30), (69, 1, 2, 30), (69, 2, 2, 30), (71, 1, 2, 30), (71, 2, 2, 30), (72, 1, 2, 30), (72, 2, 2, 30), (74, 1, 2, 30), (74, 2, 2, 30), (75, 1, 2, 30), (75, 2, 2, 30), (76, 1, 2, 30), (76, 2, 2, 30), (77, 1, 2, 30), (77, 2, 2, 30), (78, 1, 2, 30), (78, 2, 2, 30), (79, 1, 2, 30), (79, 2, 2, 30), (80, 1, 2, 30), (80, 2, 2, 30), (83, 1, 2, 30), (83, 2, 2, 30), (86, 1, 2, 30), (86, 2, 2, 30), (87, 1, 2, 30), (87, 2, 2, 30), (88, 1, 2, 30), (88, 2, 2, 30), (89, 1, 2, 30), (89, 2, 2, 30), (95, 1, 2, 30), (95, 2, 2, 30), (12, 1, 2, 40), (12, 2, 2, 40), (13, 1, 2, 40), (13, 2, 2, 40), (14, 1, 2, 40), (14, 2, 2, 40), (17, 1, 2, 40), (17, 2, 2, 40), (20, 1, 2, 40), (20, 2, 2, 40), (21, 1, 2, 40), (21, 2, 2, 40), (27, 1, 2, 40), (27, 2, 2, 40), (28, 1, 2, 40), (28, 2, 2, 40), (29, 1, 2, 40), (29, 2, 2, 40), (33, 1, 2, 40), (33, 2, 2, 40), (34, 1, 2, 40), (34, 2, 2, 40), (36, 1, 2, 40), (36, 2, 2, 40), (37, 1, 2, 40), (37, 2, 2, 40), (38, 1, 2, 40), (38, 2, 2, 40), (41, 1, 2, 40), (41, 2, 2, 40), (42, 1, 2, 40), (42, 2, 2, 40), (43, 1, 2, 40), (43, 2, 2, 40), (45, 1, 2, 40), (45, 2, 2, 40), (46, 1, 2, 40), (46, 2, 2, 40), (47, 1, 2, 40), (47, 2, 2, 40), (49, 1, 2, 40), (49, 2, 2, 40), (50, 1, 2, 40), (50, 2, 2, 40), (52, 1, 2, 40), (52, 2, 2, 40), (53, 1, 2, 40), (53, 2, 2, 40), (54, 1, 2, 40), (54, 2, 2, 40), (56, 1, 2, 40), (56, 2, 2, 40), (57, 1, 2, 40), (57, 2, 2, 40), (58, 1, 2, 40), (58, 2, 2, 40), (59, 1, 2, 40), (59, 2, 2, 40), (61, 1, 2, 40), (61, 2, 2, 40), (63, 1, 2, 40), (63, 2, 2, 40), (64, 1, 2, 40), (64, 2, 2, 40), (65, 1, 2, 40), (65, 2, 2, 40), (66, 1, 2, 40), (66, 2, 2, 40), (69, 1, 2, 40), (69, 2, 2, 40), (71, 1, 2, 40), (71, 2, 2, 40), (72, 1, 2, 40), (72, 2, 2, 40), (74, 1, 2, 40), (74, 2, 2, 40), (75, 1, 2, 40), (75, 2, 2, 40), (76, 1, 2, 40), (76, 2, 2, 40), (77, 1, 2, 40), (77, 2, 2, 40), (78, 1, 2, 40), (78, 2, 2, 40), (79, 1, 2, 40), (79, 2, 2, 40), (80, 1, 2, 40), (80, 2, 2, 40), (83, 1, 2, 40), (83, 2, 2, 40), (86, 1, 2, 40), (86, 2, 2, 40), (87, 1, 2, 40), (87, 2, 2, 40), (88, 1, 2, 40), (88, 2, 2, 40), (89, 1, 2, 40), (89, 2, 2, 40), (95, 1, 2, 40), (95, 2, 2, 40), (12, 1, 2, 50), (12, 2, 2, 50), (13, 1, 2, 50), (13, 2, 2, 50), (14, 1, 2, 50), (14, 2, 2, 50), (17, 1, 2, 50), (17, 2, 2, 50), (20, 1, 2, 50), (20, 2, 2, 50), (21, 1, 2, 50), (21, 2, 2, 50), (27, 1, 2, 50), (27, 2, 2, 50), (28, 1, 2, 50), (28, 2, 2, 50), (29, 1, 2, 50), (29, 2, 2, 50), (33, 1, 2, 50), (33, 2, 2, 50), (34, 1, 2, 50), (34, 2, 2, 50), (36, 1, 2, 50), (36, 2, 2, 50), (37, 1, 2, 50), (37, 2, 2, 50), (38, 1, 2, 50), (38, 2, 2, 50), (41, 1, 2, 50), (41, 2, 2, 50), (42, 1, 2, 50), (42, 2, 2, 50), (43, 1, 2, 50), (43, 2, 2, 50), (45, 1, 2, 50), (45, 2, 2, 50), (46, 1, 2, 50), (46, 2, 2, 50), (47, 1, 2, 50), (47, 2, 2, 50), (49, 1, 2, 50), (49, 2, 2, 50), (50, 1, 2, 50), (50, 2, 2, 50), (52, 1, 2, 50), (52, 2, 2, 50), (53, 1, 2, 50), (53, 2, 2, 50), (54, 1, 2, 50), (54, 2, 2, 50), (56, 1, 2, 50), (56, 2, 2, 50), (57, 1, 2, 50), (57, 2, 2, 50), (58, 1, 2, 50), (58, 2, 2, 50), (59, 1, 2, 50), (59, 2, 2, 50), (61, 1, 2, 50), (61, 2, 2, 50), (63, 1, 2, 50), (63, 2, 2, 50), (64, 1, 2, 50), (64, 2, 2, 50), (65, 1, 2, 50), (65, 2, 2, 50), (66, 1, 2, 50), (66, 2, 2, 50), (69, 1, 2, 50), (69, 2, 2, 50), (71, 1, 2, 50), (71, 2, 2, 50), (72, 1, 2, 50), (72, 2, 2, 50), (74, 1, 2, 50), (74, 2, 2, 50), (75, 1, 2, 50), (75, 2, 2, 50), (76, 1, 2, 50), (76, 2, 2, 50), (77, 1, 2, 50), (77, 2, 2, 50), (78, 1, 2, 50), (78, 2, 2, 50), (79, 1, 2, 50), (79, 2, 2, 50), (80, 1, 2, 50), (80, 2, 2, 50), (83, 1, 2, 50), (83, 2, 2, 50), (86, 1, 2, 50), (86, 2, 2, 50), (87, 1, 2, 50), (87, 2, 2, 50), (88, 1, 2, 50), (88, 2, 2, 50), (89, 1, 2, 50), (89, 2, 2, 50), (95, 1, 2, 50), (95, 2, 2, 50), (12, 1, 3, 0), (12, 2, 3, 0), (13, 1, 3, 0), (13, 2, 3, 0), (14, 1, 3, 0), (14, 2, 3, 0), (17, 1, 3, 0), (17, 2, 3, 0), (20, 1, 3, 0), (20, 2, 3, 0), (21, 1, 3, 0), (21, 2, 3, 0), (27, 1, 3, 0), (27, 2, 3, 0), (28, 1, 3, 0), (28, 2, 3, 0), (29, 1, 3, 0), (29, 2, 3, 0), (33, 1, 3, 0), (33, 2, 3, 0), (34, 1, 3, 0), (34, 2, 3, 0), (36, 1, 3, 0), (36, 2, 3, 0), (37, 1, 3, 0), (37, 2, 3, 0), (38, 1, 3, 0), (38, 2, 3, 0), (41, 1, 3, 0), (41, 2, 3, 0), (42, 1, 3, 0), (42, 2, 3, 0), (43, 1, 3, 0), (43, 2, 3, 0), (45, 1, 3, 0), (45, 2, 3, 0), (46, 1, 3, 0), (46, 2, 3, 0), (47, 1, 3, 0), (47, 2, 3, 0), (49, 1, 3, 0), (49, 2, 3, 0), (50, 1, 3, 0), (50, 2, 3, 0), (52, 1, 3, 0), (52, 2, 3, 0), (53, 1, 3, 0), (53, 2, 3, 0), (54, 1, 3, 0), (54, 2, 3, 0), (56, 1, 3, 0), (56, 2, 3, 0), (57, 1, 3, 0), (57, 2, 3, 0), (58, 1, 3, 0), (58, 2, 3, 0), (59, 1, 3, 0), (59, 2, 3, 0), (61, 1, 3, 0), (61, 2, 3, 0), (63, 1, 3, 0), (63, 2, 3, 0), (64, 1, 3, 0), (64, 2, 3, 0), (65, 1, 3, 0), (65, 2, 3, 0), (66, 1, 3, 0), (66, 2, 3, 0), (69, 1, 3, 0), (69, 2, 3, 0), (71, 1, 3, 0), (71, 2, 3, 0), (72, 1, 3, 0), (72, 2, 3, 0), (74, 1, 3, 0), (74, 2, 3, 0), (75, 1, 3, 0), (75, 2, 3, 0), (76, 1, 3, 0), (76, 2, 3, 0), (77, 1, 3, 0), (77, 2, 3, 0), (78, 1, 3, 0), (78, 2, 3, 0), (79, 1, 3, 0), (79, 2, 3, 0), (80, 1, 3, 0), (80, 2, 3, 0), (83, 1, 3, 0), (83, 2, 3, 0), (86, 1, 3, 0), (86, 2, 3, 0), (87, 1, 3, 0), (87, 2, 3, 0), (88, 1, 3, 0), (88, 2, 3, 0), (89, 1, 3, 0), (89, 2, 3, 0), (95, 1, 3, 0), (95, 2, 3, 0), (12, 1, 3, 10), (12, 2, 3, 10), (13, 1, 3, 10), (13, 2, 3, 10), (14, 1, 3, 10), (14, 2, 3, 10), (17, 1, 3, 10), (17, 2, 3, 10), (20, 1, 3, 10), (20, 2, 3, 10), (21, 1, 3, 10), (21, 2, 3, 10), (27, 1, 3, 10), (27, 2, 3, 10), (28, 1, 3, 10), (28, 2, 3, 10), (29, 1, 3, 10), (29, 2, 3, 10), (33, 1, 3, 10), (33, 2, 3, 10), (34, 1, 3, 10), (34, 2, 3, 10), (36, 1, 3, 10), (36, 2, 3, 10), (37, 1, 3, 10), (37, 2, 3, 10), (38, 1, 3, 10), (38, 2, 3, 10), (41, 1, 3, 10), (41, 2, 3, 10), (42, 1, 3, 10), (42, 2, 3, 10), (43, 1, 3, 10), (43, 2, 3, 10), (45, 1, 3, 10), (45, 2, 3, 10), (46, 1, 3, 10), (46, 2, 3, 10), (47, 1, 3, 10), (47, 2, 3, 10), (49, 1, 3, 10), (49, 2, 3, 10), (50, 1, 3, 10), (50, 2, 3, 10), (52, 1, 3, 10), (52, 2, 3, 10), (53, 1, 3, 10), (53, 2, 3, 10), (54, 1, 3, 10), (54, 2, 3, 10), (56, 1, 3, 10), (56, 2, 3, 10), (57, 1, 3, 10), (57, 2, 3, 10), (58, 1, 3, 10), (58, 2, 3, 10), (59, 1, 3, 10), (59, 2, 3, 10), (61, 1, 3, 10), (61, 2, 3, 10), (63, 1, 3, 10), (63, 2, 3, 10), (64, 1, 3, 10), (64, 2, 3, 10), (65, 1, 3, 10), (65, 2, 3, 10), (66, 1, 3, 10), (66, 2, 3, 10), (69, 1, 3, 10), (69, 2, 3, 10), (71, 1, 3, 10), (71, 2, 3, 10), (72, 1, 3, 10), (72, 2, 3, 10), (74, 1, 3, 10), (74, 2, 3, 10), (75, 1, 3, 10), (75, 2, 3, 10), (76, 1, 3, 10), (76, 2, 3, 10), (77, 1, 3, 10), (77, 2, 3, 10), (78, 1, 3, 10), (78, 2, 3, 10), (79, 1, 3, 10), (79, 2, 3, 10), (80, 1, 3, 10), (80, 2, 3, 10), (83, 1, 3, 10), (83, 2, 3, 10), (86, 1, 3, 10), (86, 2, 3, 10), (87, 1, 3, 10), (87, 2, 3, 10), (88, 1, 3, 10), (88, 2, 3, 10), (89, 1, 3, 10), (89, 2, 3, 10), (95, 1, 3, 10), (95, 2, 3, 10), (12, 1, 3, 20), (12, 2, 3, 20), (13, 1, 3, 20), (13, 2, 3, 20), (14, 1, 3, 20), (14, 2, 3, 20), (17, 1, 3, 20), (17, 2, 3, 20), (20, 1, 3, 20), (20, 2, 3, 20), (21, 1, 3, 20), (21, 2, 3, 20), (27, 1, 3, 20), (27, 2, 3, 20), (28, 1, 3, 20), (28, 2, 3, 20), (29, 1, 3, 20), (29, 2, 3, 20), (33, 1, 3, 20), (33, 2, 3, 20), (34, 1, 3, 20), (34, 2, 3, 20), (36, 1, 3, 20), (36, 2, 3, 20), (37, 1, 3, 20), (37, 2, 3, 20), (38, 1, 3, 20), (38, 2, 3, 20), (41, 1, 3, 20), (41, 2, 3, 20), (42, 1, 3, 20), (42, 2, 3, 20), (43, 1, 3, 20), (43, 2, 3, 20), (45, 1, 3, 20), (45, 2, 3, 20), (46, 1, 3, 20), (46, 2, 3, 20), (47, 1, 3, 20), (47, 2, 3, 20), (49, 1, 3, 20), (49, 2, 3, 20), (50, 1, 3, 20), (50, 2, 3, 20), (52, 1, 3, 20), (52, 2, 3, 20), (53, 1, 3, 20), (53, 2, 3, 20), (54, 1, 3, 20), (54, 2, 3, 20), (56, 1, 3, 20), (56, 2, 3, 20), (57, 1, 3, 20), (57, 2, 3, 20), (58, 1, 3, 20), (58, 2, 3, 20), (59, 1, 3, 20), (59, 2, 3, 20), (61, 1, 3, 20), (61, 2, 3, 20), (63, 1, 3, 20), (63, 2, 3, 20), (64, 1, 3, 20), (64, 2, 3, 20), (65, 1, 3, 20), (65, 2, 3, 20), (66, 1, 3, 20), (66, 2, 3, 20), (69, 1, 3, 20), (69, 2, 3, 20), (71, 1, 3, 20), (71, 2, 3, 20), (72, 1, 3, 20), (72, 2, 3, 20), (74, 1, 3, 20), (74, 2, 3, 20), (75, 1, 3, 20), (75, 2, 3, 20), (76, 1, 3, 20), (76, 2, 3, 20), (77, 1, 3, 20), (77, 2, 3, 20), (78, 1, 3, 20), (78, 2, 3, 20), (79, 1, 3, 20), (79, 2, 3, 20), (80, 1, 3, 20), (80, 2, 3, 20), (83, 1, 3, 20), (83, 2, 3, 20), (86, 1, 3, 20), (86, 2, 3, 20), (87, 1, 3, 20), (87, 2, 3, 20), (88, 1, 3, 20), (88, 2, 3, 20), (89, 1, 3, 20), (89, 2, 3, 20), (95, 1, 3, 20), (95, 2, 3, 20), (12, 1, 3, 30), (12, 2, 3, 30), (13, 1, 3, 30), (13, 2, 3, 30), (14, 1, 3, 30), (14, 2, 3, 30), (17, 1, 3, 30), (17, 2, 3, 30), (20, 1, 3, 30), (20, 2, 3, 30), (21, 1, 3, 30), (21, 2, 3, 30), (27, 1, 3, 30), (27, 2, 3, 30), (28, 1, 3, 30), (28, 2, 3, 30), (29, 1, 3, 30), (29, 2, 3, 30), (33, 1, 3, 30), (33, 2, 3, 30), (34, 1, 3, 30), (34, 2, 3, 30), (36, 1, 3, 30), (36, 2, 3, 30), (37, 1, 3, 30), (37, 2, 3, 30), (38, 1, 3, 30), (38, 2, 3, 30), (41, 1, 3, 30), (41, 2, 3, 30), (42, 1, 3, 30), (42, 2, 3, 30), (43, 1, 3, 30), (43, 2, 3, 30), (45, 1, 3, 30), (45, 2, 3, 30), (46, 1, 3, 30), (46, 2, 3, 30), (47, 1, 3, 30), (47, 2, 3, 30), (49, 1, 3, 30), (49, 2, 3, 30), (50, 1, 3, 30), (50, 2, 3, 30), (52, 1, 3, 30), (52, 2, 3, 30), (53, 1, 3, 30), (53, 2, 3, 30), (54, 1, 3, 30), (54, 2, 3, 30), (56, 1, 3, 30), (56, 2, 3, 30), (57, 1, 3, 30), (57, 2, 3, 30), (58, 1, 3, 30), (58, 2, 3, 30), (59, 1, 3, 30), (59, 2, 3, 30), (61, 1, 3, 30), (61, 2, 3, 30), (63, 1, 3, 30), (63, 2, 3, 30), (64, 1, 3, 30), (64, 2, 3, 30), (65, 1, 3, 30), (65, 2, 3, 30), (66, 1, 3, 30), (66, 2, 3, 30), (69, 1, 3, 30), (69, 2, 3, 30), (71, 1, 3, 30), (71, 2, 3, 30), (72, 1, 3, 30), (72, 2, 3, 30), (74, 1, 3, 30), (74, 2, 3, 30), (75, 1, 3, 30), (75, 2, 3, 30), (76, 1, 3, 30), (76, 2, 3, 30), (77, 1, 3, 30), (77, 2, 3, 30), (78, 1, 3, 30), (78, 2, 3, 30), (79, 1, 3, 30), (79, 2, 3, 30), (80, 1, 3, 30), (80, 2, 3, 30), (83, 1, 3, 30), (83, 2, 3, 30), (86, 1, 3, 30), (86, 2, 3, 30), (87, 1, 3, 30), (87, 2, 3, 30), (88, 1, 3, 30), (88, 2, 3, 30), (89, 1, 3, 30), (89, 2, 3, 30), (95, 1, 3, 30), (95, 2, 3, 30), (12, 1, 3, 40), (12, 2, 3, 40), (13, 1, 3, 40), (13, 2, 3, 40), (14, 1, 3, 40), (14, 2, 3, 40), (17, 1, 3, 40), (17, 2, 3, 40), (20, 1, 3, 40), (20, 2, 3, 40), (21, 1, 3, 40), (21, 2, 3, 40), (27, 1, 3, 40), (27, 2, 3, 40), (28, 1, 3, 40), (28, 2, 3, 40), (29, 1, 3, 40), (29, 2, 3, 40), (33, 1, 3, 40), (33, 2, 3, 40), (34, 1, 3, 40), (34, 2, 3, 40), (36, 1, 3, 40), (36, 2, 3, 40), (37, 1, 3, 40), (37, 2, 3, 40), (38, 1, 3, 40), (38, 2, 3, 40), (41, 1, 3, 40), (41, 2, 3, 40), (42, 1, 3, 40), (42, 2, 3, 40), (43, 1, 3, 40), (43, 2, 3, 40), (45, 1, 3, 40), (45, 2, 3, 40), (46, 1, 3, 40), (46, 2, 3, 40), (47, 1, 3, 40), (47, 2, 3, 40), (49, 1, 3, 40), (49, 2, 3, 40), (50, 1, 3, 40), (50, 2, 3, 40), (52, 1, 3, 40), (52, 2, 3, 40), (53, 1, 3, 40), (53, 2, 3, 40), (54, 1, 3, 40), (54, 2, 3, 40), (56, 1, 3, 40), (56, 2, 3, 40), (57, 1, 3, 40), (57, 2, 3, 40), (58, 1, 3, 40), (58, 2, 3, 40), (59, 1, 3, 40), (59, 2, 3, 40), (61, 1, 3, 40), (61, 2, 3, 40), (63, 1, 3, 40), (63, 2, 3, 40), (64, 1, 3, 40), (64, 2, 3, 40), (65, 1, 3, 40), (65, 2, 3, 40), (66, 1, 3, 40), (66, 2, 3, 40), (69, 1, 3, 40), (69, 2, 3, 40), (71, 1, 3, 40), (71, 2, 3, 40), (72, 1, 3, 40), (72, 2, 3, 40), (74, 1, 3, 40), (74, 2, 3, 40), (75, 1, 3, 40), (75, 2, 3, 40), (76, 1, 3, 40), (76, 2, 3, 40), (77, 1, 3, 40), (77, 2, 3, 40), (78, 1, 3, 40), (78, 2, 3, 40), (79, 1, 3, 40), (79, 2, 3, 40), (80, 1, 3, 40), (80, 2, 3, 40), (83, 1, 3, 40), (83, 2, 3, 40), (86, 1, 3, 40), (86, 2, 3, 40), (87, 1, 3, 40), (87, 2, 3, 40), (88, 1, 3, 40), (88, 2, 3, 40), (89, 1, 3, 40), (89, 2, 3, 40), (95, 1, 3, 40), (95, 2, 3, 40), (12, 1, 3, 50), (12, 2, 3, 50), (13, 1, 3, 50), (13, 2, 3, 50), (14, 1, 3, 50), (14, 2, 3, 50), (17, 1, 3, 50), (17, 2, 3, 50), (20, 1, 3, 50), (20, 2, 3, 50), (21, 1, 3, 50), (21, 2, 3, 50), (27, 1, 3, 50), (27, 2, 3, 50), (28, 1, 3, 50), (28, 2, 3, 50), (29, 1, 3, 50), (29, 2, 3, 50), (33, 1, 3, 50), (33, 2, 3, 50), (34, 1, 3, 50), (34, 2, 3, 50), (36, 1, 3, 50), (36, 2, 3, 50), (37, 1, 3, 50), (37, 2, 3, 50), (38, 1, 3, 50), (38, 2, 3, 50), (41, 1, 3, 50), (41, 2, 3, 50), (42, 1, 3, 50), (42, 2, 3, 50), (43, 1, 3, 50), (43, 2, 3, 50), (45, 1, 3, 50), (45, 2, 3, 50), (46, 1, 3, 50), (46, 2, 3, 50), (47, 1, 3, 50), (47, 2, 3, 50), (49, 1, 3, 50), (49, 2, 3, 50), (50, 1, 3, 50), (50, 2, 3, 50), (52, 1, 3, 50), (52, 2, 3, 50), (53, 1, 3, 50), (53, 2, 3, 50), (54, 1, 3, 50), (54, 2, 3, 50), (56, 1, 3, 50), (56, 2, 3, 50), (57, 1, 3, 50), (57, 2, 3, 50), (58, 1, 3, 50), (58, 2, 3, 50), (59, 1, 3, 50), (59, 2, 3, 50), (61, 1, 3, 50), (61, 2, 3, 50), (63, 1, 3, 50), (63, 2, 3, 50), (64, 1, 3, 50), (64, 2, 3, 50), (65, 1, 3, 50), (65, 2, 3, 50), (66, 1, 3, 50), (66, 2, 3, 50), (69, 1, 3, 50), (69, 2, 3, 50), (71, 1, 3, 50), (71, 2, 3, 50), (72, 1, 3, 50), (72, 2, 3, 50), (74, 1, 3, 50), (74, 2, 3, 50), (75, 1, 3, 50), (75, 2, 3, 50), (76, 1, 3, 50), (76, 2, 3, 50), (77, 1, 3, 50), (77, 2, 3, 50), (78, 1, 3, 50), (78, 2, 3, 50), (79, 1, 3, 50), (79, 2, 3, 50), (80, 1, 3, 50), (80, 2, 3, 50), (83, 1, 3, 50), (83, 2, 3, 50), (86, 1, 3, 50), (86, 2, 3, 50), (87, 1, 3, 50), (87, 2, 3, 50), (88, 1, 3, 50), (88, 2, 3, 50), (89, 1, 3, 50), (89, 2, 3, 50), (95, 1, 3, 50), (95, 2, 3, 50), (12, 1, 4, 0), (12, 2, 4, 0), (13, 1, 4, 0), (13, 2, 4, 0), (14, 1, 4, 0), (14, 2, 4, 0), (17, 1, 4, 0), (17, 2, 4, 0), (20, 1, 4, 0), (20, 2, 4, 0), (21, 1, 4, 0), (21, 2, 4, 0), (27, 1, 4, 0), (27, 2, 4, 0), (28, 1, 4, 0), (28, 2, 4, 0), (29, 1, 4, 0), (29, 2, 4, 0), (33, 1, 4, 0), (33, 2, 4, 0), (34, 1, 4, 0), (34, 2, 4, 0), (36, 1, 4, 0), (36, 2, 4, 0), (37, 1, 4, 0), (37, 2, 4, 0), (38, 1, 4, 0), (38, 2, 4, 0), (41, 1, 4, 0), (41, 2, 4, 0), (42, 1, 4, 0), (42, 2, 4, 0), (43, 1, 4, 0), (43, 2, 4, 0), (45, 1, 4, 0), (45, 2, 4, 0), (46, 1, 4, 0), (46, 2, 4, 0), (47, 1, 4, 0), (47, 2, 4, 0), (49, 1, 4, 0), (49, 2, 4, 0), (50, 1, 4, 0), (50, 2, 4, 0), (52, 1, 4, 0), (52, 2, 4, 0), (53, 1, 4, 0), (53, 2, 4, 0), (54, 1, 4, 0), (54, 2, 4, 0), (56, 1, 4, 0), (56, 2, 4, 0), (57, 1, 4, 0), (57, 2, 4, 0), (58, 1, 4, 0), (58, 2, 4, 0), (59, 1, 4, 0), (59, 2, 4, 0), (61, 1, 4, 0), (61, 2, 4, 0), (63, 1, 4, 0), (63, 2, 4, 0), (64, 1, 4, 0), (64, 2, 4, 0), (65, 1, 4, 0), (65, 2, 4, 0), (66, 1, 4, 0), (66, 2, 4, 0), (69, 1, 4, 0), (69, 2, 4, 0), (71, 1, 4, 0), (71, 2, 4, 0), (72, 1, 4, 0), (72, 2, 4, 0), (74, 1, 4, 0), (74, 2, 4, 0), (75, 1, 4, 0), (75, 2, 4, 0), (76, 1, 4, 0), (76, 2, 4, 0), (77, 1, 4, 0), (77, 2, 4, 0), (78, 1, 4, 0), (78, 2, 4, 0), (79, 1, 4, 0), (79, 2, 4, 0), (80, 1, 4, 0), (80, 2, 4, 0), (83, 1, 4, 0), (83, 2, 4, 0), (86, 1, 4, 0), (86, 2, 4, 0), (87, 1, 4, 0), (87, 2, 4, 0), (88, 1, 4, 0), (88, 2, 4, 0), (89, 1, 4, 0), (89, 2, 4, 0), (95, 1, 4, 0), (95, 2, 4, 0), (12, 1, 4, 10), (12, 2, 4, 10), (13, 1, 4, 10), (13, 2, 4, 10), (14, 1, 4, 10), (14, 2, 4, 10), (17, 1, 4, 10), (17, 2, 4, 10), (20, 1, 4, 10), (20, 2, 4, 10), (21, 1, 4, 10), (21, 2, 4, 10), (27, 1, 4, 10), (27, 2, 4, 10), (28, 1, 4, 10), (28, 2, 4, 10), (29, 1, 4, 10), (29, 2, 4, 10), (33, 1, 4, 10), (33, 2, 4, 10), (34, 1, 4, 10), (34, 2, 4, 10), (36, 1, 4, 10), (36, 2, 4, 10), (37, 1, 4, 10), (37, 2, 4, 10), (38, 1, 4, 10), (38, 2, 4, 10), (41, 1, 4, 10), (41, 2, 4, 10), (42, 1, 4, 10), (42, 2, 4, 10), (43, 1, 4, 10), (43, 2, 4, 10), (45, 1, 4, 10), (45, 2, 4, 10), (46, 1, 4, 10), (46, 2, 4, 10), (47, 1, 4, 10), (47, 2, 4, 10), (49, 1, 4, 10), (49, 2, 4, 10), (50, 1, 4, 10), (50, 2, 4, 10), (52, 1, 4, 10), (52, 2, 4, 10), (53, 1, 4, 10), (53, 2, 4, 10), (54, 1, 4, 10), (54, 2, 4, 10), (56, 1, 4, 10), (56, 2, 4, 10), (57, 1, 4, 10), (57, 2, 4, 10), (58, 1, 4, 10), (58, 2, 4, 10), (59, 1, 4, 10), (59, 2, 4, 10), (61, 1, 4, 10), (61, 2, 4, 10), (63, 1, 4, 10), (63, 2, 4, 10), (64, 1, 4, 10), (64, 2, 4, 10), (65, 1, 4, 10), (65, 2, 4, 10), (66, 1, 4, 10), (66, 2, 4, 10), (69, 1, 4, 10), (69, 2, 4, 10), (71, 1, 4, 10), (71, 2, 4, 10), (72, 1, 4, 10), (72, 2, 4, 10), (74, 1, 4, 10), (74, 2, 4, 10), (75, 1, 4, 10), (75, 2, 4, 10), (76, 1, 4, 10), (76, 2, 4, 10), (77, 1, 4, 10), (77, 2, 4, 10), (78, 1, 4, 10), (78, 2, 4, 10), (79, 1, 4, 10), (79, 2, 4, 10), (80, 1, 4, 10), (80, 2, 4, 10), (83, 1, 4, 10), (83, 2, 4, 10), (86, 1, 4, 10), (86, 2, 4, 10), (87, 1, 4, 10), (87, 2, 4, 10), (88, 1, 4, 10), (88, 2, 4, 10), (89, 1, 4, 10), (89, 2, 4, 10), (95, 1, 4, 10), (95, 2, 4, 10), (12, 1, 4, 20), (12, 2, 4, 20), (13, 1, 4, 20), (13, 2, 4, 20), (14, 1, 4, 20), (14, 2, 4, 20), (17, 1, 4, 20), (17, 2, 4, 20), (20, 1, 4, 20), (20, 2, 4, 20), (21, 1, 4, 20), (21, 2, 4, 20), (27, 1, 4, 20), (27, 2, 4, 20), (28, 1, 4, 20), (28, 2, 4, 20), (29, 1, 4, 20), (29, 2, 4, 20), (33, 1, 4, 20), (33, 2, 4, 20), (34, 1, 4, 20), (34, 2, 4, 20), (36, 1, 4, 20), (36, 2, 4, 20), (37, 1, 4, 20), (37, 2, 4, 20), (38, 1, 4, 20), (38, 2, 4, 20), (41, 1, 4, 20), (41, 2, 4, 20), (42, 1, 4, 20), (42, 2, 4, 20), (43, 1, 4, 20), (43, 2, 4, 20), (45, 1, 4, 20), (45, 2, 4, 20), (46, 1, 4, 20), (46, 2, 4, 20), (47, 1, 4, 20), (47, 2, 4, 20), (49, 1, 4, 20), (49, 2, 4, 20), (50, 1, 4, 20), (50, 2, 4, 20), (52, 1, 4, 20), (52, 2, 4, 20), (53, 1, 4, 20), (53, 2, 4, 20), (54, 1, 4, 20), (54, 2, 4, 20), (56, 1, 4, 20), (56, 2, 4, 20), (57, 1, 4, 20), (57, 2, 4, 20), (58, 1, 4, 20), (58, 2, 4, 20), (59, 1, 4, 20), (59, 2, 4, 20), (61, 1, 4, 20), (61, 2, 4, 20), (63, 1, 4, 20), (63, 2, 4, 20), (64, 1, 4, 20), (64, 2, 4, 20), (65, 1, 4, 20), (65, 2, 4, 20), (66, 1, 4, 20), (66, 2, 4, 20), (69, 1, 4, 20), (69, 2, 4, 20), (71, 1, 4, 20), (71, 2, 4, 20), (72, 1, 4, 20), (72, 2, 4, 20), (74, 1, 4, 20), (74, 2, 4, 20), (75, 1, 4, 20), (75, 2, 4, 20), (76, 1, 4, 20), (76, 2, 4, 20), (77, 1, 4, 20), (77, 2, 4, 20), (78, 1, 4, 20), (78, 2, 4, 20), (79, 1, 4, 20), (79, 2, 4, 20), (80, 1, 4, 20), (80, 2, 4, 20), (83, 1, 4, 20), (83, 2, 4, 20), (86, 1, 4, 20), (86, 2, 4, 20), (87, 1, 4, 20), (87, 2, 4, 20), (88, 1, 4, 20), (88, 2, 4, 20), (89, 1, 4, 20), (89, 2, 4, 20), (95, 1, 4, 20), (95, 2, 4, 20), (12, 1, 4, 30), (12, 2, 4, 30), (13, 1, 4, 30), (13, 2, 4, 30), (14, 1, 4, 30), (14, 2, 4, 30), (17, 1, 4, 30), (17, 2, 4, 30), (20, 1, 4, 30), (20, 2, 4, 30), (21, 1, 4, 30), (21, 2, 4, 30), (27, 1, 4, 30), (27, 2, 4, 30), (28, 1, 4, 30), (28, 2, 4, 30), (29, 1, 4, 30), (29, 2, 4, 30), (33, 1, 4, 30), (33, 2, 4, 30), (34, 1, 4, 30), (34, 2, 4, 30), (36, 1, 4, 30), (36, 2, 4, 30), (37, 1, 4, 30), (37, 2, 4, 30), (38, 1, 4, 30), (38, 2, 4, 30), (41, 1, 4, 30), (41, 2, 4, 30), (42, 1, 4, 30), (42, 2, 4, 30), (43, 1, 4, 30), (43, 2, 4, 30), (45, 1, 4, 30), (45, 2, 4, 30), (46, 1, 4, 30), (46, 2, 4, 30), (47, 1, 4, 30), (47, 2, 4, 30), (49, 1, 4, 30), (49, 2, 4, 30), (50, 1, 4, 30), (50, 2, 4, 30), (52, 1, 4, 30), (52, 2, 4, 30), (53, 1, 4, 30), (53, 2, 4, 30), (54, 1, 4, 30), (54, 2, 4, 30), (56, 1, 4, 30), (56, 2, 4, 30), (57, 1, 4, 30), (57, 2, 4, 30), (58, 1, 4, 30), (58, 2, 4, 30), (59, 1, 4, 30), (59, 2, 4, 30), (61, 1, 4, 30), (61, 2, 4, 30), (63, 1, 4, 30), (63, 2, 4, 30), (64, 1, 4, 30), (64, 2, 4, 30), (65, 1, 4, 30), (65, 2, 4, 30), (66, 1, 4, 30), (66, 2, 4, 30), (69, 1, 4, 30), (69, 2, 4, 30), (71, 1, 4, 30), (71, 2, 4, 30), (72, 1, 4, 30), (72, 2, 4, 30), (74, 1, 4, 30), (74, 2, 4, 30), (75, 1, 4, 30), (75, 2, 4, 30), (76, 1, 4, 30), (76, 2, 4, 30), (77, 1, 4, 30), (77, 2, 4, 30), (78, 1, 4, 30), (78, 2, 4, 30), (79, 1, 4, 30), (79, 2, 4, 30), (80, 1, 4, 30), (80, 2, 4, 30), (83, 1, 4, 30), (83, 2, 4, 30), (86, 1, 4, 30), (86, 2, 4, 30), (87, 1, 4, 30), (87, 2, 4, 30), (88, 1, 4, 30), (88, 2, 4, 30), (89, 1, 4, 30), (89, 2, 4, 30), (95, 1, 4, 30), (95, 2, 4, 30), (12, 1, 4, 40), (12, 2, 4, 40), (13, 1, 4, 40), (13, 2, 4, 40), (14, 1, 4, 40), (14, 2, 4, 40), (17, 1, 4, 40), (17, 2, 4, 40), (20, 1, 4, 40), (20, 2, 4, 40), (21, 1, 4, 40), (21, 2, 4, 40), (27, 1, 4, 40), (27, 2, 4, 40), (28, 1, 4, 40), (28, 2, 4, 40), (29, 1, 4, 40), (29, 2, 4, 40), (33, 1, 4, 40), (33, 2, 4, 40), (34, 1, 4, 40), (34, 2, 4, 40), (36, 1, 4, 40), (36, 2, 4, 40), (37, 1, 4, 40), (37, 2, 4, 40), (38, 1, 4, 40), (38, 2, 4, 40), (41, 1, 4, 40), (41, 2, 4, 40), (42, 1, 4, 40), (42, 2, 4, 40), (43, 1, 4, 40), (43, 2, 4, 40), (45, 1, 4, 40), (45, 2, 4, 40), (46, 1, 4, 40), (46, 2, 4, 40), (47, 1, 4, 40), (47, 2, 4, 40), (49, 1, 4, 40), (49, 2, 4, 40), (50, 1, 4, 40), (50, 2, 4, 40), (52, 1, 4, 40), (52, 2, 4, 40), (53, 1, 4, 40), (53, 2, 4, 40), (54, 1, 4, 40), (54, 2, 4, 40), (56, 1, 4, 40), (56, 2, 4, 40), (57, 1, 4, 40), (57, 2, 4, 40), (58, 1, 4, 40), (58, 2, 4, 40), (59, 1, 4, 40), (59, 2, 4, 40), (61, 1, 4, 40), (61, 2, 4, 40), (63, 1, 4, 40), (63, 2, 4, 40), (64, 1, 4, 40), (64, 2, 4, 40), (65, 1, 4, 40), (65, 2, 4, 40), (66, 1, 4, 40), (66, 2, 4, 40), (69, 1, 4, 40), (69, 2, 4, 40), (71, 1, 4, 40), (71, 2, 4, 40), (72, 1, 4, 40), (72, 2, 4, 40), (74, 1, 4, 40), (74, 2, 4, 40), (75, 1, 4, 40), (75, 2, 4, 40), (76, 1, 4, 40), (76, 2, 4, 40), (77, 1, 4, 40), (77, 2, 4, 40), (78, 1, 4, 40), (78, 2, 4, 40), (79, 1, 4, 40), (79, 2, 4, 40), (80, 1, 4, 40), (80, 2, 4, 40), (83, 1, 4, 40), (83, 2, 4, 40), (86, 1, 4, 40), (86, 2, 4, 40), (87, 1, 4, 40), (87, 2, 4, 40), (88, 1, 4, 40), (88, 2, 4, 40), (89, 1, 4, 40), (89, 2, 4, 40), (95, 1, 4, 40), (95, 2, 4, 40), (12, 1, 4, 50), (12, 2, 4, 50), (13, 1, 4, 50), (13, 2, 4, 50), (14, 1, 4, 50), (14, 2, 4, 50), (17, 1, 4, 50), (17, 2, 4, 50), (20, 1, 4, 50), (20, 2, 4, 50), (21, 1, 4, 50), (21, 2, 4, 50), (27, 1, 4, 50), (27, 2, 4, 50), (28, 1, 4, 50), (28, 2, 4, 50), (29, 1, 4, 50), (29, 2, 4, 50), (33, 1, 4, 50), (33, 2, 4, 50), (34, 1, 4, 50), (34, 2, 4, 50), (36, 1, 4, 50), (36, 2, 4, 50), (37, 1, 4, 50), (37, 2, 4, 50), (38, 1, 4, 50), (38, 2, 4, 50), (41, 1, 4, 50), (41, 2, 4, 50), (42, 1, 4, 50), (42, 2, 4, 50), (43, 1, 4, 50), (43, 2, 4, 50), (45, 1, 4, 50), (45, 2, 4, 50), (46, 1, 4, 50), (46, 2, 4, 50), (47, 1, 4, 50), (47, 2, 4, 50), (49, 1, 4, 50), (49, 2, 4, 50), (50, 1, 4, 50), (50, 2, 4, 50), (52, 1, 4, 50), (52, 2, 4, 50), (53, 1, 4, 50), (53, 2, 4, 50), (54, 1, 4, 50), (54, 2, 4, 50), (56, 1, 4, 50), (56, 2, 4, 50), (57, 1, 4, 50), (57, 2, 4, 50), (58, 1, 4, 50), (58, 2, 4, 50), (59, 1, 4, 50), (59, 2, 4, 50), (61, 1, 4, 50), (61, 2, 4, 50), (63, 1, 4, 50), (63, 2, 4, 50), (64, 1, 4, 50), (64, 2, 4, 50), (65, 1, 4, 50), (65, 2, 4, 50), (66, 1, 4, 50), (66, 2, 4, 50), (69, 1, 4, 50), (69, 2, 4, 50), (71, 1, 4, 50), (71, 2, 4, 50), (72, 1, 4, 50), (72, 2, 4, 50), (74, 1, 4, 50), (74, 2, 4, 50), (75, 1, 4, 50), (75, 2, 4, 50), (76, 1, 4, 50), (76, 2, 4, 50), (77, 1, 4, 50), (77, 2, 4, 50), (78, 1, 4, 50), (78, 2, 4, 50), (79, 1, 4, 50), (79, 2, 4, 50), (80, 1, 4, 50), (80, 2, 4, 50), (83, 1, 4, 50), (83, 2, 4, 50), (86, 1, 4, 50), (86, 2, 4, 50), (87, 1, 4, 50), (87, 2, 4, 50), (88, 1, 4, 50), (88, 2, 4, 50), (89, 1, 4, 50), (89, 2, 4, 50), (95, 1, 4, 50), (95, 2, 4, 50), (12, 1, 5, 0), (12, 2, 5, 0), (13, 1, 5, 0), (13, 2, 5, 0), (14, 1, 5, 0), (14, 2, 5, 0), (17, 1, 5, 0), (17, 2, 5, 0), (20, 1, 5, 0), (20, 2, 5, 0), (21, 1, 5, 0), (21, 2, 5, 0), (27, 1, 5, 0), (27, 2, 5, 0), (28, 1, 5, 0), (28, 2, 5, 0), (29, 1, 5, 0), (29, 2, 5, 0), (33, 1, 5, 0), (33, 2, 5, 0), (34, 1, 5, 0), (34, 2, 5, 0), (36, 1, 5, 0), (36, 2, 5, 0), (37, 1, 5, 0), (37, 2, 5, 0), (38, 1, 5, 0), (38, 2, 5, 0), (41, 1, 5, 0), (41, 2, 5, 0), (42, 1, 5, 0), (42, 2, 5, 0), (43, 1, 5, 0), (43, 2, 5, 0), (45, 1, 5, 0), (45, 2, 5, 0), (46, 1, 5, 0), (46, 2, 5, 0), (47, 1, 5, 0), (47, 2, 5, 0), (49, 1, 5, 0), (49, 2, 5, 0), (50, 1, 5, 0), (50, 2, 5, 0), (52, 1, 5, 0), (52, 2, 5, 0), (53, 1, 5, 0), (53, 2, 5, 0), (54, 1, 5, 0), (54, 2, 5, 0), (56, 1, 5, 0), (56, 2, 5, 0), (57, 1, 5, 0), (57, 2, 5, 0), (58, 1, 5, 0), (58, 2, 5, 0), (59, 1, 5, 0), (59, 2, 5, 0), (61, 1, 5, 0), (61, 2, 5, 0), (63, 1, 5, 0), (63, 2, 5, 0), (64, 1, 5, 0), (64, 2, 5, 0), (65, 1, 5, 0), (65, 2, 5, 0), (66, 1, 5, 0), (66, 2, 5, 0), (69, 1, 5, 0), (69, 2, 5, 0), (71, 1, 5, 0), (71, 2, 5, 0), (72, 1, 5, 0), (72, 2, 5, 0), (74, 1, 5, 0), (74, 2, 5, 0), (75, 1, 5, 0), (75, 2, 5, 0), (76, 1, 5, 0), (76, 2, 5, 0), (77, 1, 5, 0), (77, 2, 5, 0), (78, 1, 5, 0), (78, 2, 5, 0), (79, 1, 5, 0), (79, 2, 5, 0), (80, 1, 5, 0), (80, 2, 5, 0), (83, 1, 5, 0), (83, 2, 5, 0), (86, 1, 5, 0), (86, 2, 5, 0), (87, 1, 5, 0), (87, 2, 5, 0), (88, 1, 5, 0), (88, 2, 5, 0), (89, 1, 5, 0), (89, 2, 5, 0), (95, 1, 5, 0), (95, 2, 5, 0), (12, 1, 5, 10), (12, 2, 5, 10), (13, 1, 5, 10), (13, 2, 5, 10), (14, 1, 5, 10), (14, 2, 5, 10), (17, 1, 5, 10), (17, 2, 5, 10), (20, 1, 5, 10), (20, 2, 5, 10), (21, 1, 5, 10), (21, 2, 5, 10), (27, 1, 5, 10), (27, 2, 5, 10), (28, 1, 5, 10), (28, 2, 5, 10), (29, 1, 5, 10), (29, 2, 5, 10), (33, 1, 5, 10), (33, 2, 5, 10), (34, 1, 5, 10), (34, 2, 5, 10), (36, 1, 5, 10), (36, 2, 5, 10), (37, 1, 5, 10), (37, 2, 5, 10), (38, 1, 5, 10), (38, 2, 5, 10), (41, 1, 5, 10), (41, 2, 5, 10), (42, 1, 5, 10), (42, 2, 5, 10), (43, 1, 5, 10), (43, 2, 5, 10), (45, 1, 5, 10), (45, 2, 5, 10), (46, 1, 5, 10), (46, 2, 5, 10), (47, 1, 5, 10), (47, 2, 5, 10), (49, 1, 5, 10), (49, 2, 5, 10), (50, 1, 5, 10), (50, 2, 5, 10), (52, 1, 5, 10), (52, 2, 5, 10), (53, 1, 5, 10), (53, 2, 5, 10), (54, 1, 5, 10), (54, 2, 5, 10), (56, 1, 5, 10), (56, 2, 5, 10), (57, 1, 5, 10), (57, 2, 5, 10), (58, 1, 5, 10), (58, 2, 5, 10), (59, 1, 5, 10), (59, 2, 5, 10), (61, 1, 5, 10), (61, 2, 5, 10), (63, 1, 5, 10), (63, 2, 5, 10), (64, 1, 5, 10), (64, 2, 5, 10), (65, 1, 5, 10), (65, 2, 5, 10), (66, 1, 5, 10), (66, 2, 5, 10), (69, 1, 5, 10), (69, 2, 5, 10), (71, 1, 5, 10), (71, 2, 5, 10), (72, 1, 5, 10), (72, 2, 5, 10), (74, 1, 5, 10), (74, 2, 5, 10), (75, 1, 5, 10), (75, 2, 5, 10), (76, 1, 5, 10), (76, 2, 5, 10), (77, 1, 5, 10), (77, 2, 5, 10), (78, 1, 5, 10), (78, 2, 5, 10), (79, 1, 5, 10), (79, 2, 5, 10), (80, 1, 5, 10), (80, 2, 5, 10), (83, 1, 5, 10), (83, 2, 5, 10), (86, 1, 5, 10), (86, 2, 5, 10), (87, 1, 5, 10), (87, 2, 5, 10), (88, 1, 5, 10), (88, 2, 5, 10), (89, 1, 5, 10), (89, 2, 5, 10), (95, 1, 5, 10), (95, 2, 5, 10), (12, 1, 5, 20), (12, 2, 5, 20), (13, 1, 5, 20), (13, 2, 5, 20), (14, 1, 5, 20), (14, 2, 5, 20), (17, 1, 5, 20), (17, 2, 5, 20), (20, 1, 5, 20), (20, 2, 5, 20), (21, 1, 5, 20), (21, 2, 5, 20), (27, 1, 5, 20), (27, 2, 5, 20), (28, 1, 5, 20), (28, 2, 5, 20), (29, 1, 5, 20), (29, 2, 5, 20), (33, 1, 5, 20), (33, 2, 5, 20), (34, 1, 5, 20), (34, 2, 5, 20), (36, 1, 5, 20), (36, 2, 5, 20), (37, 1, 5, 20), (37, 2, 5, 20), (38, 1, 5, 20), (38, 2, 5, 20), (41, 1, 5, 20), (41, 2, 5, 20), (42, 1, 5, 20), (42, 2, 5, 20), (43, 1, 5, 20), (43, 2, 5, 20), (45, 1, 5, 20), (45, 2, 5, 20), (46, 1, 5, 20), (46, 2, 5, 20), (47, 1, 5, 20), (47, 2, 5, 20), (49, 1, 5, 20), (49, 2, 5, 20), (50, 1, 5, 20), (50, 2, 5, 20), (52, 1, 5, 20), (52, 2, 5, 20), (53, 1, 5, 20), (53, 2, 5, 20), (54, 1, 5, 20), (54, 2, 5, 20), (56, 1, 5, 20), (56, 2, 5, 20), (57, 1, 5, 20), (57, 2, 5, 20), (58, 1, 5, 20), (58, 2, 5, 20), (59, 1, 5, 20), (59, 2, 5, 20), (61, 1, 5, 20), (61, 2, 5, 20), (63, 1, 5, 20), (63, 2, 5, 20), (64, 1, 5, 20), (64, 2, 5, 20), (65, 1, 5, 20), (65, 2, 5, 20), (66, 1, 5, 20), (66, 2, 5, 20), (69, 1, 5, 20), (69, 2, 5, 20), (71, 1, 5, 20), (71, 2, 5, 20), (72, 1, 5, 20), (72, 2, 5, 20), (74, 1, 5, 20), (74, 2, 5, 20), (75, 1, 5, 20), (75, 2, 5, 20), (76, 1, 5, 20), (76, 2, 5, 20), (77, 1, 5, 20), (77, 2, 5, 20), (78, 1, 5, 20), (78, 2, 5, 20), (79, 1, 5, 20), (79, 2, 5, 20), (80, 1, 5, 20), (80, 2, 5, 20), (83, 1, 5, 20), (83, 2, 5, 20), (86, 1, 5, 20), (86, 2, 5, 20), (87, 1, 5, 20), (87, 2, 5, 20), (88, 1, 5, 20), (88, 2, 5, 20), (89, 1, 5, 20), (89, 2, 5, 20), (95, 1, 5, 20), (95, 2, 5, 20), (12, 1, 5, 30), (12, 2, 5, 30), (13, 1, 5, 30), (13, 2, 5, 30), (14, 1, 5, 30), (14, 2, 5, 30), (17, 1, 5, 30), (17, 2, 5, 30), (20, 1, 5, 30), (20, 2, 5, 30), (21, 1, 5, 30), (21, 2, 5, 30), (27, 1, 5, 30), (27, 2, 5, 30), (28, 1, 5, 30), (28, 2, 5, 30), (29, 1, 5, 30), (29, 2, 5, 30), (33, 1, 5, 30), (33, 2, 5, 30), (34, 1, 5, 30), (34, 2, 5, 30), (36, 1, 5, 30), (36, 2, 5, 30), (37, 1, 5, 30), (37, 2, 5, 30), (38, 1, 5, 30), (38, 2, 5, 30), (41, 1, 5, 30), (41, 2, 5, 30), (42, 1, 5, 30), (42, 2, 5, 30), (43, 1, 5, 30), (43, 2, 5, 30), (45, 1, 5, 30), (45, 2, 5, 30), (46, 1, 5, 30), (46, 2, 5, 30), (47, 1, 5, 30), (47, 2, 5, 30), (49, 1, 5, 30), (49, 2, 5, 30), (50, 1, 5, 30), (50, 2, 5, 30), (52, 1, 5, 30), (52, 2, 5, 30), (53, 1, 5, 30), (53, 2, 5, 30), (54, 1, 5, 30), (54, 2, 5, 30), (56, 1, 5, 30), (56, 2, 5, 30), (57, 1, 5, 30), (57, 2, 5, 30), (58, 1, 5, 30), (58, 2, 5, 30), (59, 1, 5, 30), (59, 2, 5, 30), (61, 1, 5, 30), (61, 2, 5, 30), (63, 1, 5, 30), (63, 2, 5, 30), (64, 1, 5, 30), (64, 2, 5, 30), (65, 1, 5, 30), (65, 2, 5, 30), (66, 1, 5, 30), (66, 2, 5, 30), (69, 1, 5, 30), (69, 2, 5, 30), (71, 1, 5, 30), (71, 2, 5, 30), (72, 1, 5, 30), (72, 2, 5, 30), (74, 1, 5, 30), (74, 2, 5, 30), (75, 1, 5, 30), (75, 2, 5, 30), (76, 1, 5, 30), (76, 2, 5, 30), (77, 1, 5, 30), (77, 2, 5, 30), (78, 1, 5, 30), (78, 2, 5, 30), (79, 1, 5, 30), (79, 2, 5, 30), (80, 1, 5, 30), (80, 2, 5, 30), (83, 1, 5, 30), (83, 2, 5, 30), (86, 1, 5, 30), (86, 2, 5, 30), (87, 1, 5, 30), (87, 2, 5, 30), (88, 1, 5, 30), (88, 2, 5, 30), (89, 1, 5, 30), (89, 2, 5, 30), (95, 1, 5, 30), (95, 2, 5, 30), (12, 1, 5, 40), (12, 2, 5, 40), (13, 1, 5, 40), (13, 2, 5, 40), (14, 1, 5, 40), (14, 2, 5, 40), (17, 1, 5, 40), (17, 2, 5, 40), (20, 1, 5, 40), (20, 2, 5, 40), (21, 1, 5, 40), (21, 2, 5, 40), (27, 1, 5, 40), (27, 2, 5, 40), (28, 1, 5, 40), (28, 2, 5, 40), (29, 1, 5, 40), (29, 2, 5, 40), (33, 1, 5, 40), (33, 2, 5, 40), (34, 1, 5, 40), (34, 2, 5, 40), (36, 1, 5, 40), (36, 2, 5, 40), (37, 1, 5, 40), (37, 2, 5, 40), (38, 1, 5, 40), (38, 2, 5, 40), (41, 1, 5, 40), (41, 2, 5, 40), (42, 1, 5, 40), (42, 2, 5, 40), (43, 1, 5, 40), (43, 2, 5, 40), (45, 1, 5, 40), (45, 2, 5, 40), (46, 1, 5, 40), (46, 2, 5, 40), (47, 1, 5, 40), (47, 2, 5, 40), (49, 1, 5, 40), (49, 2, 5, 40), (50, 1, 5, 40), (50, 2, 5, 40), (52, 1, 5, 40), (52, 2, 5, 40), (53, 1, 5, 40), (53, 2, 5, 40), (54, 1, 5, 40), (54, 2, 5, 40), (56, 1, 5, 40), (56, 2, 5, 40), (57, 1, 5, 40), (57, 2, 5, 40), (58, 1, 5, 40), (58, 2, 5, 40), (59, 1, 5, 40), (59, 2, 5, 40), (61, 1, 5, 40), (61, 2, 5, 40), (63, 1, 5, 40), (63, 2, 5, 40), (64, 1, 5, 40), (64, 2, 5, 40), (65, 1, 5, 40), (65, 2, 5, 40), (66, 1, 5, 40), (66, 2, 5, 40), (69, 1, 5, 40), (69, 2, 5, 40), (71, 1, 5, 40), (71, 2, 5, 40), (72, 1, 5, 40), (72, 2, 5, 40), (74, 1, 5, 40), (74, 2, 5, 40), (75, 1, 5, 40), (75, 2, 5, 40), (76, 1, 5, 40), (76, 2, 5, 40), (77, 1, 5, 40), (77, 2, 5, 40), (78, 1, 5, 40), (78, 2, 5, 40), (79, 1, 5, 40), (79, 2, 5, 40), (80, 1, 5, 40), (80, 2, 5, 40), (83, 1, 5, 40), (83, 2, 5, 40), (86, 1, 5, 40), (86, 2, 5, 40), (87, 1, 5, 40), (87, 2, 5, 40), (88, 1, 5, 40), (88, 2, 5, 40), (89, 1, 5, 40), (89, 2, 5, 40), (95, 1, 5, 40), (95, 2, 5, 40), (12, 1, 5, 50), (12, 2, 5, 50), (13, 1, 5, 50), (13, 2, 5, 50), (14, 1, 5, 50), (14, 2, 5, 50), (17, 1, 5, 50), (17, 2, 5, 50), (20, 1, 5, 50), (20, 2, 5, 50), (21, 1, 5, 50), (21, 2, 5, 50), (27, 1, 5, 50), (27, 2, 5, 50), (28, 1, 5, 50), (28, 2, 5, 50), (29, 1, 5, 50), (29, 2, 5, 50), (33, 1, 5, 50), (33, 2, 5, 50), (34, 1, 5, 50), (34, 2, 5, 50), (36, 1, 5, 50), (36, 2, 5, 50), (37, 1, 5, 50), (37, 2, 5, 50), (38, 1, 5, 50), (38, 2, 5, 50), (41, 1, 5, 50), (41, 2, 5, 50), (42, 1, 5, 50), (42, 2, 5, 50), (43, 1, 5, 50), (43, 2, 5, 50), (45, 1, 5, 50), (45, 2, 5, 50), (46, 1, 5, 50), (46, 2, 5, 50), (47, 1, 5, 50), (47, 2, 5, 50), (49, 1, 5, 50), (49, 2, 5, 50), (50, 1, 5, 50), (50, 2, 5, 50), (52, 1, 5, 50), (52, 2, 5, 50), (53, 1, 5, 50), (53, 2, 5, 50), (54, 1, 5, 50), (54, 2, 5, 50), (56, 1, 5, 50), (56, 2, 5, 50), (57, 1, 5, 50), (57, 2, 5, 50), (58, 1, 5, 50), (58, 2, 5, 50), (59, 1, 5, 50), (59, 2, 5, 50), (61, 1, 5, 50), (61, 2, 5, 50), (63, 1, 5, 50), (63, 2, 5, 50), (64, 1, 5, 50), (64, 2, 5, 50), (65, 1, 5, 50), (65, 2, 5, 50), (66, 1, 5, 50), (66, 2, 5, 50), (69, 1, 5, 50), (69, 2, 5, 50), (71, 1, 5, 50), (71, 2, 5, 50), (72, 1, 5, 50), (72, 2, 5, 50), (74, 1, 5, 50), (74, 2, 5, 50), (75, 1, 5, 50), (75, 2, 5, 50), (76, 1, 5, 50), (76, 2, 5, 50), (77, 1, 5, 50), (77, 2, 5, 50), (78, 1, 5, 50), (78, 2, 5, 50), (79, 1, 5, 50), (79, 2, 5, 50), (80, 1, 5, 50), (80, 2, 5, 50), (83, 1, 5, 50), (83, 2, 5, 50), (86, 1, 5, 50), (86, 2, 5, 50), (87, 1, 5, 50), (87, 2, 5, 50), (88, 1, 5, 50), (88, 2, 5, 50), (89, 1, 5, 50), (89, 2, 5, 50), (95, 1, 5, 50), (95, 2, 5, 50), (12, 1, 6, 0), (12, 2, 6, 0), (13, 1, 6, 0), (13, 2, 6, 0), (14, 1, 6, 0), (14, 2, 6, 0), (17, 1, 6, 0), (17, 2, 6, 0), (20, 1, 6, 0), (20, 2, 6, 0), (21, 1, 6, 0), (21, 2, 6, 0), (27, 1, 6, 0), (27, 2, 6, 0), (28, 1, 6, 0), (28, 2, 6, 0), (29, 1, 6, 0), (29, 2, 6, 0), (33, 1, 6, 0), (33, 2, 6, 0), (34, 1, 6, 0), (34, 2, 6, 0), (36, 1, 6, 0), (36, 2, 6, 0), (37, 1, 6, 0), (37, 2, 6, 0), (38, 1, 6, 0), (38, 2, 6, 0), (41, 1, 6, 0), (41, 2, 6, 0), (42, 1, 6, 0), (42, 2, 6, 0), (43, 1, 6, 0), (43, 2, 6, 0), (45, 1, 6, 0), (45, 2, 6, 0), (46, 1, 6, 0), (46, 2, 6, 0), (47, 1, 6, 0), (47, 2, 6, 0), (49, 1, 6, 0), (49, 2, 6, 0), (50, 1, 6, 0), (50, 2, 6, 0), (52, 1, 6, 0), (52, 2, 6, 0), (53, 1, 6, 0), (53, 2, 6, 0), (54, 1, 6, 0), (54, 2, 6, 0), (56, 1, 6, 0), (56, 2, 6, 0), (57, 1, 6, 0), (57, 2, 6, 0), (58, 1, 6, 0), (58, 2, 6, 0), (59, 1, 6, 0), (59, 2, 6, 0), (61, 1, 6, 0), (61, 2, 6, 0), (63, 1, 6, 0), (63, 2, 6, 0), (64, 1, 6, 0), (64, 2, 6, 0), (65, 1, 6, 0), (65, 2, 6, 0), (66, 1, 6, 0), (66, 2, 6, 0), (69, 1, 6, 0), (69, 2, 6, 0), (71, 1, 6, 0), (71, 2, 6, 0), (72, 1, 6, 0), (72, 2, 6, 0), (74, 1, 6, 0), (74, 2, 6, 0), (75, 1, 6, 0), (75, 2, 6, 0), (76, 1, 6, 0), (76, 2, 6, 0), (77, 1, 6, 0), (77, 2, 6, 0), (78, 1, 6, 0), (78, 2, 6, 0), (79, 1, 6, 0), (79, 2, 6, 0), (80, 1, 6, 0), (80, 2, 6, 0), (83, 1, 6, 0), (83, 2, 6, 0), (86, 1, 6, 0), (86, 2, 6, 0), (87, 1, 6, 0), (87, 2, 6, 0), (88, 1, 6, 0), (88, 2, 6, 0), (89, 1, 6, 0), (89, 2, 6, 0), (95, 1, 6, 0), (95, 2, 6, 0), (12, 1, 6, 10), (12, 2, 6, 10), (13, 1, 6, 10), (13, 2, 6, 10), (14, 1, 6, 10), (14, 2, 6, 10), (17, 1, 6, 10), (17, 2, 6, 10), (20, 1, 6, 10), (20, 2, 6, 10), (21, 1, 6, 10), (21, 2, 6, 10), (27, 1, 6, 10), (27, 2, 6, 10), (28, 1, 6, 10), (28, 2, 6, 10), (29, 1, 6, 10), (29, 2, 6, 10), (33, 1, 6, 10), (33, 2, 6, 10), (34, 1, 6, 10), (34, 2, 6, 10), (36, 1, 6, 10), (36, 2, 6, 10), (37, 1, 6, 10), (37, 2, 6, 10), (38, 1, 6, 10), (38, 2, 6, 10), (41, 1, 6, 10), (41, 2, 6, 10), (42, 1, 6, 10), (42, 2, 6, 10), (43, 1, 6, 10), (43, 2, 6, 10), (45, 1, 6, 10), (45, 2, 6, 10), (46, 1, 6, 10), (46, 2, 6, 10), (47, 1, 6, 10), (47, 2, 6, 10), (49, 1, 6, 10), (49, 2, 6, 10), (50, 1, 6, 10), (50, 2, 6, 10), (52, 1, 6, 10), (52, 2, 6, 10), (53, 1, 6, 10), (53, 2, 6, 10), (54, 1, 6, 10), (54, 2, 6, 10), (56, 1, 6, 10), (56, 2, 6, 10), (57, 1, 6, 10), (57, 2, 6, 10), (58, 1, 6, 10), (58, 2, 6, 10), (59, 1, 6, 10), (59, 2, 6, 10), (61, 1, 6, 10), (61, 2, 6, 10), (63, 1, 6, 10), (63, 2, 6, 10), (64, 1, 6, 10), (64, 2, 6, 10), (65, 1, 6, 10), (65, 2, 6, 10), (66, 1, 6, 10), (66, 2, 6, 10), (69, 1, 6, 10), (69, 2, 6, 10), (71, 1, 6, 10), (71, 2, 6, 10), (72, 1, 6, 10), (72, 2, 6, 10), (74, 1, 6, 10), (74, 2, 6, 10), (75, 1, 6, 10), (75, 2, 6, 10), (76, 1, 6, 10), (76, 2, 6, 10), (77, 1, 6, 10), (77, 2, 6, 10), (78, 1, 6, 10), (78, 2, 6, 10), (79, 1, 6, 10), (79, 2, 6, 10), (80, 1, 6, 10), (80, 2, 6, 10), (83, 1, 6, 10), (83, 2, 6, 10), (86, 1, 6, 10), (86, 2, 6, 10), (87, 1, 6, 10), (87, 2, 6, 10), (88, 1, 6, 10), (88, 2, 6, 10), (89, 1, 6, 10), (89, 2, 6, 10), (95, 1, 6, 10), (95, 2, 6, 10), (12, 1, 6, 20), (12, 2, 6, 20), (13, 1, 6, 20), (13, 2, 6, 20), (14, 1, 6, 20), (14, 2, 6, 20), (17, 1, 6, 20), (17, 2, 6, 20), (20, 1, 6, 20), (20, 2, 6, 20), (21, 1, 6, 20), (21, 2, 6, 20), (27, 1, 6, 20), (27, 2, 6, 20), (28, 1, 6, 20), (28, 2, 6, 20), (29, 1, 6, 20), (29, 2, 6, 20), (33, 1, 6, 20), (33, 2, 6, 20), (34, 1, 6, 20), (34, 2, 6, 20), (36, 1, 6, 20), (36, 2, 6, 20), (37, 1, 6, 20), (37, 2, 6, 20), (38, 1, 6, 20), (38, 2, 6, 20), (41, 1, 6, 20), (41, 2, 6, 20), (42, 1, 6, 20), (42, 2, 6, 20), (43, 1, 6, 20), (43, 2, 6, 20), (45, 1, 6, 20), (45, 2, 6, 20), (46, 1, 6, 20), (46, 2, 6, 20), (47, 1, 6, 20), (47, 2, 6, 20), (49, 1, 6, 20), (49, 2, 6, 20), (50, 1, 6, 20), (50, 2, 6, 20), (52, 1, 6, 20), (52, 2, 6, 20), (53, 1, 6, 20), (53, 2, 6, 20), (54, 1, 6, 20), (54, 2, 6, 20), (56, 1, 6, 20), (56, 2, 6, 20), (57, 1, 6, 20), (57, 2, 6, 20), (58, 1, 6, 20), (58, 2, 6, 20), (59, 1, 6, 20), (59, 2, 6, 20), (61, 1, 6, 20), (61, 2, 6, 20), (63, 1, 6, 20), (63, 2, 6, 20), (64, 1, 6, 20), (64, 2, 6, 20), (65, 1, 6, 20), (65, 2, 6, 20), (66, 1, 6, 20), (66, 2, 6, 20), (69, 1, 6, 20), (69, 2, 6, 20), (71, 1, 6, 20), (71, 2, 6, 20), (72, 1, 6, 20), (72, 2, 6, 20), (74, 1, 6, 20), (74, 2, 6, 20), (75, 1, 6, 20), (75, 2, 6, 20), (76, 1, 6, 20), (76, 2, 6, 20), (77, 1, 6, 20), (77, 2, 6, 20), (78, 1, 6, 20), (78, 2, 6, 20), (79, 1, 6, 20), (79, 2, 6, 20), (80, 1, 6, 20), (80, 2, 6, 20), (83, 1, 6, 20), (83, 2, 6, 20), (86, 1, 6, 20), (86, 2, 6, 20), (87, 1, 6, 20), (87, 2, 6, 20), (88, 1, 6, 20), (88, 2, 6, 20), (89, 1, 6, 20), (89, 2, 6, 20), (95, 1, 6, 20), (95, 2, 6, 20), (12, 1, 6, 30), (12, 2, 6, 30), (13, 1, 6, 30), (13, 2, 6, 30), (14, 1, 6, 30), (14, 2, 6, 30), (17, 1, 6, 30), (17, 2, 6, 30), (20, 1, 6, 30), (20, 2, 6, 30), (21, 1, 6, 30), (21, 2, 6, 30), (27, 1, 6, 30), (27, 2, 6, 30), (28, 1, 6, 30), (28, 2, 6, 30), (29, 1, 6, 30), (29, 2, 6, 30), (33, 1, 6, 30), (33, 2, 6, 30), (34, 1, 6, 30), (34, 2, 6, 30), (36, 1, 6, 30), (36, 2, 6, 30), (37, 1, 6, 30), (37, 2, 6, 30), (38, 1, 6, 30), (38, 2, 6, 30), (41, 1, 6, 30), (41, 2, 6, 30), (42, 1, 6, 30), (42, 2, 6, 30), (43, 1, 6, 30), (43, 2, 6, 30), (45, 1, 6, 30), (45, 2, 6, 30), (46, 1, 6, 30), (46, 2, 6, 30), (47, 1, 6, 30), (47, 2, 6, 30), (49, 1, 6, 30), (49, 2, 6, 30), (50, 1, 6, 30), (50, 2, 6, 30), (52, 1, 6, 30), (52, 2, 6, 30), (53, 1, 6, 30), (53, 2, 6, 30), (54, 1, 6, 30), (54, 2, 6, 30), (56, 1, 6, 30), (56, 2, 6, 30), (57, 1, 6, 30), (57, 2, 6, 30), (58, 1, 6, 30), (58, 2, 6, 30), (59, 1, 6, 30), (59, 2, 6, 30), (61, 1, 6, 30), (61, 2, 6, 30), (63, 1, 6, 30), (63, 2, 6, 30), (64, 1, 6, 30), (64, 2, 6, 30), (65, 1, 6, 30), (65, 2, 6, 30), (66, 1, 6, 30), (66, 2, 6, 30), (69, 1, 6, 30), (69, 2, 6, 30), (71, 1, 6, 30), (71, 2, 6, 30), (72, 1, 6, 30), (72, 2, 6, 30), (74, 1, 6, 30), (74, 2, 6, 30), (75, 1, 6, 30), (75, 2, 6, 30), (76, 1, 6, 30), (76, 2, 6, 30), (77, 1, 6, 30), (77, 2, 6, 30), (78, 1, 6, 30), (78, 2, 6, 30), (79, 1, 6, 30), (79, 2, 6, 30), (80, 1, 6, 30), (80, 2, 6, 30), (83, 1, 6, 30), (83, 2, 6, 30), (86, 1, 6, 30), (86, 2, 6, 30), (87, 1, 6, 30), (87, 2, 6, 30), (88, 1, 6, 30), (88, 2, 6, 30), (89, 1, 6, 30), (89, 2, 6, 30), (95, 1, 6, 30), (95, 2, 6, 30), (12, 1, 6, 40), (12, 2, 6, 40), (13, 1, 6, 40), (13, 2, 6, 40), (14, 1, 6, 40), (14, 2, 6, 40), (17, 1, 6, 40), (17, 2, 6, 40), (20, 1, 6, 40), (20, 2, 6, 40), (21, 1, 6, 40), (21, 2, 6, 40), (27, 1, 6, 40), (27, 2, 6, 40), (28, 1, 6, 40), (28, 2, 6, 40), (29, 1, 6, 40), (29, 2, 6, 40), (33, 1, 6, 40), (33, 2, 6, 40), (34, 1, 6, 40), (34, 2, 6, 40), (36, 1, 6, 40), (36, 2, 6, 40), (37, 1, 6, 40), (37, 2, 6, 40), (38, 1, 6, 40), (38, 2, 6, 40), (41, 1, 6, 40), (41, 2, 6, 40), (42, 1, 6, 40), (42, 2, 6, 40), (43, 1, 6, 40), (43, 2, 6, 40), (45, 1, 6, 40), (45, 2, 6, 40), (46, 1, 6, 40), (46, 2, 6, 40), (47, 1, 6, 40), (47, 2, 6, 40), (49, 1, 6, 40), (49, 2, 6, 40), (50, 1, 6, 40), (50, 2, 6, 40), (52, 1, 6, 40), (52, 2, 6, 40), (53, 1, 6, 40), (53, 2, 6, 40), (54, 1, 6, 40), (54, 2, 6, 40), (56, 1, 6, 40), (56, 2, 6, 40), (57, 1, 6, 40), (57, 2, 6, 40), (58, 1, 6, 40), (58, 2, 6, 40), (59, 1, 6, 40), (59, 2, 6, 40), (61, 1, 6, 40), (61, 2, 6, 40), (63, 1, 6, 40), (63, 2, 6, 40), (64, 1, 6, 40), (64, 2, 6, 40), (65, 1, 6, 40), (65, 2, 6, 40), (66, 1, 6, 40), (66, 2, 6, 40), (69, 1, 6, 40), (69, 2, 6, 40), (71, 1, 6, 40), (71, 2, 6, 40), (72, 1, 6, 40), (72, 2, 6, 40), (74, 1, 6, 40), (74, 2, 6, 40), (75, 1, 6, 40), (75, 2, 6, 40), (76, 1, 6, 40), (76, 2, 6, 40), (77, 1, 6, 40), (77, 2, 6, 40), (78, 1, 6, 40), (78, 2, 6, 40), (79, 1, 6, 40), (79, 2, 6, 40), (80, 1, 6, 40), (80, 2, 6, 40), (83, 1, 6, 40), (83, 2, 6, 40), (86, 1, 6, 40), (86, 2, 6, 40), (87, 1, 6, 40), (87, 2, 6, 40), (88, 1, 6, 40), (88, 2, 6, 40), (89, 1, 6, 40), (89, 2, 6, 40), (95, 1, 6, 40), (95, 2, 6, 40), (12, 1, 6, 50), (12, 2, 6, 50), (13, 1, 6, 50), (13, 2, 6, 50), (14, 1, 6, 50), (14, 2, 6, 50), (17, 1, 6, 50), (17, 2, 6, 50), (20, 1, 6, 50), (20, 2, 6, 50), (21, 1, 6, 50), (21, 2, 6, 50), (27, 1, 6, 50), (27, 2, 6, 50), (28, 1, 6, 50), (28, 2, 6, 50), (29, 1, 6, 50), (29, 2, 6, 50), (33, 1, 6, 50), (33, 2, 6, 50), (34, 1, 6, 50), (34, 2, 6, 50), (36, 1, 6, 50), (36, 2, 6, 50), (37, 1, 6, 50), (37, 2, 6, 50), (38, 1, 6, 50), (38, 2, 6, 50), (41, 1, 6, 50), (41, 2, 6, 50), (42, 1, 6, 50), (42, 2, 6, 50), (43, 1, 6, 50), (43, 2, 6, 50), (45, 1, 6, 50), (45, 2, 6, 50), (46, 1, 6, 50), (46, 2, 6, 50), (47, 1, 6, 50), (47, 2, 6, 50), (49, 1, 6, 50), (49, 2, 6, 50), (50, 1, 6, 50), (50, 2, 6, 50), (52, 1, 6, 50), (52, 2, 6, 50), (53, 1, 6, 50), (53, 2, 6, 50), (54, 1, 6, 50), (54, 2, 6, 50), (56, 1, 6, 50), (56, 2, 6, 50), (57, 1, 6, 50), (57, 2, 6, 50), (58, 1, 6, 50), (58, 2, 6, 50), (59, 1, 6, 50), (59, 2, 6, 50), (61, 1, 6, 50), (61, 2, 6, 50), (63, 1, 6, 50), (63, 2, 6, 50), (64, 1, 6, 50), (64, 2, 6, 50), (65, 1, 6, 50), (65, 2, 6, 50), (66, 1, 6, 50), (66, 2, 6, 50), (69, 1, 6, 50), (69, 2, 6, 50), (71, 1, 6, 50), (71, 2, 6, 50), (72, 1, 6, 50), (72, 2, 6, 50), (74, 1, 6, 50), (74, 2, 6, 50), (75, 1, 6, 50), (75, 2, 6, 50), (76, 1, 6, 50), (76, 2, 6, 50), (77, 1, 6, 50), (77, 2, 6, 50), (78, 1, 6, 50), (78, 2, 6, 50), (79, 1, 6, 50), (79, 2, 6, 50), (80, 1, 6, 50), (80, 2, 6, 50), (83, 1, 6, 50), (83, 2, 6, 50), (86, 1, 6, 50), (86, 2, 6, 50), (87, 1, 6, 50), (87, 2, 6, 50), (88, 1, 6, 50), (88, 2, 6, 50), (89, 1, 6, 50), (89, 2, 6, 50), (95, 1, 6, 50), (95, 2, 6, 50), (12, 1, 7, 0), (12, 2, 7, 0), (13, 1, 7, 0), (13, 2, 7, 0), (14, 1, 7, 0), (14, 2, 7, 0), (17, 1, 7, 0), (17, 2, 7, 0), (20, 1, 7, 0), (20, 2, 7, 0), (21, 1, 7, 0), (21, 2, 7, 0), (27, 1, 7, 0), (27, 2, 7, 0), (28, 1, 7, 0), (28, 2, 7, 0), (29, 1, 7, 0), (29, 2, 7, 0), (33, 1, 7, 0), (33, 2, 7, 0), (34, 1, 7, 0), (34, 2, 7, 0), (36, 1, 7, 0), (36, 2, 7, 0), (37, 1, 7, 0), (37, 2, 7, 0), (38, 1, 7, 0), (38, 2, 7, 0), (41, 1, 7, 0), (41, 2, 7, 0), (42, 1, 7, 0), (42, 2, 7, 0), (43, 1, 7, 0), (43, 2, 7, 0), (45, 1, 7, 0), (45, 2, 7, 0), (46, 1, 7, 0), (46, 2, 7, 0), (47, 1, 7, 0), (47, 2, 7, 0), (49, 1, 7, 0), (49, 2, 7, 0), (50, 1, 7, 0), (50, 2, 7, 0), (52, 1, 7, 0), (52, 2, 7, 0), (53, 1, 7, 0), (53, 2, 7, 0), (54, 1, 7, 0), (54, 2, 7, 0), (56, 1, 7, 0), (56, 2, 7, 0), (57, 1, 7, 0), (57, 2, 7, 0), (58, 1, 7, 0), (58, 2, 7, 0), (59, 1, 7, 0), (59, 2, 7, 0), (61, 1, 7, 0), (61, 2, 7, 0), (63, 1, 7, 0), (63, 2, 7, 0), (64, 1, 7, 0), (64, 2, 7, 0), (65, 1, 7, 0), (65, 2, 7, 0), (66, 1, 7, 0), (66, 2, 7, 0), (69, 1, 7, 0), (69, 2, 7, 0), (71, 1, 7, 0), (71, 2, 7, 0), (72, 1, 7, 0), (72, 2, 7, 0), (74, 1, 7, 0), (74, 2, 7, 0), (75, 1, 7, 0), (75, 2, 7, 0), (76, 1, 7, 0), (76, 2, 7, 0), (77, 1, 7, 0), (77, 2, 7, 0), (78, 1, 7, 0), (78, 2, 7, 0), (79, 1, 7, 0), (79, 2, 7, 0), (80, 1, 7, 0), (80, 2, 7, 0), (83, 1, 7, 0), (83, 2, 7, 0), (86, 1, 7, 0), (86, 2, 7, 0), (87, 1, 7, 0), (87, 2, 7, 0), (88, 1, 7, 0), (88, 2, 7, 0), (89, 1, 7, 0), (89, 2, 7, 0), (95, 1, 7, 0), (95, 2, 7, 0), (12, 1, 7, 10), (12, 2, 7, 10), (13, 1, 7, 10), (13, 2, 7, 10), (14, 1, 7, 10), (14, 2, 7, 10), (17, 1, 7, 10), (17, 2, 7, 10), (20, 1, 7, 10), (20, 2, 7, 10), (21, 1, 7, 10), (21, 2, 7, 10), (27, 1, 7, 10), (27, 2, 7, 10), (28, 1, 7, 10), (28, 2, 7, 10), (29, 1, 7, 10), (29, 2, 7, 10), (33, 1, 7, 10), (33, 2, 7, 10), (34, 1, 7, 10), (34, 2, 7, 10), (36, 1, 7, 10), (36, 2, 7, 10), (37, 1, 7, 10), (37, 2, 7, 10), (38, 1, 7, 10), (38, 2, 7, 10), (41, 1, 7, 10), (41, 2, 7, 10), (42, 1, 7, 10), (42, 2, 7, 10), (43, 1, 7, 10), (43, 2, 7, 10), (45, 1, 7, 10), (45, 2, 7, 10), (46, 1, 7, 10), (46, 2, 7, 10), (47, 1, 7, 10), (47, 2, 7, 10), (49, 1, 7, 10), (49, 2, 7, 10), (50, 1, 7, 10), (50, 2, 7, 10), (52, 1, 7, 10), (52, 2, 7, 10), (53, 1, 7, 10), (53, 2, 7, 10), (54, 1, 7, 10), (54, 2, 7, 10), (56, 1, 7, 10), (56, 2, 7, 10), (57, 1, 7, 10), (57, 2, 7, 10), (58, 1, 7, 10), (58, 2, 7, 10), (59, 1, 7, 10), (59, 2, 7, 10), (61, 1, 7, 10), (61, 2, 7, 10), (63, 1, 7, 10), (63, 2, 7, 10), (64, 1, 7, 10), (64, 2, 7, 10), (65, 1, 7, 10), (65, 2, 7, 10), (66, 1, 7, 10), (66, 2, 7, 10), (69, 1, 7, 10), (69, 2, 7, 10), (71, 1, 7, 10), (71, 2, 7, 10), (72, 1, 7, 10), (72, 2, 7, 10), (74, 1, 7, 10), (74, 2, 7, 10), (75, 1, 7, 10), (75, 2, 7, 10), (76, 1, 7, 10), (76, 2, 7, 10), (77, 1, 7, 10), (77, 2, 7, 10), (78, 1, 7, 10), (78, 2, 7, 10), (79, 1, 7, 10), (79, 2, 7, 10), (80, 1, 7, 10), (80, 2, 7, 10), (83, 1, 7, 10), (83, 2, 7, 10), (86, 1, 7, 10), (86, 2, 7, 10), (87, 1, 7, 10), (87, 2, 7, 10), (88, 1, 7, 10), (88, 2, 7, 10), (89, 1, 7, 10), (89, 2, 7, 10), (95, 1, 7, 10), (95, 2, 7, 10), (12, 1, 7, 20), (12, 2, 7, 20), (13, 1, 7, 20), (13, 2, 7, 20), (14, 1, 7, 20), (14, 2, 7, 20), (17, 1, 7, 20), (17, 2, 7, 20), (20, 1, 7, 20), (20, 2, 7, 20), (21, 1, 7, 20), (21, 2, 7, 20), (27, 1, 7, 20), (27, 2, 7, 20), (28, 1, 7, 20), (28, 2, 7, 20), (29, 1, 7, 20), (29, 2, 7, 20), (33, 1, 7, 20), (33, 2, 7, 20), (34, 1, 7, 20), (34, 2, 7, 20), (36, 1, 7, 20), (36, 2, 7, 20), (37, 1, 7, 20), (37, 2, 7, 20), (38, 1, 7, 20), (38, 2, 7, 20), (41, 1, 7, 20), (41, 2, 7, 20), (42, 1, 7, 20), (42, 2, 7, 20), (43, 1, 7, 20), (43, 2, 7, 20), (45, 1, 7, 20), (45, 2, 7, 20), (46, 1, 7, 20), (46, 2, 7, 20), (47, 1, 7, 20), (47, 2, 7, 20), (49, 1, 7, 20), (49, 2, 7, 20), (50, 1, 7, 20), (50, 2, 7, 20), (52, 1, 7, 20), (52, 2, 7, 20), (53, 1, 7, 20), (53, 2, 7, 20), (54, 1, 7, 20), (54, 2, 7, 20), (56, 1, 7, 20), (56, 2, 7, 20), (57, 1, 7, 20), (57, 2, 7, 20), (58, 1, 7, 20), (58, 2, 7, 20), (59, 1, 7, 20), (59, 2, 7, 20), (61, 1, 7, 20), (61, 2, 7, 20), (63, 1, 7, 20), (63, 2, 7, 20), (64, 1, 7, 20), (64, 2, 7, 20), (65, 1, 7, 20), (65, 2, 7, 20), (66, 1, 7, 20), (66, 2, 7, 20), (69, 1, 7, 20), (69, 2, 7, 20), (71, 1, 7, 20), (71, 2, 7, 20), (72, 1, 7, 20), (72, 2, 7, 20), (74, 1, 7, 20), (74, 2, 7, 20), (75, 1, 7, 20), (75, 2, 7, 20), (76, 1, 7, 20), (76, 2, 7, 20), (77, 1, 7, 20), (77, 2, 7, 20), (78, 1, 7, 20), (78, 2, 7, 20), (79, 1, 7, 20), (79, 2, 7, 20), (80, 1, 7, 20), (80, 2, 7, 20), (83, 1, 7, 20), (83, 2, 7, 20), (86, 1, 7, 20), (86, 2, 7, 20), (87, 1, 7, 20), (87, 2, 7, 20), (88, 1, 7, 20), (88, 2, 7, 20), (89, 1, 7, 20), (89, 2, 7, 20), (95, 1, 7, 20), (95, 2, 7, 20), (12, 1, 7, 30), (12, 2, 7, 30), (13, 1, 7, 30), (13, 2, 7, 30), (14, 1, 7, 30), (14, 2, 7, 30), (17, 1, 7, 30), (17, 2, 7, 30), (20, 1, 7, 30), (20, 2, 7, 30), (21, 1, 7, 30), (21, 2, 7, 30), (27, 1, 7, 30), (27, 2, 7, 30), (28, 1, 7, 30), (28, 2, 7, 30), (29, 1, 7, 30), (29, 2, 7, 30), (33, 1, 7, 30), (33, 2, 7, 30), (34, 1, 7, 30), (34, 2, 7, 30), (36, 1, 7, 30), (36, 2, 7, 30), (37, 1, 7, 30), (37, 2, 7, 30), (38, 1, 7, 30), (38, 2, 7, 30), (41, 1, 7, 30), (41, 2, 7, 30), (42, 1, 7, 30), (42, 2, 7, 30), (43, 1, 7, 30), (43, 2, 7, 30), (45, 1, 7, 30), (45, 2, 7, 30), (46, 1, 7, 30), (46, 2, 7, 30), (47, 1, 7, 30), (47, 2, 7, 30), (49, 1, 7, 30), (49, 2, 7, 30), (50, 1, 7, 30), (50, 2, 7, 30), (52, 1, 7, 30), (52, 2, 7, 30), (53, 1, 7, 30), (53, 2, 7, 30), (54, 1, 7, 30), (54, 2, 7, 30), (56, 1, 7, 30), (56, 2, 7, 30), (57, 1, 7, 30), (57, 2, 7, 30), (58, 1, 7, 30), (58, 2, 7, 30), (59, 1, 7, 30), (59, 2, 7, 30), (61, 1, 7, 30), (61, 2, 7, 30), (63, 1, 7, 30), (63, 2, 7, 30), (64, 1, 7, 30), (64, 2, 7, 30), (65, 1, 7, 30), (65, 2, 7, 30), (66, 1, 7, 30), (66, 2, 7, 30), (69, 1, 7, 30), (69, 2, 7, 30), (71, 1, 7, 30), (71, 2, 7, 30), (72, 1, 7, 30), (72, 2, 7, 30), (74, 1, 7, 30), (74, 2, 7, 30), (75, 1, 7, 30), (75, 2, 7, 30), (76, 1, 7, 30), (76, 2, 7, 30), (77, 1, 7, 30), (77, 2, 7, 30), (78, 1, 7, 30), (78, 2, 7, 30), (79, 1, 7, 30), (79, 2, 7, 30), (80, 1, 7, 30), (80, 2, 7, 30), (83, 1, 7, 30), (83, 2, 7, 30), (86, 1, 7, 30), (86, 2, 7, 30), (87, 1, 7, 30), (87, 2, 7, 30), (88, 1, 7, 30), (88, 2, 7, 30), (89, 1, 7, 30), (89, 2, 7, 30), (95, 1, 7, 30), (95, 2, 7, 30), (12, 1, 7, 40), (12, 2, 7, 40), (13, 1, 7, 40), (13, 2, 7, 40), (14, 1, 7, 40), (14, 2, 7, 40), (17, 1, 7, 40), (17, 2, 7, 40), (20, 1, 7, 40), (20, 2, 7, 40), (21, 1, 7, 40), (21, 2, 7, 40), (27, 1, 7, 40), (27, 2, 7, 40), (28, 1, 7, 40), (28, 2, 7, 40), (29, 1, 7, 40), (29, 2, 7, 40), (33, 1, 7, 40), (33, 2, 7, 40), (34, 1, 7, 40), (34, 2, 7, 40), (36, 1, 7, 40), (36, 2, 7, 40), (37, 1, 7, 40), (37, 2, 7, 40), (38, 1, 7, 40), (38, 2, 7, 40), (41, 1, 7, 40), (41, 2, 7, 40), (42, 1, 7, 40), (42, 2, 7, 40), (43, 1, 7, 40), (43, 2, 7, 40), (45, 1, 7, 40), (45, 2, 7, 40), (46, 1, 7, 40), (46, 2, 7, 40), (47, 1, 7, 40), (47, 2, 7, 40), (49, 1, 7, 40), (49, 2, 7, 40), (50, 1, 7, 40), (50, 2, 7, 40), (52, 1, 7, 40), (52, 2, 7, 40), (53, 1, 7, 40), (53, 2, 7, 40), (54, 1, 7, 40), (54, 2, 7, 40), (56, 1, 7, 40), (56, 2, 7, 40), (57, 1, 7, 40), (57, 2, 7, 40), (58, 1, 7, 40), (58, 2, 7, 40), (59, 1, 7, 40), (59, 2, 7, 40), (61, 1, 7, 40), (61, 2, 7, 40), (63, 1, 7, 40), (63, 2, 7, 40), (64, 1, 7, 40), (64, 2, 7, 40), (65, 1, 7, 40), (65, 2, 7, 40), (66, 1, 7, 40), (66, 2, 7, 40), (69, 1, 7, 40), (69, 2, 7, 40), (71, 1, 7, 40), (71, 2, 7, 40), (72, 1, 7, 40), (72, 2, 7, 40), (74, 1, 7, 40), (74, 2, 7, 40), (75, 1, 7, 40), (75, 2, 7, 40), (76, 1, 7, 40), (76, 2, 7, 40), (77, 1, 7, 40), (77, 2, 7, 40), (78, 1, 7, 40), (78, 2, 7, 40), (79, 1, 7, 40), (79, 2, 7, 40), (80, 1, 7, 40), (80, 2, 7, 40), (83, 1, 7, 40), (83, 2, 7, 40), (86, 1, 7, 40), (86, 2, 7, 40), (87, 1, 7, 40), (87, 2, 7, 40), (88, 1, 7, 40), (88, 2, 7, 40), (89, 1, 7, 40), (89, 2, 7, 40), (95, 1, 7, 40), (95, 2, 7, 40), (12, 1, 7, 50), (12, 2, 7, 50), (13, 1, 7, 50), (13, 2, 7, 50), (14, 1, 7, 50), (14, 2, 7, 50), (17, 1, 7, 50), (17, 2, 7, 50), (20, 1, 7, 50), (20, 2, 7, 50), (21, 1, 7, 50), (21, 2, 7, 50), (27, 1, 7, 50), (27, 2, 7, 50), (28, 1, 7, 50), (28, 2, 7, 50), (29, 1, 7, 50), (29, 2, 7, 50), (33, 1, 7, 50), (33, 2, 7, 50), (34, 1, 7, 50), (34, 2, 7, 50), (36, 1, 7, 50), (36, 2, 7, 50), (37, 1, 7, 50), (37, 2, 7, 50), (38, 1, 7, 50), (38, 2, 7, 50), (41, 1, 7, 50), (41, 2, 7, 50), (42, 1, 7, 50), (42, 2, 7, 50), (43, 1, 7, 50), (43, 2, 7, 50), (45, 1, 7, 50), (45, 2, 7, 50), (46, 1, 7, 50), (46, 2, 7, 50), (47, 1, 7, 50), (47, 2, 7, 50), (49, 1, 7, 50), (49, 2, 7, 50), (50, 1, 7, 50), (50, 2, 7, 50), (52, 1, 7, 50), (52, 2, 7, 50), (53, 1, 7, 50), (53, 2, 7, 50), (54, 1, 7, 50), (54, 2, 7, 50), (56, 1, 7, 50), (56, 2, 7, 50), (57, 1, 7, 50), (57, 2, 7, 50), (58, 1, 7, 50), (58, 2, 7, 50), (59, 1, 7, 50), (59, 2, 7, 50), (61, 1, 7, 50), (61, 2, 7, 50), (63, 1, 7, 50), (63, 2, 7, 50), (64, 1, 7, 50), (64, 2, 7, 50), (65, 1, 7, 50), (65, 2, 7, 50), (66, 1, 7, 50), (66, 2, 7, 50), (69, 1, 7, 50), (69, 2, 7, 50), (71, 1, 7, 50), (71, 2, 7, 50), (72, 1, 7, 50), (72, 2, 7, 50), (74, 1, 7, 50), (74, 2, 7, 50), (75, 1, 7, 50), (75, 2, 7, 50), (76, 1, 7, 50), (76, 2, 7, 50), (77, 1, 7, 50), (77, 2, 7, 50), (78, 1, 7, 50), (78, 2, 7, 50), (79, 1, 7, 50), (79, 2, 7, 50), (80, 1, 7, 50), (80, 2, 7, 50), (83, 1, 7, 50), (83, 2, 7, 50), (86, 1, 7, 50), (86, 2, 7, 50), (87, 1, 7, 50), (87, 2, 7, 50), (88, 1, 7, 50), (88, 2, 7, 50), (89, 1, 7, 50), (89, 2, 7, 50), (95, 1, 7, 50), (95, 2, 7, 50), (12, 1, 8, 0), (12, 2, 8, 0), (13, 1, 8, 0), (13, 2, 8, 0), (14, 1, 8, 0), (14, 2, 8, 0), (17, 1, 8, 0), (17, 2, 8, 0), (20, 1, 8, 0), (20, 2, 8, 0), (21, 1, 8, 0), (21, 2, 8, 0), (27, 1, 8, 0), (27, 2, 8, 0), (28, 1, 8, 0), (28, 2, 8, 0), (29, 1, 8, 0), (29, 2, 8, 0), (33, 1, 8, 0), (33, 2, 8, 0), (34, 1, 8, 0), (34, 2, 8, 0), (36, 1, 8, 0), (36, 2, 8, 0), (37, 1, 8, 0), (37, 2, 8, 0), (38, 1, 8, 0), (38, 2, 8, 0), (41, 1, 8, 0), (41, 2, 8, 0), (42, 1, 8, 0), (42, 2, 8, 0), (43, 1, 8, 0), (43, 2, 8, 0), (45, 1, 8, 0), (45, 2, 8, 0), (46, 1, 8, 0), (46, 2, 8, 0), (47, 1, 8, 0), (47, 2, 8, 0), (49, 1, 8, 0), (49, 2, 8, 0), (50, 1, 8, 0), (50, 2, 8, 0), (52, 1, 8, 0), (52, 2, 8, 0), (53, 1, 8, 0), (53, 2, 8, 0), (54, 1, 8, 0), (54, 2, 8, 0), (56, 1, 8, 0), (56, 2, 8, 0), (57, 1, 8, 0), (57, 2, 8, 0), (58, 1, 8, 0), (58, 2, 8, 0), (59, 1, 8, 0), (59, 2, 8, 0), (61, 1, 8, 0), (61, 2, 8, 0), (63, 1, 8, 0), (63, 2, 8, 0), (64, 1, 8, 0), (64, 2, 8, 0), (65, 1, 8, 0), (65, 2, 8, 0), (66, 1, 8, 0), (66, 2, 8, 0), (69, 1, 8, 0), (69, 2, 8, 0), (71, 1, 8, 0), (71, 2, 8, 0), (72, 1, 8, 0), (72, 2, 8, 0), (74, 1, 8, 0), (74, 2, 8, 0), (75, 1, 8, 0), (75, 2, 8, 0), (76, 1, 8, 0), (76, 2, 8, 0), (77, 1, 8, 0), (77, 2, 8, 0), (78, 1, 8, 0), (78, 2, 8, 0), (79, 1, 8, 0), (79, 2, 8, 0), (80, 1, 8, 0), (80, 2, 8, 0), (83, 1, 8, 0), (83, 2, 8, 0), (86, 1, 8, 0), (86, 2, 8, 0), (87, 1, 8, 0), (87, 2, 8, 0), (88, 1, 8, 0), (88, 2, 8, 0), (89, 1, 8, 0), (89, 2, 8, 0), (95, 1, 8, 0), (95, 2, 8, 0)])"
      ]
     },
     "execution_count": 43,
     "metadata": {},
     "output_type": "execute_result"
    }
   ],
   "source": [
    "print(len(gm_segment_speeds.keys()))\n",
    "gm_segment_speeds.keys()"
   ]
  },
  {
   "cell_type": "code",
   "execution_count": 44,
   "metadata": {},
   "outputs": [
    {
     "name": "stdout",
     "output_type": "stream",
     "text": [
      "<class 'pandas.core.frame.DataFrame'>\n",
      "RangeIndex: 53 entries, 0 to 52\n",
      "Data columns (total 6 columns):\n",
      " #   Column    Non-Null Count  Dtype         \n",
      "---  ------    --------------  -----         \n",
      " 0   datetime  53 non-null     datetime64[ns]\n",
      " 1   day       53 non-null     int64         \n",
      " 2   month     53 non-null     int64         \n",
      " 3   year      53 non-null     int64         \n",
      " 4   hour      53 non-null     int64         \n",
      " 5   minute    53 non-null     int64         \n",
      "dtypes: datetime64[ns](1), int64(5)\n",
      "memory usage: 2.6 KB\n"
     ]
    },
    {
     "data": {
      "text/html": [
       "<div>\n",
       "<style scoped>\n",
       "    .dataframe tbody tr th:only-of-type {\n",
       "        vertical-align: middle;\n",
       "    }\n",
       "\n",
       "    .dataframe tbody tr th {\n",
       "        vertical-align: top;\n",
       "    }\n",
       "\n",
       "    .dataframe thead th {\n",
       "        text-align: right;\n",
       "    }\n",
       "</style>\n",
       "<table border=\"1\" class=\"dataframe\">\n",
       "  <thead>\n",
       "    <tr style=\"text-align: right;\">\n",
       "      <th></th>\n",
       "      <th>datetime</th>\n",
       "      <th>day</th>\n",
       "      <th>month</th>\n",
       "      <th>year</th>\n",
       "      <th>hour</th>\n",
       "      <th>minute</th>\n",
       "    </tr>\n",
       "  </thead>\n",
       "  <tbody>\n",
       "    <tr>\n",
       "      <th>0</th>\n",
       "      <td>2024-08-27 09:00:00</td>\n",
       "      <td>27</td>\n",
       "      <td>8</td>\n",
       "      <td>2024</td>\n",
       "      <td>9</td>\n",
       "      <td>0</td>\n",
       "    </tr>\n",
       "    <tr>\n",
       "      <th>1</th>\n",
       "      <td>2024-08-27 09:10:00</td>\n",
       "      <td>27</td>\n",
       "      <td>8</td>\n",
       "      <td>2024</td>\n",
       "      <td>9</td>\n",
       "      <td>10</td>\n",
       "    </tr>\n",
       "    <tr>\n",
       "      <th>2</th>\n",
       "      <td>2024-08-27 09:20:00</td>\n",
       "      <td>27</td>\n",
       "      <td>8</td>\n",
       "      <td>2024</td>\n",
       "      <td>9</td>\n",
       "      <td>20</td>\n",
       "    </tr>\n",
       "    <tr>\n",
       "      <th>3</th>\n",
       "      <td>2024-08-27 09:30:00</td>\n",
       "      <td>27</td>\n",
       "      <td>8</td>\n",
       "      <td>2024</td>\n",
       "      <td>9</td>\n",
       "      <td>30</td>\n",
       "    </tr>\n",
       "    <tr>\n",
       "      <th>4</th>\n",
       "      <td>2024-08-27 09:40:00</td>\n",
       "      <td>27</td>\n",
       "      <td>8</td>\n",
       "      <td>2024</td>\n",
       "      <td>9</td>\n",
       "      <td>40</td>\n",
       "    </tr>\n",
       "  </tbody>\n",
       "</table>\n",
       "</div>"
      ],
      "text/plain": [
       "             datetime  day  month  year  hour  minute\n",
       "0 2024-08-27 09:00:00   27      8  2024     9       0\n",
       "1 2024-08-27 09:10:00   27      8  2024     9      10\n",
       "2 2024-08-27 09:20:00   27      8  2024     9      20\n",
       "3 2024-08-27 09:30:00   27      8  2024     9      30\n",
       "4 2024-08-27 09:40:00   27      8  2024     9      40"
      ]
     },
     "execution_count": 44,
     "metadata": {},
     "output_type": "execute_result"
    }
   ],
   "source": [
    "time_data = []\n",
    "\n",
    "for key in gm_segment_speeds:\n",
    "    dt = gm_segment_speeds[key][\"time\"]\n",
    "    dt = parse_date(dt)\n",
    "    dt_bucket = round_to_nearest_10_minutes(dt)\n",
    "\n",
    "    # Extract additional time components\n",
    "    day = dt_bucket.day\n",
    "    month = dt_bucket.month\n",
    "    year = dt_bucket.year\n",
    "    hour = dt_bucket.hour\n",
    "    minute = dt_bucket.minute\n",
    "\n",
    "    time_data.append({\n",
    "        \"datetime\": dt_bucket,\n",
    "        \"day\": day,\n",
    "        \"month\": month,\n",
    "        \"year\": year,\n",
    "        \"hour\": hour,\n",
    "        \"minute\": minute\n",
    "    })\n",
    "time_df = pd.DataFrame(time_data)\n",
    "time_df.drop_duplicates(inplace=True)\n",
    "time_df.reset_index(drop=True, inplace=True)\n",
    "time_df.info()\n",
    "time_df.head()"
   ]
  },
  {
   "cell_type": "markdown",
   "metadata": {},
   "source": [
    "### STIB"
   ]
  },
  {
   "cell_type": "code",
   "execution_count": 47,
   "metadata": {},
   "outputs": [
    {
     "data": {
      "text/html": [
       "<div>\n",
       "<style scoped>\n",
       "    .dataframe tbody tr th:only-of-type {\n",
       "        vertical-align: middle;\n",
       "    }\n",
       "\n",
       "    .dataframe tbody tr th {\n",
       "        vertical-align: top;\n",
       "    }\n",
       "\n",
       "    .dataframe thead th {\n",
       "        text-align: right;\n",
       "    }\n",
       "</style>\n",
       "<table border=\"1\" class=\"dataframe\">\n",
       "  <thead>\n",
       "    <tr style=\"text-align: right;\">\n",
       "      <th></th>\n",
       "      <th>start</th>\n",
       "      <th>end</th>\n",
       "      <th>datetime</th>\n",
       "      <th>mean</th>\n",
       "      <th>median</th>\n",
       "    </tr>\n",
       "  </thead>\n",
       "  <tbody>\n",
       "    <tr>\n",
       "      <th>0</th>\n",
       "      <td>1010</td>\n",
       "      <td>1747</td>\n",
       "      <td>2024-08-27 09:00:00</td>\n",
       "      <td>3.821429</td>\n",
       "      <td>4.650</td>\n",
       "    </tr>\n",
       "    <tr>\n",
       "      <th>1</th>\n",
       "      <td>1010</td>\n",
       "      <td>1747</td>\n",
       "      <td>2024-08-27 09:10:00</td>\n",
       "      <td>5.512500</td>\n",
       "      <td>5.450</td>\n",
       "    </tr>\n",
       "    <tr>\n",
       "      <th>2</th>\n",
       "      <td>1010</td>\n",
       "      <td>1747</td>\n",
       "      <td>2024-08-27 09:20:00</td>\n",
       "      <td>5.450000</td>\n",
       "      <td>5.350</td>\n",
       "    </tr>\n",
       "    <tr>\n",
       "      <th>3</th>\n",
       "      <td>1010</td>\n",
       "      <td>1747</td>\n",
       "      <td>2024-08-27 09:30:00</td>\n",
       "      <td>5.000000</td>\n",
       "      <td>5.575</td>\n",
       "    </tr>\n",
       "    <tr>\n",
       "      <th>4</th>\n",
       "      <td>1010</td>\n",
       "      <td>1747</td>\n",
       "      <td>2024-08-27 09:40:00</td>\n",
       "      <td>2.664286</td>\n",
       "      <td>2.600</td>\n",
       "    </tr>\n",
       "  </tbody>\n",
       "</table>\n",
       "</div>"
      ],
      "text/plain": [
       "   start   end            datetime      mean  median\n",
       "0   1010  1747 2024-08-27 09:00:00  3.821429   4.650\n",
       "1   1010  1747 2024-08-27 09:10:00  5.512500   5.450\n",
       "2   1010  1747 2024-08-27 09:20:00  5.450000   5.350\n",
       "3   1010  1747 2024-08-27 09:30:00  5.000000   5.575\n",
       "4   1010  1747 2024-08-27 09:40:00  2.664286   2.600"
      ]
     },
     "execution_count": 47,
     "metadata": {},
     "output_type": "execute_result"
    }
   ],
   "source": [
    "stib_data = pd.read_csv(\"data/speeds_stib.csv\", parse_dates=[\"datetime\"])\n",
    "stib_data.head()"
   ]
  },
  {
   "cell_type": "code",
   "execution_count": 49,
   "metadata": {},
   "outputs": [],
   "source": [
    "# Extract additional time components\n",
    "stib_data[\"day\"] = stib_data['datetime'].dt.day\n",
    "stib_data[\"month\"] = stib_data['datetime'].dt.month\n",
    "stib_data[\"year\"] = stib_data['datetime'].dt.year\n",
    "stib_data[\"hour\"] = stib_data['datetime'].dt.hour\n",
    "stib_data[\"minute\"] = stib_data['datetime'].dt.minute\n",
    "# remove duplicates\n",
    "stib_data.drop_duplicates(inplace=True)"
   ]
  },
  {
   "cell_type": "code",
   "execution_count": 50,
   "metadata": {},
   "outputs": [],
   "source": [
    "# concat with time_df\n",
    "time_df = pd.concat([time_df, stib_data[[\"datetime\", \"day\", \"month\", \"year\", \"hour\", \"minute\"]]])\n",
    "time_df.drop_duplicates(inplace=True)\n",
    "# reset index to make surrogate key\n",
    "time_df.reset_index(inplace=True)\n",
    "time_df.rename(columns={\"index\": \"id\"}, inplace=True)\n",
    "time_df.to_csv(\"preprocessed_data/Times.csv\", index=False)"
   ]
  },
  {
   "cell_type": "markdown",
   "metadata": {},
   "source": [
    "## Speeds"
   ]
  },
  {
   "cell_type": "markdown",
   "metadata": {},
   "source": [
    "- start_stop_id\n",
    "- end_stop_id\n",
    "- time_id\n",
    "- speed\n",
    "- source (“MT” or “GM” or \"STIB\")\n"
   ]
  },
  {
   "cell_type": "markdown",
   "metadata": {},
   "source": [
    "### MT"
   ]
  },
  {
   "cell_type": "code",
   "execution_count": null,
   "metadata": {},
   "outputs": [],
   "source": [
    "with open(\"agg_speed_2024-05-23_9am_6pm.json\") as f:\n",
    "    mt_avg_speed_data = json.load(f)\n",
    "\n",
    "len(mt_avg_speed_data)"
   ]
  },
  {
   "cell_type": "code",
   "execution_count": null,
   "metadata": {},
   "outputs": [],
   "source": [
    "segment_gdf = gpd.read_file(\"data_tables/Segments.geojson\")\n",
    "segment_gdf.info()"
   ]
  },
  {
   "cell_type": "code",
   "execution_count": null,
   "metadata": {},
   "outputs": [],
   "source": [
    "time_df = pd.read_csv(\"data_tables/Times.csv\", parse_dates=['datetime'])\n",
    "time_df.info()"
   ]
  },
  {
   "cell_type": "code",
   "execution_count": null,
   "metadata": {},
   "outputs": [],
   "source": [
    "fact_table = []\n",
    "start_date = datetime.strptime(\"2024-05-23 09:00:00\", \"%Y-%m-%d %H:%M:%S\")\n",
    "\n",
    "\n",
    "for i, interval in enumerate(tqdm(mt_avg_speed_data)):\n",
    "    for entry in interval:\n",
    "        speed = entry['speed']\n",
    "        line_id = int(entry['lineId'])\n",
    "        point_id = int(entry['pointId'])\n",
    "\n",
    "\n",
    "        condition = (segment_gdf['line_id'] == line_id) & (segment_gdf['start_stop_id'] == point_id)\n",
    "        if len(segment_gdf[condition]) != 0:\n",
    "            segment_id = segment_gdf[condition]['id'].values[0]\n",
    "            time_id = time_df[(time_df['datetime'] == start_date + timedelta(minutes=i*10))]['time_id'].values[0]\n",
    "            fact_table.append({\n",
    "                'line_id': line_id,\n",
    "                'segment_id': segment_id,\n",
    "                'time_id': time_id,\n",
    "                'speed': speed,\n",
    "                'source': 'MT'\n",
    "            })"
   ]
  },
  {
   "cell_type": "code",
   "execution_count": null,
   "metadata": {},
   "outputs": [],
   "source": [
    "len(fact_table)"
   ]
  },
  {
   "cell_type": "markdown",
   "metadata": {},
   "source": [
    "### GM"
   ]
  },
  {
   "cell_type": "code",
   "execution_count": 53,
   "metadata": {},
   "outputs": [
    {
     "data": {
      "text/plain": [
       "4900"
      ]
     },
     "execution_count": 53,
     "metadata": {},
     "output_type": "execute_result"
    }
   ],
   "source": [
    "with open(\"data/gm_segment_speeds_aug27.pkl\", \"rb\") as f:\n",
    "    gm_avg_speed_data = pickle.load(f)\n",
    "\n",
    "len(gm_avg_speed_data)"
   ]
  },
  {
   "cell_type": "code",
   "execution_count": 54,
   "metadata": {},
   "outputs": [
    {
     "data": {
      "text/plain": [
       "dict_keys([(12, 1, 0, 1), (12, 2, 0, 1), (13, 1, 0, 1), (13, 2, 0, 1), (14, 1, 0, 1), (14, 2, 0, 1), (17, 1, 0, 1), (17, 2, 0, 1), (20, 1, 0, 1), (20, 2, 0, 1), (21, 1, 0, 1), (21, 2, 0, 1), (27, 1, 0, 1), (27, 2, 0, 1), (28, 1, 0, 1), (28, 2, 0, 1), (29, 1, 0, 1), (29, 2, 0, 1), (33, 1, 0, 1), (33, 2, 0, 1), (34, 1, 0, 1), (34, 2, 0, 1), (36, 1, 0, 1), (36, 2, 0, 1), (37, 1, 0, 1), (37, 2, 0, 1), (38, 1, 0, 1), (38, 2, 0, 1), (41, 1, 0, 1), (41, 2, 0, 1), (42, 1, 0, 1), (42, 2, 0, 1), (43, 1, 0, 1), (43, 2, 0, 1), (45, 1, 0, 1), (45, 2, 0, 1), (46, 1, 0, 1), (46, 2, 0, 1), (47, 1, 0, 1), (47, 2, 0, 1), (49, 1, 0, 1), (49, 2, 0, 1), (50, 1, 0, 1), (50, 2, 0, 1), (52, 1, 0, 1), (52, 2, 0, 1), (53, 1, 0, 1), (53, 2, 0, 1), (54, 1, 0, 1), (54, 2, 0, 1), (56, 1, 0, 1), (56, 2, 0, 1), (57, 1, 0, 1), (57, 2, 0, 1), (58, 1, 0, 1), (58, 2, 0, 1), (59, 1, 0, 1), (59, 2, 0, 1), (61, 1, 0, 1), (61, 2, 0, 1), (63, 1, 0, 1), (63, 2, 0, 1), (64, 1, 0, 1), (64, 2, 0, 1), (65, 1, 0, 1), (65, 2, 0, 1), (66, 1, 0, 1), (66, 2, 0, 1), (69, 1, 0, 1), (69, 2, 0, 1), (71, 1, 0, 1), (71, 2, 0, 1), (72, 1, 0, 1), (72, 2, 0, 1), (74, 1, 0, 1), (74, 2, 0, 1), (75, 1, 0, 1), (75, 2, 0, 1), (76, 1, 0, 1), (76, 2, 0, 1), (77, 1, 0, 1), (77, 2, 0, 1), (78, 1, 0, 1), (78, 2, 0, 1), (79, 1, 0, 1), (79, 2, 0, 1), (80, 1, 0, 1), (80, 2, 0, 1), (83, 1, 0, 1), (83, 2, 0, 1), (86, 1, 0, 1), (86, 2, 0, 1), (87, 1, 0, 1), (87, 2, 0, 1), (88, 1, 0, 1), (88, 2, 0, 1), (89, 1, 0, 1), (89, 2, 0, 1), (95, 1, 0, 1), (95, 2, 0, 1), (12, 1, 0, 10), (12, 2, 0, 10), (13, 1, 0, 10), (13, 2, 0, 10), (14, 1, 0, 10), (14, 2, 0, 10), (17, 1, 0, 10), (17, 2, 0, 10), (20, 1, 0, 10), (20, 2, 0, 10), (21, 1, 0, 10), (21, 2, 0, 10), (27, 1, 0, 10), (27, 2, 0, 10), (28, 1, 0, 10), (28, 2, 0, 10), (29, 1, 0, 10), (29, 2, 0, 10), (33, 1, 0, 10), (33, 2, 0, 10), (34, 1, 0, 10), (34, 2, 0, 10), (36, 1, 0, 10), (36, 2, 0, 10), (37, 1, 0, 10), (37, 2, 0, 10), (38, 1, 0, 10), (38, 2, 0, 10), (41, 1, 0, 10), (41, 2, 0, 10), (42, 1, 0, 10), (42, 2, 0, 10), (43, 1, 0, 10), (43, 2, 0, 10), (45, 1, 0, 10), (45, 2, 0, 10), (46, 1, 0, 10), (46, 2, 0, 10), (47, 1, 0, 10), (47, 2, 0, 10), (49, 1, 0, 10), (49, 2, 0, 10), (50, 1, 0, 10), (50, 2, 0, 10), (52, 1, 0, 10), (52, 2, 0, 10), (53, 1, 0, 10), (53, 2, 0, 10), (54, 1, 0, 10), (54, 2, 0, 10), (56, 1, 0, 10), (56, 2, 0, 10), (57, 1, 0, 10), (57, 2, 0, 10), (58, 1, 0, 10), (58, 2, 0, 10), (59, 1, 0, 10), (59, 2, 0, 10), (61, 1, 0, 10), (61, 2, 0, 10), (63, 1, 0, 10), (63, 2, 0, 10), (64, 1, 0, 10), (64, 2, 0, 10), (65, 1, 0, 10), (65, 2, 0, 10), (66, 1, 0, 10), (66, 2, 0, 10), (69, 1, 0, 10), (69, 2, 0, 10), (71, 1, 0, 10), (71, 2, 0, 10), (72, 1, 0, 10), (72, 2, 0, 10), (74, 1, 0, 10), (74, 2, 0, 10), (75, 1, 0, 10), (75, 2, 0, 10), (76, 1, 0, 10), (76, 2, 0, 10), (77, 1, 0, 10), (77, 2, 0, 10), (78, 1, 0, 10), (78, 2, 0, 10), (79, 1, 0, 10), (79, 2, 0, 10), (80, 1, 0, 10), (80, 2, 0, 10), (83, 1, 0, 10), (83, 2, 0, 10), (86, 1, 0, 10), (86, 2, 0, 10), (87, 1, 0, 10), (87, 2, 0, 10), (88, 1, 0, 10), (88, 2, 0, 10), (89, 1, 0, 10), (89, 2, 0, 10), (95, 1, 0, 10), (95, 2, 0, 10), (12, 1, 0, 20), (12, 2, 0, 20), (13, 1, 0, 20), (13, 2, 0, 20), (14, 1, 0, 20), (14, 2, 0, 20), (17, 1, 0, 20), (17, 2, 0, 20), (20, 1, 0, 20), (20, 2, 0, 20), (21, 1, 0, 20), (21, 2, 0, 20), (27, 1, 0, 20), (27, 2, 0, 20), (28, 1, 0, 20), (28, 2, 0, 20), (29, 1, 0, 20), (29, 2, 0, 20), (33, 1, 0, 20), (33, 2, 0, 20), (34, 1, 0, 20), (34, 2, 0, 20), (36, 1, 0, 20), (36, 2, 0, 20), (37, 1, 0, 20), (37, 2, 0, 20), (38, 1, 0, 20), (38, 2, 0, 20), (41, 1, 0, 20), (41, 2, 0, 20), (42, 1, 0, 20), (42, 2, 0, 20), (43, 1, 0, 20), (43, 2, 0, 20), (45, 1, 0, 20), (45, 2, 0, 20), (46, 1, 0, 20), (46, 2, 0, 20), (47, 1, 0, 20), (47, 2, 0, 20), (49, 1, 0, 20), (49, 2, 0, 20), (50, 1, 0, 20), (50, 2, 0, 20), (52, 1, 0, 20), (52, 2, 0, 20), (53, 1, 0, 20), (53, 2, 0, 20), (54, 1, 0, 20), (54, 2, 0, 20), (56, 1, 0, 20), (56, 2, 0, 20), (57, 1, 0, 20), (57, 2, 0, 20), (58, 1, 0, 20), (58, 2, 0, 20), (59, 1, 0, 20), (59, 2, 0, 20), (61, 1, 0, 20), (61, 2, 0, 20), (63, 1, 0, 20), (63, 2, 0, 20), (64, 1, 0, 20), (64, 2, 0, 20), (65, 1, 0, 20), (65, 2, 0, 20), (66, 1, 0, 20), (66, 2, 0, 20), (69, 1, 0, 20), (69, 2, 0, 20), (71, 1, 0, 20), (71, 2, 0, 20), (72, 1, 0, 20), (72, 2, 0, 20), (74, 1, 0, 20), (74, 2, 0, 20), (75, 1, 0, 20), (75, 2, 0, 20), (76, 1, 0, 20), (76, 2, 0, 20), (77, 1, 0, 20), (77, 2, 0, 20), (78, 1, 0, 20), (78, 2, 0, 20), (79, 1, 0, 20), (79, 2, 0, 20), (80, 1, 0, 20), (80, 2, 0, 20), (83, 1, 0, 20), (83, 2, 0, 20), (86, 1, 0, 20), (86, 2, 0, 20), (87, 1, 0, 20), (87, 2, 0, 20), (88, 1, 0, 20), (88, 2, 0, 20), (89, 1, 0, 20), (89, 2, 0, 20), (95, 1, 0, 20), (95, 2, 0, 20), (12, 1, 0, 30), (12, 2, 0, 30), (13, 1, 0, 30), (13, 2, 0, 30), (14, 1, 0, 30), (14, 2, 0, 30), (17, 1, 0, 30), (17, 2, 0, 30), (20, 1, 0, 30), (20, 2, 0, 30), (21, 1, 0, 30), (21, 2, 0, 30), (27, 1, 0, 30), (27, 2, 0, 30), (28, 1, 0, 30), (28, 2, 0, 30), (29, 1, 0, 30), (29, 2, 0, 30), (33, 1, 0, 30), (33, 2, 0, 30), (34, 1, 0, 30), (34, 2, 0, 30), (36, 1, 0, 30), (36, 2, 0, 30), (37, 1, 0, 30), (37, 2, 0, 30), (38, 1, 0, 30), (38, 2, 0, 30), (41, 1, 0, 30), (41, 2, 0, 30), (42, 1, 0, 30), (42, 2, 0, 30), (43, 1, 0, 30), (43, 2, 0, 30), (45, 1, 0, 30), (45, 2, 0, 30), (46, 1, 0, 30), (46, 2, 0, 30), (47, 1, 0, 30), (47, 2, 0, 30), (49, 1, 0, 30), (49, 2, 0, 30), (50, 1, 0, 30), (50, 2, 0, 30), (52, 1, 0, 30), (52, 2, 0, 30), (53, 1, 0, 30), (53, 2, 0, 30), (54, 1, 0, 30), (54, 2, 0, 30), (56, 1, 0, 30), (56, 2, 0, 30), (57, 1, 0, 30), (57, 2, 0, 30), (58, 1, 0, 30), (58, 2, 0, 30), (59, 1, 0, 30), (59, 2, 0, 30), (61, 1, 0, 30), (61, 2, 0, 30), (63, 1, 0, 30), (63, 2, 0, 30), (64, 1, 0, 30), (64, 2, 0, 30), (65, 1, 0, 30), (65, 2, 0, 30), (66, 1, 0, 30), (66, 2, 0, 30), (69, 1, 0, 30), (69, 2, 0, 30), (71, 1, 0, 30), (71, 2, 0, 30), (72, 1, 0, 30), (72, 2, 0, 30), (74, 1, 0, 30), (74, 2, 0, 30), (75, 1, 0, 30), (75, 2, 0, 30), (76, 1, 0, 30), (76, 2, 0, 30), (77, 1, 0, 30), (77, 2, 0, 30), (78, 1, 0, 30), (78, 2, 0, 30), (79, 1, 0, 30), (79, 2, 0, 30), (80, 1, 0, 30), (80, 2, 0, 30), (83, 1, 0, 30), (83, 2, 0, 30), (86, 1, 0, 30), (86, 2, 0, 30), (87, 1, 0, 30), (87, 2, 0, 30), (88, 1, 0, 30), (88, 2, 0, 30), (89, 1, 0, 30), (89, 2, 0, 30), (95, 1, 0, 30), (95, 2, 0, 30), (12, 1, 0, 40), (12, 2, 0, 40), (13, 1, 0, 40), (13, 2, 0, 40), (14, 1, 0, 40), (14, 2, 0, 40), (17, 1, 0, 40), (17, 2, 0, 40), (20, 1, 0, 40), (20, 2, 0, 40), (21, 1, 0, 40), (21, 2, 0, 40), (27, 1, 0, 40), (27, 2, 0, 40), (28, 1, 0, 40), (28, 2, 0, 40), (29, 1, 0, 40), (29, 2, 0, 40), (33, 1, 0, 40), (33, 2, 0, 40), (34, 1, 0, 40), (34, 2, 0, 40), (36, 1, 0, 40), (36, 2, 0, 40), (37, 1, 0, 40), (37, 2, 0, 40), (38, 1, 0, 40), (38, 2, 0, 40), (41, 1, 0, 40), (41, 2, 0, 40), (42, 1, 0, 40), (42, 2, 0, 40), (43, 1, 0, 40), (43, 2, 0, 40), (45, 1, 0, 40), (45, 2, 0, 40), (46, 1, 0, 40), (46, 2, 0, 40), (47, 1, 0, 40), (47, 2, 0, 40), (49, 1, 0, 40), (49, 2, 0, 40), (50, 1, 0, 40), (50, 2, 0, 40), (52, 1, 0, 40), (52, 2, 0, 40), (53, 1, 0, 40), (53, 2, 0, 40), (54, 1, 0, 40), (54, 2, 0, 40), (56, 1, 0, 40), (56, 2, 0, 40), (57, 1, 0, 40), (57, 2, 0, 40), (58, 1, 0, 40), (58, 2, 0, 40), (59, 1, 0, 40), (59, 2, 0, 40), (61, 1, 0, 40), (61, 2, 0, 40), (63, 1, 0, 40), (63, 2, 0, 40), (64, 1, 0, 40), (64, 2, 0, 40), (65, 1, 0, 40), (65, 2, 0, 40), (66, 1, 0, 40), (66, 2, 0, 40), (69, 1, 0, 40), (69, 2, 0, 40), (71, 1, 0, 40), (71, 2, 0, 40), (72, 1, 0, 40), (72, 2, 0, 40), (74, 1, 0, 40), (74, 2, 0, 40), (75, 1, 0, 40), (75, 2, 0, 40), (76, 1, 0, 40), (76, 2, 0, 40), (77, 1, 0, 40), (77, 2, 0, 40), (78, 1, 0, 40), (78, 2, 0, 40), (79, 1, 0, 40), (79, 2, 0, 40), (80, 1, 0, 40), (80, 2, 0, 40), (83, 1, 0, 40), (83, 2, 0, 40), (86, 1, 0, 40), (86, 2, 0, 40), (87, 1, 0, 40), (87, 2, 0, 40), (88, 1, 0, 40), (88, 2, 0, 40), (89, 1, 0, 40), (89, 2, 0, 40), (95, 1, 0, 40), (95, 2, 0, 40), (12, 1, 0, 50), (12, 2, 0, 50), (13, 1, 0, 50), (13, 2, 0, 50), (14, 1, 0, 50), (14, 2, 0, 50), (17, 1, 0, 50), (17, 2, 0, 50), (20, 1, 0, 50), (20, 2, 0, 50), (21, 1, 0, 50), (21, 2, 0, 50), (27, 1, 0, 50), (27, 2, 0, 50), (28, 1, 0, 50), (28, 2, 0, 50), (29, 1, 0, 50), (29, 2, 0, 50), (33, 1, 0, 50), (33, 2, 0, 50), (34, 1, 0, 50), (34, 2, 0, 50), (36, 1, 0, 50), (36, 2, 0, 50), (37, 1, 0, 50), (37, 2, 0, 50), (38, 1, 0, 50), (38, 2, 0, 50), (41, 1, 0, 50), (41, 2, 0, 50), (42, 1, 0, 50), (42, 2, 0, 50), (43, 1, 0, 50), (43, 2, 0, 50), (45, 1, 0, 50), (45, 2, 0, 50), (46, 1, 0, 50), (46, 2, 0, 50), (47, 1, 0, 50), (47, 2, 0, 50), (49, 1, 0, 50), (49, 2, 0, 50), (50, 1, 0, 50), (50, 2, 0, 50), (52, 1, 0, 50), (52, 2, 0, 50), (53, 1, 0, 50), (53, 2, 0, 50), (54, 1, 0, 50), (54, 2, 0, 50), (56, 1, 0, 50), (56, 2, 0, 50), (57, 1, 0, 50), (57, 2, 0, 50), (58, 1, 0, 50), (58, 2, 0, 50), (59, 1, 0, 50), (59, 2, 0, 50), (61, 1, 0, 50), (61, 2, 0, 50), (63, 1, 0, 50), (63, 2, 0, 50), (64, 1, 0, 50), (64, 2, 0, 50), (65, 1, 0, 50), (65, 2, 0, 50), (66, 1, 0, 50), (66, 2, 0, 50), (69, 1, 0, 50), (69, 2, 0, 50), (71, 1, 0, 50), (71, 2, 0, 50), (72, 1, 0, 50), (72, 2, 0, 50), (74, 1, 0, 50), (74, 2, 0, 50), (75, 1, 0, 50), (75, 2, 0, 50), (76, 1, 0, 50), (76, 2, 0, 50), (77, 1, 0, 50), (77, 2, 0, 50), (78, 1, 0, 50), (78, 2, 0, 50), (79, 1, 0, 50), (79, 2, 0, 50), (80, 1, 0, 50), (80, 2, 0, 50), (83, 1, 0, 50), (83, 2, 0, 50), (86, 1, 0, 50), (86, 2, 0, 50), (87, 1, 0, 50), (87, 2, 0, 50), (88, 1, 0, 50), (88, 2, 0, 50), (89, 1, 0, 50), (89, 2, 0, 50), (95, 1, 0, 50), (95, 2, 0, 50), (12, 1, 1, 0), (12, 2, 1, 0), (13, 1, 1, 0), (13, 2, 1, 0), (14, 1, 1, 0), (14, 2, 1, 0), (17, 1, 1, 0), (17, 2, 1, 0), (20, 1, 1, 0), (20, 2, 1, 0), (21, 1, 1, 0), (21, 2, 1, 0), (27, 1, 1, 0), (27, 2, 1, 0), (28, 1, 1, 0), (28, 2, 1, 0), (29, 1, 1, 0), (29, 2, 1, 0), (33, 1, 1, 0), (33, 2, 1, 0), (34, 1, 1, 0), (34, 2, 1, 0), (36, 1, 1, 0), (36, 2, 1, 0), (37, 1, 1, 0), (37, 2, 1, 0), (38, 1, 1, 0), (38, 2, 1, 0), (41, 1, 1, 0), (41, 2, 1, 0), (42, 1, 1, 0), (42, 2, 1, 0), (43, 1, 1, 0), (43, 2, 1, 0), (45, 1, 1, 0), (45, 2, 1, 0), (46, 1, 1, 0), (46, 2, 1, 0), (47, 1, 1, 0), (47, 2, 1, 0), (49, 1, 1, 0), (49, 2, 1, 0), (50, 1, 1, 0), (50, 2, 1, 0), (52, 1, 1, 0), (52, 2, 1, 0), (53, 1, 1, 0), (53, 2, 1, 0), (54, 1, 1, 0), (54, 2, 1, 0), (56, 1, 1, 0), (56, 2, 1, 0), (57, 1, 1, 0), (57, 2, 1, 0), (58, 1, 1, 0), (58, 2, 1, 0), (59, 1, 1, 0), (59, 2, 1, 0), (61, 1, 1, 0), (61, 2, 1, 0), (63, 1, 1, 0), (63, 2, 1, 0), (64, 1, 1, 0), (64, 2, 1, 0), (65, 1, 1, 0), (65, 2, 1, 0), (66, 1, 1, 0), (66, 2, 1, 0), (69, 1, 1, 0), (69, 2, 1, 0), (71, 1, 1, 0), (71, 2, 1, 0), (72, 1, 1, 0), (72, 2, 1, 0), (74, 1, 1, 0), (74, 2, 1, 0), (75, 1, 1, 0), (75, 2, 1, 0), (76, 1, 1, 0), (76, 2, 1, 0), (77, 1, 1, 0), (77, 2, 1, 0), (78, 1, 1, 0), (78, 2, 1, 0), (79, 1, 1, 0), (79, 2, 1, 0), (80, 1, 1, 0), (80, 2, 1, 0), (83, 1, 1, 0), (83, 2, 1, 0), (86, 1, 1, 0), (86, 2, 1, 0), (87, 1, 1, 0), (87, 2, 1, 0), (88, 1, 1, 0), (88, 2, 1, 0), (89, 1, 1, 0), (89, 2, 1, 0), (95, 1, 1, 0), (95, 2, 1, 0), (12, 1, 1, 10), (12, 2, 1, 10), (13, 1, 1, 10), (13, 2, 1, 10), (14, 1, 1, 10), (14, 2, 1, 10), (17, 1, 1, 10), (17, 2, 1, 10), (20, 1, 1, 10), (20, 2, 1, 10), (21, 1, 1, 10), (21, 2, 1, 10), (27, 1, 1, 10), (27, 2, 1, 10), (28, 1, 1, 10), (28, 2, 1, 10), (29, 1, 1, 10), (29, 2, 1, 10), (33, 1, 1, 10), (33, 2, 1, 10), (34, 1, 1, 10), (34, 2, 1, 10), (36, 1, 1, 10), (36, 2, 1, 10), (37, 1, 1, 10), (37, 2, 1, 10), (38, 1, 1, 10), (38, 2, 1, 10), (41, 1, 1, 10), (41, 2, 1, 10), (42, 1, 1, 10), (42, 2, 1, 10), (43, 1, 1, 10), (43, 2, 1, 10), (45, 1, 1, 10), (45, 2, 1, 10), (46, 1, 1, 10), (46, 2, 1, 10), (47, 1, 1, 10), (47, 2, 1, 10), (49, 1, 1, 10), (49, 2, 1, 10), (50, 1, 1, 10), (50, 2, 1, 10), (52, 1, 1, 10), (52, 2, 1, 10), (53, 1, 1, 10), (53, 2, 1, 10), (54, 1, 1, 10), (54, 2, 1, 10), (56, 1, 1, 10), (56, 2, 1, 10), (57, 1, 1, 10), (57, 2, 1, 10), (58, 1, 1, 10), (58, 2, 1, 10), (59, 1, 1, 10), (59, 2, 1, 10), (61, 1, 1, 10), (61, 2, 1, 10), (63, 1, 1, 10), (63, 2, 1, 10), (64, 1, 1, 10), (64, 2, 1, 10), (65, 1, 1, 10), (65, 2, 1, 10), (66, 1, 1, 10), (66, 2, 1, 10), (69, 1, 1, 10), (69, 2, 1, 10), (71, 1, 1, 10), (71, 2, 1, 10), (72, 1, 1, 10), (72, 2, 1, 10), (74, 1, 1, 10), (74, 2, 1, 10), (75, 1, 1, 10), (75, 2, 1, 10), (76, 1, 1, 10), (76, 2, 1, 10), (77, 1, 1, 10), (77, 2, 1, 10), (78, 1, 1, 10), (78, 2, 1, 10), (79, 1, 1, 10), (79, 2, 1, 10), (80, 1, 1, 10), (80, 2, 1, 10), (83, 1, 1, 10), (83, 2, 1, 10), (86, 1, 1, 10), (86, 2, 1, 10), (87, 1, 1, 10), (87, 2, 1, 10), (88, 1, 1, 10), (88, 2, 1, 10), (89, 1, 1, 10), (89, 2, 1, 10), (95, 1, 1, 10), (95, 2, 1, 10), (12, 1, 1, 20), (12, 2, 1, 20), (13, 1, 1, 20), (13, 2, 1, 20), (14, 1, 1, 20), (14, 2, 1, 20), (17, 1, 1, 20), (17, 2, 1, 20), (20, 1, 1, 20), (20, 2, 1, 20), (21, 1, 1, 20), (21, 2, 1, 20), (27, 1, 1, 20), (27, 2, 1, 20), (28, 1, 1, 20), (28, 2, 1, 20), (29, 1, 1, 20), (29, 2, 1, 20), (33, 1, 1, 20), (33, 2, 1, 20), (34, 1, 1, 20), (34, 2, 1, 20), (36, 1, 1, 20), (36, 2, 1, 20), (37, 1, 1, 20), (37, 2, 1, 20), (38, 1, 1, 20), (38, 2, 1, 20), (41, 1, 1, 20), (41, 2, 1, 20), (42, 1, 1, 20), (42, 2, 1, 20), (43, 1, 1, 20), (43, 2, 1, 20), (45, 1, 1, 20), (45, 2, 1, 20), (46, 1, 1, 20), (46, 2, 1, 20), (47, 1, 1, 20), (47, 2, 1, 20), (49, 1, 1, 20), (49, 2, 1, 20), (50, 1, 1, 20), (50, 2, 1, 20), (52, 1, 1, 20), (52, 2, 1, 20), (53, 1, 1, 20), (53, 2, 1, 20), (54, 1, 1, 20), (54, 2, 1, 20), (56, 1, 1, 20), (56, 2, 1, 20), (57, 1, 1, 20), (57, 2, 1, 20), (58, 1, 1, 20), (58, 2, 1, 20), (59, 1, 1, 20), (59, 2, 1, 20), (61, 1, 1, 20), (61, 2, 1, 20), (63, 1, 1, 20), (63, 2, 1, 20), (64, 1, 1, 20), (64, 2, 1, 20), (65, 1, 1, 20), (65, 2, 1, 20), (66, 1, 1, 20), (66, 2, 1, 20), (69, 1, 1, 20), (69, 2, 1, 20), (71, 1, 1, 20), (71, 2, 1, 20), (72, 1, 1, 20), (72, 2, 1, 20), (74, 1, 1, 20), (74, 2, 1, 20), (75, 1, 1, 20), (75, 2, 1, 20), (76, 1, 1, 20), (76, 2, 1, 20), (77, 1, 1, 20), (77, 2, 1, 20), (78, 1, 1, 20), (78, 2, 1, 20), (79, 1, 1, 20), (79, 2, 1, 20), (80, 1, 1, 20), (80, 2, 1, 20), (83, 1, 1, 20), (83, 2, 1, 20), (86, 1, 1, 20), (86, 2, 1, 20), (87, 1, 1, 20), (87, 2, 1, 20), (88, 1, 1, 20), (88, 2, 1, 20), (89, 1, 1, 20), (89, 2, 1, 20), (95, 1, 1, 20), (95, 2, 1, 20), (12, 1, 1, 30), (12, 2, 1, 30), (13, 1, 1, 30), (13, 2, 1, 30), (14, 1, 1, 30), (14, 2, 1, 30), (17, 1, 1, 30), (17, 2, 1, 30), (20, 1, 1, 30), (20, 2, 1, 30), (21, 1, 1, 30), (21, 2, 1, 30), (27, 1, 1, 30), (27, 2, 1, 30), (28, 1, 1, 30), (28, 2, 1, 30), (29, 1, 1, 30), (29, 2, 1, 30), (33, 1, 1, 30), (33, 2, 1, 30), (34, 1, 1, 30), (34, 2, 1, 30), (36, 1, 1, 30), (36, 2, 1, 30), (37, 1, 1, 30), (37, 2, 1, 30), (38, 1, 1, 30), (38, 2, 1, 30), (41, 1, 1, 30), (41, 2, 1, 30), (42, 1, 1, 30), (42, 2, 1, 30), (43, 1, 1, 30), (43, 2, 1, 30), (45, 1, 1, 30), (45, 2, 1, 30), (46, 1, 1, 30), (46, 2, 1, 30), (47, 1, 1, 30), (47, 2, 1, 30), (49, 1, 1, 30), (49, 2, 1, 30), (50, 1, 1, 30), (50, 2, 1, 30), (52, 1, 1, 30), (52, 2, 1, 30), (53, 1, 1, 30), (53, 2, 1, 30), (54, 1, 1, 30), (54, 2, 1, 30), (56, 1, 1, 30), (56, 2, 1, 30), (57, 1, 1, 30), (57, 2, 1, 30), (58, 1, 1, 30), (58, 2, 1, 30), (59, 1, 1, 30), (59, 2, 1, 30), (61, 1, 1, 30), (61, 2, 1, 30), (63, 1, 1, 30), (63, 2, 1, 30), (64, 1, 1, 30), (64, 2, 1, 30), (65, 1, 1, 30), (65, 2, 1, 30), (66, 1, 1, 30), (66, 2, 1, 30), (69, 1, 1, 30), (69, 2, 1, 30), (71, 1, 1, 30), (71, 2, 1, 30), (72, 1, 1, 30), (72, 2, 1, 30), (74, 1, 1, 30), (74, 2, 1, 30), (75, 1, 1, 30), (75, 2, 1, 30), (76, 1, 1, 30), (76, 2, 1, 30), (77, 1, 1, 30), (77, 2, 1, 30), (78, 1, 1, 30), (78, 2, 1, 30), (79, 1, 1, 30), (79, 2, 1, 30), (80, 1, 1, 30), (80, 2, 1, 30), (83, 1, 1, 30), (83, 2, 1, 30), (86, 1, 1, 30), (86, 2, 1, 30), (87, 1, 1, 30), (87, 2, 1, 30), (88, 1, 1, 30), (88, 2, 1, 30), (89, 1, 1, 30), (89, 2, 1, 30), (95, 1, 1, 30), (95, 2, 1, 30), (12, 1, 1, 40), (12, 2, 1, 40), (13, 1, 1, 40), (13, 2, 1, 40), (14, 1, 1, 40), (14, 2, 1, 40), (17, 1, 1, 40), (17, 2, 1, 40), (20, 1, 1, 40), (20, 2, 1, 40), (21, 1, 1, 40), (21, 2, 1, 40), (27, 1, 1, 40), (27, 2, 1, 40), (28, 1, 1, 40), (28, 2, 1, 40), (29, 1, 1, 40), (29, 2, 1, 40), (33, 1, 1, 40), (33, 2, 1, 40), (34, 1, 1, 40), (34, 2, 1, 40), (36, 1, 1, 40), (36, 2, 1, 40), (37, 1, 1, 40), (37, 2, 1, 40), (38, 1, 1, 40), (38, 2, 1, 40), (41, 1, 1, 40), (41, 2, 1, 40), (42, 1, 1, 40), (42, 2, 1, 40), (43, 1, 1, 40), (43, 2, 1, 40), (45, 1, 1, 40), (45, 2, 1, 40), (46, 1, 1, 40), (46, 2, 1, 40), (47, 1, 1, 40), (47, 2, 1, 40), (49, 1, 1, 40), (49, 2, 1, 40), (50, 1, 1, 40), (50, 2, 1, 40), (52, 1, 1, 40), (52, 2, 1, 40), (53, 1, 1, 40), (53, 2, 1, 40), (54, 1, 1, 40), (54, 2, 1, 40), (56, 1, 1, 40), (56, 2, 1, 40), (57, 1, 1, 40), (57, 2, 1, 40), (58, 1, 1, 40), (58, 2, 1, 40), (59, 1, 1, 40), (59, 2, 1, 40), (61, 1, 1, 40), (61, 2, 1, 40), (63, 1, 1, 40), (63, 2, 1, 40), (64, 1, 1, 40), (64, 2, 1, 40), (65, 1, 1, 40), (65, 2, 1, 40), (66, 1, 1, 40), (66, 2, 1, 40), (69, 1, 1, 40), (69, 2, 1, 40), (71, 1, 1, 40), (71, 2, 1, 40), (72, 1, 1, 40), (72, 2, 1, 40), (74, 1, 1, 40), (74, 2, 1, 40), (75, 1, 1, 40), (75, 2, 1, 40), (76, 1, 1, 40), (76, 2, 1, 40), (77, 1, 1, 40), (77, 2, 1, 40), (78, 1, 1, 40), (78, 2, 1, 40), (79, 1, 1, 40), (79, 2, 1, 40), (80, 1, 1, 40), (80, 2, 1, 40), (83, 1, 1, 40), (83, 2, 1, 40), (86, 1, 1, 40), (86, 2, 1, 40), (87, 1, 1, 40), (87, 2, 1, 40), (88, 1, 1, 40), (88, 2, 1, 40), (89, 1, 1, 40), (89, 2, 1, 40), (95, 1, 1, 40), (95, 2, 1, 40), (12, 1, 1, 50), (12, 2, 1, 50), (13, 1, 1, 50), (13, 2, 1, 50), (14, 1, 1, 50), (14, 2, 1, 50), (17, 1, 1, 50), (17, 2, 1, 50), (20, 1, 1, 50), (20, 2, 1, 50), (21, 1, 1, 50), (21, 2, 1, 50), (27, 1, 1, 50), (27, 2, 1, 50), (28, 1, 1, 50), (28, 2, 1, 50), (29, 1, 1, 50), (29, 2, 1, 50), (33, 1, 1, 50), (33, 2, 1, 50), (34, 1, 1, 50), (34, 2, 1, 50), (36, 1, 1, 50), (36, 2, 1, 50), (37, 1, 1, 50), (37, 2, 1, 50), (38, 1, 1, 50), (38, 2, 1, 50), (41, 1, 1, 50), (41, 2, 1, 50), (42, 1, 1, 50), (42, 2, 1, 50), (43, 1, 1, 50), (43, 2, 1, 50), (45, 1, 1, 50), (45, 2, 1, 50), (46, 1, 1, 50), (46, 2, 1, 50), (47, 1, 1, 50), (47, 2, 1, 50), (49, 1, 1, 50), (49, 2, 1, 50), (50, 1, 1, 50), (50, 2, 1, 50), (52, 1, 1, 50), (52, 2, 1, 50), (53, 1, 1, 50), (53, 2, 1, 50), (54, 1, 1, 50), (54, 2, 1, 50), (56, 1, 1, 50), (56, 2, 1, 50), (57, 1, 1, 50), (57, 2, 1, 50), (58, 1, 1, 50), (58, 2, 1, 50), (59, 1, 1, 50), (59, 2, 1, 50), (61, 1, 1, 50), (61, 2, 1, 50), (63, 1, 1, 50), (63, 2, 1, 50), (64, 1, 1, 50), (64, 2, 1, 50), (65, 1, 1, 50), (65, 2, 1, 50), (66, 1, 1, 50), (66, 2, 1, 50), (69, 1, 1, 50), (69, 2, 1, 50), (71, 1, 1, 50), (71, 2, 1, 50), (72, 1, 1, 50), (72, 2, 1, 50), (74, 1, 1, 50), (74, 2, 1, 50), (75, 1, 1, 50), (75, 2, 1, 50), (76, 1, 1, 50), (76, 2, 1, 50), (77, 1, 1, 50), (77, 2, 1, 50), (78, 1, 1, 50), (78, 2, 1, 50), (79, 1, 1, 50), (79, 2, 1, 50), (80, 1, 1, 50), (80, 2, 1, 50), (83, 1, 1, 50), (83, 2, 1, 50), (86, 1, 1, 50), (86, 2, 1, 50), (87, 1, 1, 50), (87, 2, 1, 50), (88, 1, 1, 50), (88, 2, 1, 50), (89, 1, 1, 50), (89, 2, 1, 50), (95, 1, 1, 50), (95, 2, 1, 50), (12, 1, 2, 0), (12, 2, 2, 0), (13, 1, 2, 0), (13, 2, 2, 0), (14, 1, 2, 0), (14, 2, 2, 0), (17, 1, 2, 0), (17, 2, 2, 0), (20, 1, 2, 0), (20, 2, 2, 0), (21, 1, 2, 0), (21, 2, 2, 0), (27, 1, 2, 0), (27, 2, 2, 0), (28, 1, 2, 0), (28, 2, 2, 0), (29, 1, 2, 0), (29, 2, 2, 0), (33, 1, 2, 0), (33, 2, 2, 0), (34, 1, 2, 0), (34, 2, 2, 0), (36, 1, 2, 0), (36, 2, 2, 0), (37, 1, 2, 0), (37, 2, 2, 0), (38, 1, 2, 0), (38, 2, 2, 0), (41, 1, 2, 0), (41, 2, 2, 0), (42, 1, 2, 0), (42, 2, 2, 0), (43, 1, 2, 0), (43, 2, 2, 0), (45, 1, 2, 0), (45, 2, 2, 0), (46, 1, 2, 0), (46, 2, 2, 0), (47, 1, 2, 0), (47, 2, 2, 0), (49, 1, 2, 0), (49, 2, 2, 0), (50, 1, 2, 0), (50, 2, 2, 0), (52, 1, 2, 0), (52, 2, 2, 0), (53, 1, 2, 0), (53, 2, 2, 0), (54, 1, 2, 0), (54, 2, 2, 0), (56, 1, 2, 0), (56, 2, 2, 0), (57, 1, 2, 0), (57, 2, 2, 0), (58, 1, 2, 0), (58, 2, 2, 0), (59, 1, 2, 0), (59, 2, 2, 0), (61, 1, 2, 0), (61, 2, 2, 0), (63, 1, 2, 0), (63, 2, 2, 0), (64, 1, 2, 0), (64, 2, 2, 0), (65, 1, 2, 0), (65, 2, 2, 0), (66, 1, 2, 0), (66, 2, 2, 0), (69, 1, 2, 0), (69, 2, 2, 0), (71, 1, 2, 0), (71, 2, 2, 0), (72, 1, 2, 0), (72, 2, 2, 0), (74, 1, 2, 0), (74, 2, 2, 0), (75, 1, 2, 0), (75, 2, 2, 0), (76, 1, 2, 0), (76, 2, 2, 0), (77, 1, 2, 0), (77, 2, 2, 0), (78, 1, 2, 0), (78, 2, 2, 0), (79, 1, 2, 0), (79, 2, 2, 0), (80, 1, 2, 0), (80, 2, 2, 0), (83, 1, 2, 0), (83, 2, 2, 0), (86, 1, 2, 0), (86, 2, 2, 0), (87, 1, 2, 0), (87, 2, 2, 0), (88, 1, 2, 0), (88, 2, 2, 0), (89, 1, 2, 0), (89, 2, 2, 0), (95, 1, 2, 0), (95, 2, 2, 0), (12, 1, 2, 10), (12, 2, 2, 10), (13, 1, 2, 10), (13, 2, 2, 10), (14, 1, 2, 10), (14, 2, 2, 10), (17, 1, 2, 10), (17, 2, 2, 10), (20, 1, 2, 10), (20, 2, 2, 10), (21, 1, 2, 10), (21, 2, 2, 10), (27, 1, 2, 10), (27, 2, 2, 10), (28, 1, 2, 10), (28, 2, 2, 10), (29, 1, 2, 10), (29, 2, 2, 10), (33, 1, 2, 10), (33, 2, 2, 10), (34, 1, 2, 10), (34, 2, 2, 10), (36, 1, 2, 10), (36, 2, 2, 10), (37, 1, 2, 10), (37, 2, 2, 10), (38, 1, 2, 10), (38, 2, 2, 10), (41, 1, 2, 10), (41, 2, 2, 10), (42, 1, 2, 10), (42, 2, 2, 10), (43, 1, 2, 10), (43, 2, 2, 10), (45, 1, 2, 10), (45, 2, 2, 10), (46, 1, 2, 10), (46, 2, 2, 10), (47, 1, 2, 10), (47, 2, 2, 10), (49, 1, 2, 10), (49, 2, 2, 10), (50, 1, 2, 10), (50, 2, 2, 10), (52, 1, 2, 10), (52, 2, 2, 10), (53, 1, 2, 10), (53, 2, 2, 10), (54, 1, 2, 10), (54, 2, 2, 10), (56, 1, 2, 10), (56, 2, 2, 10), (57, 1, 2, 10), (57, 2, 2, 10), (58, 1, 2, 10), (58, 2, 2, 10), (59, 1, 2, 10), (59, 2, 2, 10), (61, 1, 2, 10), (61, 2, 2, 10), (63, 1, 2, 10), (63, 2, 2, 10), (64, 1, 2, 10), (64, 2, 2, 10), (65, 1, 2, 10), (65, 2, 2, 10), (66, 1, 2, 10), (66, 2, 2, 10), (69, 1, 2, 10), (69, 2, 2, 10), (71, 1, 2, 10), (71, 2, 2, 10), (72, 1, 2, 10), (72, 2, 2, 10), (74, 1, 2, 10), (74, 2, 2, 10), (75, 1, 2, 10), (75, 2, 2, 10), (76, 1, 2, 10), (76, 2, 2, 10), (77, 1, 2, 10), (77, 2, 2, 10), (78, 1, 2, 10), (78, 2, 2, 10), (79, 1, 2, 10), (79, 2, 2, 10), (80, 1, 2, 10), (80, 2, 2, 10), (83, 1, 2, 10), (83, 2, 2, 10), (86, 1, 2, 10), (86, 2, 2, 10), (87, 1, 2, 10), (87, 2, 2, 10), (88, 1, 2, 10), (88, 2, 2, 10), (89, 1, 2, 10), (89, 2, 2, 10), (95, 1, 2, 10), (95, 2, 2, 10), (12, 1, 2, 20), (12, 2, 2, 20), (13, 1, 2, 20), (13, 2, 2, 20), (14, 1, 2, 20), (14, 2, 2, 20), (17, 1, 2, 20), (17, 2, 2, 20), (20, 1, 2, 20), (20, 2, 2, 20), (21, 1, 2, 20), (21, 2, 2, 20), (27, 1, 2, 20), (27, 2, 2, 20), (28, 1, 2, 20), (28, 2, 2, 20), (29, 1, 2, 20), (29, 2, 2, 20), (33, 1, 2, 20), (33, 2, 2, 20), (34, 1, 2, 20), (34, 2, 2, 20), (36, 1, 2, 20), (36, 2, 2, 20), (37, 1, 2, 20), (37, 2, 2, 20), (38, 1, 2, 20), (38, 2, 2, 20), (41, 1, 2, 20), (41, 2, 2, 20), (42, 1, 2, 20), (42, 2, 2, 20), (43, 1, 2, 20), (43, 2, 2, 20), (45, 1, 2, 20), (45, 2, 2, 20), (46, 1, 2, 20), (46, 2, 2, 20), (47, 1, 2, 20), (47, 2, 2, 20), (49, 1, 2, 20), (49, 2, 2, 20), (50, 1, 2, 20), (50, 2, 2, 20), (52, 1, 2, 20), (52, 2, 2, 20), (53, 1, 2, 20), (53, 2, 2, 20), (54, 1, 2, 20), (54, 2, 2, 20), (56, 1, 2, 20), (56, 2, 2, 20), (57, 1, 2, 20), (57, 2, 2, 20), (58, 1, 2, 20), (58, 2, 2, 20), (59, 1, 2, 20), (59, 2, 2, 20), (61, 1, 2, 20), (61, 2, 2, 20), (63, 1, 2, 20), (63, 2, 2, 20), (64, 1, 2, 20), (64, 2, 2, 20), (65, 1, 2, 20), (65, 2, 2, 20), (66, 1, 2, 20), (66, 2, 2, 20), (69, 1, 2, 20), (69, 2, 2, 20), (71, 1, 2, 20), (71, 2, 2, 20), (72, 1, 2, 20), (72, 2, 2, 20), (74, 1, 2, 20), (74, 2, 2, 20), (75, 1, 2, 20), (75, 2, 2, 20), (76, 1, 2, 20), (76, 2, 2, 20), (77, 1, 2, 20), (77, 2, 2, 20), (78, 1, 2, 20), (78, 2, 2, 20), (79, 1, 2, 20), (79, 2, 2, 20), (80, 1, 2, 20), (80, 2, 2, 20), (83, 1, 2, 20), (83, 2, 2, 20), (86, 1, 2, 20), (86, 2, 2, 20), (87, 1, 2, 20), (87, 2, 2, 20), (88, 1, 2, 20), (88, 2, 2, 20), (89, 1, 2, 20), (89, 2, 2, 20), (95, 1, 2, 20), (95, 2, 2, 20), (12, 1, 2, 30), (12, 2, 2, 30), (13, 1, 2, 30), (13, 2, 2, 30), (14, 1, 2, 30), (14, 2, 2, 30), (17, 1, 2, 30), (17, 2, 2, 30), (20, 1, 2, 30), (20, 2, 2, 30), (21, 1, 2, 30), (21, 2, 2, 30), (27, 1, 2, 30), (27, 2, 2, 30), (28, 1, 2, 30), (28, 2, 2, 30), (29, 1, 2, 30), (29, 2, 2, 30), (33, 1, 2, 30), (33, 2, 2, 30), (34, 1, 2, 30), (34, 2, 2, 30), (36, 1, 2, 30), (36, 2, 2, 30), (37, 1, 2, 30), (37, 2, 2, 30), (38, 1, 2, 30), (38, 2, 2, 30), (41, 1, 2, 30), (41, 2, 2, 30), (42, 1, 2, 30), (42, 2, 2, 30), (43, 1, 2, 30), (43, 2, 2, 30), (45, 1, 2, 30), (45, 2, 2, 30), (46, 1, 2, 30), (46, 2, 2, 30), (47, 1, 2, 30), (47, 2, 2, 30), (49, 1, 2, 30), (49, 2, 2, 30), (50, 1, 2, 30), (50, 2, 2, 30), (52, 1, 2, 30), (52, 2, 2, 30), (53, 1, 2, 30), (53, 2, 2, 30), (54, 1, 2, 30), (54, 2, 2, 30), (56, 1, 2, 30), (56, 2, 2, 30), (57, 1, 2, 30), (57, 2, 2, 30), (58, 1, 2, 30), (58, 2, 2, 30), (59, 1, 2, 30), (59, 2, 2, 30), (61, 1, 2, 30), (61, 2, 2, 30), (63, 1, 2, 30), (63, 2, 2, 30), (64, 1, 2, 30), (64, 2, 2, 30), (65, 1, 2, 30), (65, 2, 2, 30), (66, 1, 2, 30), (66, 2, 2, 30), (69, 1, 2, 30), (69, 2, 2, 30), (71, 1, 2, 30), (71, 2, 2, 30), (72, 1, 2, 30), (72, 2, 2, 30), (74, 1, 2, 30), (74, 2, 2, 30), (75, 1, 2, 30), (75, 2, 2, 30), (76, 1, 2, 30), (76, 2, 2, 30), (77, 1, 2, 30), (77, 2, 2, 30), (78, 1, 2, 30), (78, 2, 2, 30), (79, 1, 2, 30), (79, 2, 2, 30), (80, 1, 2, 30), (80, 2, 2, 30), (83, 1, 2, 30), (83, 2, 2, 30), (86, 1, 2, 30), (86, 2, 2, 30), (87, 1, 2, 30), (87, 2, 2, 30), (88, 1, 2, 30), (88, 2, 2, 30), (89, 1, 2, 30), (89, 2, 2, 30), (95, 1, 2, 30), (95, 2, 2, 30), (12, 1, 2, 40), (12, 2, 2, 40), (13, 1, 2, 40), (13, 2, 2, 40), (14, 1, 2, 40), (14, 2, 2, 40), (17, 1, 2, 40), (17, 2, 2, 40), (20, 1, 2, 40), (20, 2, 2, 40), (21, 1, 2, 40), (21, 2, 2, 40), (27, 1, 2, 40), (27, 2, 2, 40), (28, 1, 2, 40), (28, 2, 2, 40), (29, 1, 2, 40), (29, 2, 2, 40), (33, 1, 2, 40), (33, 2, 2, 40), (34, 1, 2, 40), (34, 2, 2, 40), (36, 1, 2, 40), (36, 2, 2, 40), (37, 1, 2, 40), (37, 2, 2, 40), (38, 1, 2, 40), (38, 2, 2, 40), (41, 1, 2, 40), (41, 2, 2, 40), (42, 1, 2, 40), (42, 2, 2, 40), (43, 1, 2, 40), (43, 2, 2, 40), (45, 1, 2, 40), (45, 2, 2, 40), (46, 1, 2, 40), (46, 2, 2, 40), (47, 1, 2, 40), (47, 2, 2, 40), (49, 1, 2, 40), (49, 2, 2, 40), (50, 1, 2, 40), (50, 2, 2, 40), (52, 1, 2, 40), (52, 2, 2, 40), (53, 1, 2, 40), (53, 2, 2, 40), (54, 1, 2, 40), (54, 2, 2, 40), (56, 1, 2, 40), (56, 2, 2, 40), (57, 1, 2, 40), (57, 2, 2, 40), (58, 1, 2, 40), (58, 2, 2, 40), (59, 1, 2, 40), (59, 2, 2, 40), (61, 1, 2, 40), (61, 2, 2, 40), (63, 1, 2, 40), (63, 2, 2, 40), (64, 1, 2, 40), (64, 2, 2, 40), (65, 1, 2, 40), (65, 2, 2, 40), (66, 1, 2, 40), (66, 2, 2, 40), (69, 1, 2, 40), (69, 2, 2, 40), (71, 1, 2, 40), (71, 2, 2, 40), (72, 1, 2, 40), (72, 2, 2, 40), (74, 1, 2, 40), (74, 2, 2, 40), (75, 1, 2, 40), (75, 2, 2, 40), (76, 1, 2, 40), (76, 2, 2, 40), (77, 1, 2, 40), (77, 2, 2, 40), (78, 1, 2, 40), (78, 2, 2, 40), (79, 1, 2, 40), (79, 2, 2, 40), (80, 1, 2, 40), (80, 2, 2, 40), (83, 1, 2, 40), (83, 2, 2, 40), (86, 1, 2, 40), (86, 2, 2, 40), (87, 1, 2, 40), (87, 2, 2, 40), (88, 1, 2, 40), (88, 2, 2, 40), (89, 1, 2, 40), (89, 2, 2, 40), (95, 1, 2, 40), (95, 2, 2, 40), (12, 1, 2, 50), (12, 2, 2, 50), (13, 1, 2, 50), (13, 2, 2, 50), (14, 1, 2, 50), (14, 2, 2, 50), (17, 1, 2, 50), (17, 2, 2, 50), (20, 1, 2, 50), (20, 2, 2, 50), (21, 1, 2, 50), (21, 2, 2, 50), (27, 1, 2, 50), (27, 2, 2, 50), (28, 1, 2, 50), (28, 2, 2, 50), (29, 1, 2, 50), (29, 2, 2, 50), (33, 1, 2, 50), (33, 2, 2, 50), (34, 1, 2, 50), (34, 2, 2, 50), (36, 1, 2, 50), (36, 2, 2, 50), (37, 1, 2, 50), (37, 2, 2, 50), (38, 1, 2, 50), (38, 2, 2, 50), (41, 1, 2, 50), (41, 2, 2, 50), (42, 1, 2, 50), (42, 2, 2, 50), (43, 1, 2, 50), (43, 2, 2, 50), (45, 1, 2, 50), (45, 2, 2, 50), (46, 1, 2, 50), (46, 2, 2, 50), (47, 1, 2, 50), (47, 2, 2, 50), (49, 1, 2, 50), (49, 2, 2, 50), (50, 1, 2, 50), (50, 2, 2, 50), (52, 1, 2, 50), (52, 2, 2, 50), (53, 1, 2, 50), (53, 2, 2, 50), (54, 1, 2, 50), (54, 2, 2, 50), (56, 1, 2, 50), (56, 2, 2, 50), (57, 1, 2, 50), (57, 2, 2, 50), (58, 1, 2, 50), (58, 2, 2, 50), (59, 1, 2, 50), (59, 2, 2, 50), (61, 1, 2, 50), (61, 2, 2, 50), (63, 1, 2, 50), (63, 2, 2, 50), (64, 1, 2, 50), (64, 2, 2, 50), (65, 1, 2, 50), (65, 2, 2, 50), (66, 1, 2, 50), (66, 2, 2, 50), (69, 1, 2, 50), (69, 2, 2, 50), (71, 1, 2, 50), (71, 2, 2, 50), (72, 1, 2, 50), (72, 2, 2, 50), (74, 1, 2, 50), (74, 2, 2, 50), (75, 1, 2, 50), (75, 2, 2, 50), (76, 1, 2, 50), (76, 2, 2, 50), (77, 1, 2, 50), (77, 2, 2, 50), (78, 1, 2, 50), (78, 2, 2, 50), (79, 1, 2, 50), (79, 2, 2, 50), (80, 1, 2, 50), (80, 2, 2, 50), (83, 1, 2, 50), (83, 2, 2, 50), (86, 1, 2, 50), (86, 2, 2, 50), (87, 1, 2, 50), (87, 2, 2, 50), (88, 1, 2, 50), (88, 2, 2, 50), (89, 1, 2, 50), (89, 2, 2, 50), (95, 1, 2, 50), (95, 2, 2, 50), (12, 1, 3, 0), (12, 2, 3, 0), (13, 1, 3, 0), (13, 2, 3, 0), (14, 1, 3, 0), (14, 2, 3, 0), (17, 1, 3, 0), (17, 2, 3, 0), (20, 1, 3, 0), (20, 2, 3, 0), (21, 1, 3, 0), (21, 2, 3, 0), (27, 1, 3, 0), (27, 2, 3, 0), (28, 1, 3, 0), (28, 2, 3, 0), (29, 1, 3, 0), (29, 2, 3, 0), (33, 1, 3, 0), (33, 2, 3, 0), (34, 1, 3, 0), (34, 2, 3, 0), (36, 1, 3, 0), (36, 2, 3, 0), (37, 1, 3, 0), (37, 2, 3, 0), (38, 1, 3, 0), (38, 2, 3, 0), (41, 1, 3, 0), (41, 2, 3, 0), (42, 1, 3, 0), (42, 2, 3, 0), (43, 1, 3, 0), (43, 2, 3, 0), (45, 1, 3, 0), (45, 2, 3, 0), (46, 1, 3, 0), (46, 2, 3, 0), (47, 1, 3, 0), (47, 2, 3, 0), (49, 1, 3, 0), (49, 2, 3, 0), (50, 1, 3, 0), (50, 2, 3, 0), (52, 1, 3, 0), (52, 2, 3, 0), (53, 1, 3, 0), (53, 2, 3, 0), (54, 1, 3, 0), (54, 2, 3, 0), (56, 1, 3, 0), (56, 2, 3, 0), (57, 1, 3, 0), (57, 2, 3, 0), (58, 1, 3, 0), (58, 2, 3, 0), (59, 1, 3, 0), (59, 2, 3, 0), (61, 1, 3, 0), (61, 2, 3, 0), (63, 1, 3, 0), (63, 2, 3, 0), (64, 1, 3, 0), (64, 2, 3, 0), (65, 1, 3, 0), (65, 2, 3, 0), (66, 1, 3, 0), (66, 2, 3, 0), (69, 1, 3, 0), (69, 2, 3, 0), (71, 1, 3, 0), (71, 2, 3, 0), (72, 1, 3, 0), (72, 2, 3, 0), (74, 1, 3, 0), (74, 2, 3, 0), (75, 1, 3, 0), (75, 2, 3, 0), (76, 1, 3, 0), (76, 2, 3, 0), (77, 1, 3, 0), (77, 2, 3, 0), (78, 1, 3, 0), (78, 2, 3, 0), (79, 1, 3, 0), (79, 2, 3, 0), (80, 1, 3, 0), (80, 2, 3, 0), (83, 1, 3, 0), (83, 2, 3, 0), (86, 1, 3, 0), (86, 2, 3, 0), (87, 1, 3, 0), (87, 2, 3, 0), (88, 1, 3, 0), (88, 2, 3, 0), (89, 1, 3, 0), (89, 2, 3, 0), (95, 1, 3, 0), (95, 2, 3, 0), (12, 1, 3, 10), (12, 2, 3, 10), (13, 1, 3, 10), (13, 2, 3, 10), (14, 1, 3, 10), (14, 2, 3, 10), (17, 1, 3, 10), (17, 2, 3, 10), (20, 1, 3, 10), (20, 2, 3, 10), (21, 1, 3, 10), (21, 2, 3, 10), (27, 1, 3, 10), (27, 2, 3, 10), (28, 1, 3, 10), (28, 2, 3, 10), (29, 1, 3, 10), (29, 2, 3, 10), (33, 1, 3, 10), (33, 2, 3, 10), (34, 1, 3, 10), (34, 2, 3, 10), (36, 1, 3, 10), (36, 2, 3, 10), (37, 1, 3, 10), (37, 2, 3, 10), (38, 1, 3, 10), (38, 2, 3, 10), (41, 1, 3, 10), (41, 2, 3, 10), (42, 1, 3, 10), (42, 2, 3, 10), (43, 1, 3, 10), (43, 2, 3, 10), (45, 1, 3, 10), (45, 2, 3, 10), (46, 1, 3, 10), (46, 2, 3, 10), (47, 1, 3, 10), (47, 2, 3, 10), (49, 1, 3, 10), (49, 2, 3, 10), (50, 1, 3, 10), (50, 2, 3, 10), (52, 1, 3, 10), (52, 2, 3, 10), (53, 1, 3, 10), (53, 2, 3, 10), (54, 1, 3, 10), (54, 2, 3, 10), (56, 1, 3, 10), (56, 2, 3, 10), (57, 1, 3, 10), (57, 2, 3, 10), (58, 1, 3, 10), (58, 2, 3, 10), (59, 1, 3, 10), (59, 2, 3, 10), (61, 1, 3, 10), (61, 2, 3, 10), (63, 1, 3, 10), (63, 2, 3, 10), (64, 1, 3, 10), (64, 2, 3, 10), (65, 1, 3, 10), (65, 2, 3, 10), (66, 1, 3, 10), (66, 2, 3, 10), (69, 1, 3, 10), (69, 2, 3, 10), (71, 1, 3, 10), (71, 2, 3, 10), (72, 1, 3, 10), (72, 2, 3, 10), (74, 1, 3, 10), (74, 2, 3, 10), (75, 1, 3, 10), (75, 2, 3, 10), (76, 1, 3, 10), (76, 2, 3, 10), (77, 1, 3, 10), (77, 2, 3, 10), (78, 1, 3, 10), (78, 2, 3, 10), (79, 1, 3, 10), (79, 2, 3, 10), (80, 1, 3, 10), (80, 2, 3, 10), (83, 1, 3, 10), (83, 2, 3, 10), (86, 1, 3, 10), (86, 2, 3, 10), (87, 1, 3, 10), (87, 2, 3, 10), (88, 1, 3, 10), (88, 2, 3, 10), (89, 1, 3, 10), (89, 2, 3, 10), (95, 1, 3, 10), (95, 2, 3, 10), (12, 1, 3, 20), (12, 2, 3, 20), (13, 1, 3, 20), (13, 2, 3, 20), (14, 1, 3, 20), (14, 2, 3, 20), (17, 1, 3, 20), (17, 2, 3, 20), (20, 1, 3, 20), (20, 2, 3, 20), (21, 1, 3, 20), (21, 2, 3, 20), (27, 1, 3, 20), (27, 2, 3, 20), (28, 1, 3, 20), (28, 2, 3, 20), (29, 1, 3, 20), (29, 2, 3, 20), (33, 1, 3, 20), (33, 2, 3, 20), (34, 1, 3, 20), (34, 2, 3, 20), (36, 1, 3, 20), (36, 2, 3, 20), (37, 1, 3, 20), (37, 2, 3, 20), (38, 1, 3, 20), (38, 2, 3, 20), (41, 1, 3, 20), (41, 2, 3, 20), (42, 1, 3, 20), (42, 2, 3, 20), (43, 1, 3, 20), (43, 2, 3, 20), (45, 1, 3, 20), (45, 2, 3, 20), (46, 1, 3, 20), (46, 2, 3, 20), (47, 1, 3, 20), (47, 2, 3, 20), (49, 1, 3, 20), (49, 2, 3, 20), (50, 1, 3, 20), (50, 2, 3, 20), (52, 1, 3, 20), (52, 2, 3, 20), (53, 1, 3, 20), (53, 2, 3, 20), (54, 1, 3, 20), (54, 2, 3, 20), (56, 1, 3, 20), (56, 2, 3, 20), (57, 1, 3, 20), (57, 2, 3, 20), (58, 1, 3, 20), (58, 2, 3, 20), (59, 1, 3, 20), (59, 2, 3, 20), (61, 1, 3, 20), (61, 2, 3, 20), (63, 1, 3, 20), (63, 2, 3, 20), (64, 1, 3, 20), (64, 2, 3, 20), (65, 1, 3, 20), (65, 2, 3, 20), (66, 1, 3, 20), (66, 2, 3, 20), (69, 1, 3, 20), (69, 2, 3, 20), (71, 1, 3, 20), (71, 2, 3, 20), (72, 1, 3, 20), (72, 2, 3, 20), (74, 1, 3, 20), (74, 2, 3, 20), (75, 1, 3, 20), (75, 2, 3, 20), (76, 1, 3, 20), (76, 2, 3, 20), (77, 1, 3, 20), (77, 2, 3, 20), (78, 1, 3, 20), (78, 2, 3, 20), (79, 1, 3, 20), (79, 2, 3, 20), (80, 1, 3, 20), (80, 2, 3, 20), (83, 1, 3, 20), (83, 2, 3, 20), (86, 1, 3, 20), (86, 2, 3, 20), (87, 1, 3, 20), (87, 2, 3, 20), (88, 1, 3, 20), (88, 2, 3, 20), (89, 1, 3, 20), (89, 2, 3, 20), (95, 1, 3, 20), (95, 2, 3, 20), (12, 1, 3, 30), (12, 2, 3, 30), (13, 1, 3, 30), (13, 2, 3, 30), (14, 1, 3, 30), (14, 2, 3, 30), (17, 1, 3, 30), (17, 2, 3, 30), (20, 1, 3, 30), (20, 2, 3, 30), (21, 1, 3, 30), (21, 2, 3, 30), (27, 1, 3, 30), (27, 2, 3, 30), (28, 1, 3, 30), (28, 2, 3, 30), (29, 1, 3, 30), (29, 2, 3, 30), (33, 1, 3, 30), (33, 2, 3, 30), (34, 1, 3, 30), (34, 2, 3, 30), (36, 1, 3, 30), (36, 2, 3, 30), (37, 1, 3, 30), (37, 2, 3, 30), (38, 1, 3, 30), (38, 2, 3, 30), (41, 1, 3, 30), (41, 2, 3, 30), (42, 1, 3, 30), (42, 2, 3, 30), (43, 1, 3, 30), (43, 2, 3, 30), (45, 1, 3, 30), (45, 2, 3, 30), (46, 1, 3, 30), (46, 2, 3, 30), (47, 1, 3, 30), (47, 2, 3, 30), (49, 1, 3, 30), (49, 2, 3, 30), (50, 1, 3, 30), (50, 2, 3, 30), (52, 1, 3, 30), (52, 2, 3, 30), (53, 1, 3, 30), (53, 2, 3, 30), (54, 1, 3, 30), (54, 2, 3, 30), (56, 1, 3, 30), (56, 2, 3, 30), (57, 1, 3, 30), (57, 2, 3, 30), (58, 1, 3, 30), (58, 2, 3, 30), (59, 1, 3, 30), (59, 2, 3, 30), (61, 1, 3, 30), (61, 2, 3, 30), (63, 1, 3, 30), (63, 2, 3, 30), (64, 1, 3, 30), (64, 2, 3, 30), (65, 1, 3, 30), (65, 2, 3, 30), (66, 1, 3, 30), (66, 2, 3, 30), (69, 1, 3, 30), (69, 2, 3, 30), (71, 1, 3, 30), (71, 2, 3, 30), (72, 1, 3, 30), (72, 2, 3, 30), (74, 1, 3, 30), (74, 2, 3, 30), (75, 1, 3, 30), (75, 2, 3, 30), (76, 1, 3, 30), (76, 2, 3, 30), (77, 1, 3, 30), (77, 2, 3, 30), (78, 1, 3, 30), (78, 2, 3, 30), (79, 1, 3, 30), (79, 2, 3, 30), (80, 1, 3, 30), (80, 2, 3, 30), (83, 1, 3, 30), (83, 2, 3, 30), (86, 1, 3, 30), (86, 2, 3, 30), (87, 1, 3, 30), (87, 2, 3, 30), (88, 1, 3, 30), (88, 2, 3, 30), (89, 1, 3, 30), (89, 2, 3, 30), (95, 1, 3, 30), (95, 2, 3, 30), (12, 1, 3, 40), (12, 2, 3, 40), (13, 1, 3, 40), (13, 2, 3, 40), (14, 1, 3, 40), (14, 2, 3, 40), (17, 1, 3, 40), (17, 2, 3, 40), (20, 1, 3, 40), (20, 2, 3, 40), (21, 1, 3, 40), (21, 2, 3, 40), (27, 1, 3, 40), (27, 2, 3, 40), (28, 1, 3, 40), (28, 2, 3, 40), (29, 1, 3, 40), (29, 2, 3, 40), (33, 1, 3, 40), (33, 2, 3, 40), (34, 1, 3, 40), (34, 2, 3, 40), (36, 1, 3, 40), (36, 2, 3, 40), (37, 1, 3, 40), (37, 2, 3, 40), (38, 1, 3, 40), (38, 2, 3, 40), (41, 1, 3, 40), (41, 2, 3, 40), (42, 1, 3, 40), (42, 2, 3, 40), (43, 1, 3, 40), (43, 2, 3, 40), (45, 1, 3, 40), (45, 2, 3, 40), (46, 1, 3, 40), (46, 2, 3, 40), (47, 1, 3, 40), (47, 2, 3, 40), (49, 1, 3, 40), (49, 2, 3, 40), (50, 1, 3, 40), (50, 2, 3, 40), (52, 1, 3, 40), (52, 2, 3, 40), (53, 1, 3, 40), (53, 2, 3, 40), (54, 1, 3, 40), (54, 2, 3, 40), (56, 1, 3, 40), (56, 2, 3, 40), (57, 1, 3, 40), (57, 2, 3, 40), (58, 1, 3, 40), (58, 2, 3, 40), (59, 1, 3, 40), (59, 2, 3, 40), (61, 1, 3, 40), (61, 2, 3, 40), (63, 1, 3, 40), (63, 2, 3, 40), (64, 1, 3, 40), (64, 2, 3, 40), (65, 1, 3, 40), (65, 2, 3, 40), (66, 1, 3, 40), (66, 2, 3, 40), (69, 1, 3, 40), (69, 2, 3, 40), (71, 1, 3, 40), (71, 2, 3, 40), (72, 1, 3, 40), (72, 2, 3, 40), (74, 1, 3, 40), (74, 2, 3, 40), (75, 1, 3, 40), (75, 2, 3, 40), (76, 1, 3, 40), (76, 2, 3, 40), (77, 1, 3, 40), (77, 2, 3, 40), (78, 1, 3, 40), (78, 2, 3, 40), (79, 1, 3, 40), (79, 2, 3, 40), (80, 1, 3, 40), (80, 2, 3, 40), (83, 1, 3, 40), (83, 2, 3, 40), (86, 1, 3, 40), (86, 2, 3, 40), (87, 1, 3, 40), (87, 2, 3, 40), (88, 1, 3, 40), (88, 2, 3, 40), (89, 1, 3, 40), (89, 2, 3, 40), (95, 1, 3, 40), (95, 2, 3, 40), (12, 1, 3, 50), (12, 2, 3, 50), (13, 1, 3, 50), (13, 2, 3, 50), (14, 1, 3, 50), (14, 2, 3, 50), (17, 1, 3, 50), (17, 2, 3, 50), (20, 1, 3, 50), (20, 2, 3, 50), (21, 1, 3, 50), (21, 2, 3, 50), (27, 1, 3, 50), (27, 2, 3, 50), (28, 1, 3, 50), (28, 2, 3, 50), (29, 1, 3, 50), (29, 2, 3, 50), (33, 1, 3, 50), (33, 2, 3, 50), (34, 1, 3, 50), (34, 2, 3, 50), (36, 1, 3, 50), (36, 2, 3, 50), (37, 1, 3, 50), (37, 2, 3, 50), (38, 1, 3, 50), (38, 2, 3, 50), (41, 1, 3, 50), (41, 2, 3, 50), (42, 1, 3, 50), (42, 2, 3, 50), (43, 1, 3, 50), (43, 2, 3, 50), (45, 1, 3, 50), (45, 2, 3, 50), (46, 1, 3, 50), (46, 2, 3, 50), (47, 1, 3, 50), (47, 2, 3, 50), (49, 1, 3, 50), (49, 2, 3, 50), (50, 1, 3, 50), (50, 2, 3, 50), (52, 1, 3, 50), (52, 2, 3, 50), (53, 1, 3, 50), (53, 2, 3, 50), (54, 1, 3, 50), (54, 2, 3, 50), (56, 1, 3, 50), (56, 2, 3, 50), (57, 1, 3, 50), (57, 2, 3, 50), (58, 1, 3, 50), (58, 2, 3, 50), (59, 1, 3, 50), (59, 2, 3, 50), (61, 1, 3, 50), (61, 2, 3, 50), (63, 1, 3, 50), (63, 2, 3, 50), (64, 1, 3, 50), (64, 2, 3, 50), (65, 1, 3, 50), (65, 2, 3, 50), (66, 1, 3, 50), (66, 2, 3, 50), (69, 1, 3, 50), (69, 2, 3, 50), (71, 1, 3, 50), (71, 2, 3, 50), (72, 1, 3, 50), (72, 2, 3, 50), (74, 1, 3, 50), (74, 2, 3, 50), (75, 1, 3, 50), (75, 2, 3, 50), (76, 1, 3, 50), (76, 2, 3, 50), (77, 1, 3, 50), (77, 2, 3, 50), (78, 1, 3, 50), (78, 2, 3, 50), (79, 1, 3, 50), (79, 2, 3, 50), (80, 1, 3, 50), (80, 2, 3, 50), (83, 1, 3, 50), (83, 2, 3, 50), (86, 1, 3, 50), (86, 2, 3, 50), (87, 1, 3, 50), (87, 2, 3, 50), (88, 1, 3, 50), (88, 2, 3, 50), (89, 1, 3, 50), (89, 2, 3, 50), (95, 1, 3, 50), (95, 2, 3, 50), (12, 1, 4, 0), (12, 2, 4, 0), (13, 1, 4, 0), (13, 2, 4, 0), (14, 1, 4, 0), (14, 2, 4, 0), (17, 1, 4, 0), (17, 2, 4, 0), (20, 1, 4, 0), (20, 2, 4, 0), (21, 1, 4, 0), (21, 2, 4, 0), (27, 1, 4, 0), (27, 2, 4, 0), (28, 1, 4, 0), (28, 2, 4, 0), (29, 1, 4, 0), (29, 2, 4, 0), (33, 1, 4, 0), (33, 2, 4, 0), (34, 1, 4, 0), (34, 2, 4, 0), (36, 1, 4, 0), (36, 2, 4, 0), (37, 1, 4, 0), (37, 2, 4, 0), (38, 1, 4, 0), (38, 2, 4, 0), (41, 1, 4, 0), (41, 2, 4, 0), (42, 1, 4, 0), (42, 2, 4, 0), (43, 1, 4, 0), (43, 2, 4, 0), (45, 1, 4, 0), (45, 2, 4, 0), (46, 1, 4, 0), (46, 2, 4, 0), (47, 1, 4, 0), (47, 2, 4, 0), (49, 1, 4, 0), (49, 2, 4, 0), (50, 1, 4, 0), (50, 2, 4, 0), (52, 1, 4, 0), (52, 2, 4, 0), (53, 1, 4, 0), (53, 2, 4, 0), (54, 1, 4, 0), (54, 2, 4, 0), (56, 1, 4, 0), (56, 2, 4, 0), (57, 1, 4, 0), (57, 2, 4, 0), (58, 1, 4, 0), (58, 2, 4, 0), (59, 1, 4, 0), (59, 2, 4, 0), (61, 1, 4, 0), (61, 2, 4, 0), (63, 1, 4, 0), (63, 2, 4, 0), (64, 1, 4, 0), (64, 2, 4, 0), (65, 1, 4, 0), (65, 2, 4, 0), (66, 1, 4, 0), (66, 2, 4, 0), (69, 1, 4, 0), (69, 2, 4, 0), (71, 1, 4, 0), (71, 2, 4, 0), (72, 1, 4, 0), (72, 2, 4, 0), (74, 1, 4, 0), (74, 2, 4, 0), (75, 1, 4, 0), (75, 2, 4, 0), (76, 1, 4, 0), (76, 2, 4, 0), (77, 1, 4, 0), (77, 2, 4, 0), (78, 1, 4, 0), (78, 2, 4, 0), (79, 1, 4, 0), (79, 2, 4, 0), (80, 1, 4, 0), (80, 2, 4, 0), (83, 1, 4, 0), (83, 2, 4, 0), (86, 1, 4, 0), (86, 2, 4, 0), (87, 1, 4, 0), (87, 2, 4, 0), (88, 1, 4, 0), (88, 2, 4, 0), (89, 1, 4, 0), (89, 2, 4, 0), (95, 1, 4, 0), (95, 2, 4, 0), (12, 1, 4, 10), (12, 2, 4, 10), (13, 1, 4, 10), (13, 2, 4, 10), (14, 1, 4, 10), (14, 2, 4, 10), (17, 1, 4, 10), (17, 2, 4, 10), (20, 1, 4, 10), (20, 2, 4, 10), (21, 1, 4, 10), (21, 2, 4, 10), (27, 1, 4, 10), (27, 2, 4, 10), (28, 1, 4, 10), (28, 2, 4, 10), (29, 1, 4, 10), (29, 2, 4, 10), (33, 1, 4, 10), (33, 2, 4, 10), (34, 1, 4, 10), (34, 2, 4, 10), (36, 1, 4, 10), (36, 2, 4, 10), (37, 1, 4, 10), (37, 2, 4, 10), (38, 1, 4, 10), (38, 2, 4, 10), (41, 1, 4, 10), (41, 2, 4, 10), (42, 1, 4, 10), (42, 2, 4, 10), (43, 1, 4, 10), (43, 2, 4, 10), (45, 1, 4, 10), (45, 2, 4, 10), (46, 1, 4, 10), (46, 2, 4, 10), (47, 1, 4, 10), (47, 2, 4, 10), (49, 1, 4, 10), (49, 2, 4, 10), (50, 1, 4, 10), (50, 2, 4, 10), (52, 1, 4, 10), (52, 2, 4, 10), (53, 1, 4, 10), (53, 2, 4, 10), (54, 1, 4, 10), (54, 2, 4, 10), (56, 1, 4, 10), (56, 2, 4, 10), (57, 1, 4, 10), (57, 2, 4, 10), (58, 1, 4, 10), (58, 2, 4, 10), (59, 1, 4, 10), (59, 2, 4, 10), (61, 1, 4, 10), (61, 2, 4, 10), (63, 1, 4, 10), (63, 2, 4, 10), (64, 1, 4, 10), (64, 2, 4, 10), (65, 1, 4, 10), (65, 2, 4, 10), (66, 1, 4, 10), (66, 2, 4, 10), (69, 1, 4, 10), (69, 2, 4, 10), (71, 1, 4, 10), (71, 2, 4, 10), (72, 1, 4, 10), (72, 2, 4, 10), (74, 1, 4, 10), (74, 2, 4, 10), (75, 1, 4, 10), (75, 2, 4, 10), (76, 1, 4, 10), (76, 2, 4, 10), (77, 1, 4, 10), (77, 2, 4, 10), (78, 1, 4, 10), (78, 2, 4, 10), (79, 1, 4, 10), (79, 2, 4, 10), (80, 1, 4, 10), (80, 2, 4, 10), (83, 1, 4, 10), (83, 2, 4, 10), (86, 1, 4, 10), (86, 2, 4, 10), (87, 1, 4, 10), (87, 2, 4, 10), (88, 1, 4, 10), (88, 2, 4, 10), (89, 1, 4, 10), (89, 2, 4, 10), (95, 1, 4, 10), (95, 2, 4, 10), (12, 1, 4, 20), (12, 2, 4, 20), (13, 1, 4, 20), (13, 2, 4, 20), (14, 1, 4, 20), (14, 2, 4, 20), (17, 1, 4, 20), (17, 2, 4, 20), (20, 1, 4, 20), (20, 2, 4, 20), (21, 1, 4, 20), (21, 2, 4, 20), (27, 1, 4, 20), (27, 2, 4, 20), (28, 1, 4, 20), (28, 2, 4, 20), (29, 1, 4, 20), (29, 2, 4, 20), (33, 1, 4, 20), (33, 2, 4, 20), (34, 1, 4, 20), (34, 2, 4, 20), (36, 1, 4, 20), (36, 2, 4, 20), (37, 1, 4, 20), (37, 2, 4, 20), (38, 1, 4, 20), (38, 2, 4, 20), (41, 1, 4, 20), (41, 2, 4, 20), (42, 1, 4, 20), (42, 2, 4, 20), (43, 1, 4, 20), (43, 2, 4, 20), (45, 1, 4, 20), (45, 2, 4, 20), (46, 1, 4, 20), (46, 2, 4, 20), (47, 1, 4, 20), (47, 2, 4, 20), (49, 1, 4, 20), (49, 2, 4, 20), (50, 1, 4, 20), (50, 2, 4, 20), (52, 1, 4, 20), (52, 2, 4, 20), (53, 1, 4, 20), (53, 2, 4, 20), (54, 1, 4, 20), (54, 2, 4, 20), (56, 1, 4, 20), (56, 2, 4, 20), (57, 1, 4, 20), (57, 2, 4, 20), (58, 1, 4, 20), (58, 2, 4, 20), (59, 1, 4, 20), (59, 2, 4, 20), (61, 1, 4, 20), (61, 2, 4, 20), (63, 1, 4, 20), (63, 2, 4, 20), (64, 1, 4, 20), (64, 2, 4, 20), (65, 1, 4, 20), (65, 2, 4, 20), (66, 1, 4, 20), (66, 2, 4, 20), (69, 1, 4, 20), (69, 2, 4, 20), (71, 1, 4, 20), (71, 2, 4, 20), (72, 1, 4, 20), (72, 2, 4, 20), (74, 1, 4, 20), (74, 2, 4, 20), (75, 1, 4, 20), (75, 2, 4, 20), (76, 1, 4, 20), (76, 2, 4, 20), (77, 1, 4, 20), (77, 2, 4, 20), (78, 1, 4, 20), (78, 2, 4, 20), (79, 1, 4, 20), (79, 2, 4, 20), (80, 1, 4, 20), (80, 2, 4, 20), (83, 1, 4, 20), (83, 2, 4, 20), (86, 1, 4, 20), (86, 2, 4, 20), (87, 1, 4, 20), (87, 2, 4, 20), (88, 1, 4, 20), (88, 2, 4, 20), (89, 1, 4, 20), (89, 2, 4, 20), (95, 1, 4, 20), (95, 2, 4, 20), (12, 1, 4, 30), (12, 2, 4, 30), (13, 1, 4, 30), (13, 2, 4, 30), (14, 1, 4, 30), (14, 2, 4, 30), (17, 1, 4, 30), (17, 2, 4, 30), (20, 1, 4, 30), (20, 2, 4, 30), (21, 1, 4, 30), (21, 2, 4, 30), (27, 1, 4, 30), (27, 2, 4, 30), (28, 1, 4, 30), (28, 2, 4, 30), (29, 1, 4, 30), (29, 2, 4, 30), (33, 1, 4, 30), (33, 2, 4, 30), (34, 1, 4, 30), (34, 2, 4, 30), (36, 1, 4, 30), (36, 2, 4, 30), (37, 1, 4, 30), (37, 2, 4, 30), (38, 1, 4, 30), (38, 2, 4, 30), (41, 1, 4, 30), (41, 2, 4, 30), (42, 1, 4, 30), (42, 2, 4, 30), (43, 1, 4, 30), (43, 2, 4, 30), (45, 1, 4, 30), (45, 2, 4, 30), (46, 1, 4, 30), (46, 2, 4, 30), (47, 1, 4, 30), (47, 2, 4, 30), (49, 1, 4, 30), (49, 2, 4, 30), (50, 1, 4, 30), (50, 2, 4, 30), (52, 1, 4, 30), (52, 2, 4, 30), (53, 1, 4, 30), (53, 2, 4, 30), (54, 1, 4, 30), (54, 2, 4, 30), (56, 1, 4, 30), (56, 2, 4, 30), (57, 1, 4, 30), (57, 2, 4, 30), (58, 1, 4, 30), (58, 2, 4, 30), (59, 1, 4, 30), (59, 2, 4, 30), (61, 1, 4, 30), (61, 2, 4, 30), (63, 1, 4, 30), (63, 2, 4, 30), (64, 1, 4, 30), (64, 2, 4, 30), (65, 1, 4, 30), (65, 2, 4, 30), (66, 1, 4, 30), (66, 2, 4, 30), (69, 1, 4, 30), (69, 2, 4, 30), (71, 1, 4, 30), (71, 2, 4, 30), (72, 1, 4, 30), (72, 2, 4, 30), (74, 1, 4, 30), (74, 2, 4, 30), (75, 1, 4, 30), (75, 2, 4, 30), (76, 1, 4, 30), (76, 2, 4, 30), (77, 1, 4, 30), (77, 2, 4, 30), (78, 1, 4, 30), (78, 2, 4, 30), (79, 1, 4, 30), (79, 2, 4, 30), (80, 1, 4, 30), (80, 2, 4, 30), (83, 1, 4, 30), (83, 2, 4, 30), (86, 1, 4, 30), (86, 2, 4, 30), (87, 1, 4, 30), (87, 2, 4, 30), (88, 1, 4, 30), (88, 2, 4, 30), (89, 1, 4, 30), (89, 2, 4, 30), (95, 1, 4, 30), (95, 2, 4, 30), (12, 1, 4, 40), (12, 2, 4, 40), (13, 1, 4, 40), (13, 2, 4, 40), (14, 1, 4, 40), (14, 2, 4, 40), (17, 1, 4, 40), (17, 2, 4, 40), (20, 1, 4, 40), (20, 2, 4, 40), (21, 1, 4, 40), (21, 2, 4, 40), (27, 1, 4, 40), (27, 2, 4, 40), (28, 1, 4, 40), (28, 2, 4, 40), (29, 1, 4, 40), (29, 2, 4, 40), (33, 1, 4, 40), (33, 2, 4, 40), (34, 1, 4, 40), (34, 2, 4, 40), (36, 1, 4, 40), (36, 2, 4, 40), (37, 1, 4, 40), (37, 2, 4, 40), (38, 1, 4, 40), (38, 2, 4, 40), (41, 1, 4, 40), (41, 2, 4, 40), (42, 1, 4, 40), (42, 2, 4, 40), (43, 1, 4, 40), (43, 2, 4, 40), (45, 1, 4, 40), (45, 2, 4, 40), (46, 1, 4, 40), (46, 2, 4, 40), (47, 1, 4, 40), (47, 2, 4, 40), (49, 1, 4, 40), (49, 2, 4, 40), (50, 1, 4, 40), (50, 2, 4, 40), (52, 1, 4, 40), (52, 2, 4, 40), (53, 1, 4, 40), (53, 2, 4, 40), (54, 1, 4, 40), (54, 2, 4, 40), (56, 1, 4, 40), (56, 2, 4, 40), (57, 1, 4, 40), (57, 2, 4, 40), (58, 1, 4, 40), (58, 2, 4, 40), (59, 1, 4, 40), (59, 2, 4, 40), (61, 1, 4, 40), (61, 2, 4, 40), (63, 1, 4, 40), (63, 2, 4, 40), (64, 1, 4, 40), (64, 2, 4, 40), (65, 1, 4, 40), (65, 2, 4, 40), (66, 1, 4, 40), (66, 2, 4, 40), (69, 1, 4, 40), (69, 2, 4, 40), (71, 1, 4, 40), (71, 2, 4, 40), (72, 1, 4, 40), (72, 2, 4, 40), (74, 1, 4, 40), (74, 2, 4, 40), (75, 1, 4, 40), (75, 2, 4, 40), (76, 1, 4, 40), (76, 2, 4, 40), (77, 1, 4, 40), (77, 2, 4, 40), (78, 1, 4, 40), (78, 2, 4, 40), (79, 1, 4, 40), (79, 2, 4, 40), (80, 1, 4, 40), (80, 2, 4, 40), (83, 1, 4, 40), (83, 2, 4, 40), (86, 1, 4, 40), (86, 2, 4, 40), (87, 1, 4, 40), (87, 2, 4, 40), (88, 1, 4, 40), (88, 2, 4, 40), (89, 1, 4, 40), (89, 2, 4, 40), (95, 1, 4, 40), (95, 2, 4, 40), (12, 1, 4, 50), (12, 2, 4, 50), (13, 1, 4, 50), (13, 2, 4, 50), (14, 1, 4, 50), (14, 2, 4, 50), (17, 1, 4, 50), (17, 2, 4, 50), (20, 1, 4, 50), (20, 2, 4, 50), (21, 1, 4, 50), (21, 2, 4, 50), (27, 1, 4, 50), (27, 2, 4, 50), (28, 1, 4, 50), (28, 2, 4, 50), (29, 1, 4, 50), (29, 2, 4, 50), (33, 1, 4, 50), (33, 2, 4, 50), (34, 1, 4, 50), (34, 2, 4, 50), (36, 1, 4, 50), (36, 2, 4, 50), (37, 1, 4, 50), (37, 2, 4, 50), (38, 1, 4, 50), (38, 2, 4, 50), (41, 1, 4, 50), (41, 2, 4, 50), (42, 1, 4, 50), (42, 2, 4, 50), (43, 1, 4, 50), (43, 2, 4, 50), (45, 1, 4, 50), (45, 2, 4, 50), (46, 1, 4, 50), (46, 2, 4, 50), (47, 1, 4, 50), (47, 2, 4, 50), (49, 1, 4, 50), (49, 2, 4, 50), (50, 1, 4, 50), (50, 2, 4, 50), (52, 1, 4, 50), (52, 2, 4, 50), (53, 1, 4, 50), (53, 2, 4, 50), (54, 1, 4, 50), (54, 2, 4, 50), (56, 1, 4, 50), (56, 2, 4, 50), (57, 1, 4, 50), (57, 2, 4, 50), (58, 1, 4, 50), (58, 2, 4, 50), (59, 1, 4, 50), (59, 2, 4, 50), (61, 1, 4, 50), (61, 2, 4, 50), (63, 1, 4, 50), (63, 2, 4, 50), (64, 1, 4, 50), (64, 2, 4, 50), (65, 1, 4, 50), (65, 2, 4, 50), (66, 1, 4, 50), (66, 2, 4, 50), (69, 1, 4, 50), (69, 2, 4, 50), (71, 1, 4, 50), (71, 2, 4, 50), (72, 1, 4, 50), (72, 2, 4, 50), (74, 1, 4, 50), (74, 2, 4, 50), (75, 1, 4, 50), (75, 2, 4, 50), (76, 1, 4, 50), (76, 2, 4, 50), (77, 1, 4, 50), (77, 2, 4, 50), (78, 1, 4, 50), (78, 2, 4, 50), (79, 1, 4, 50), (79, 2, 4, 50), (80, 1, 4, 50), (80, 2, 4, 50), (83, 1, 4, 50), (83, 2, 4, 50), (86, 1, 4, 50), (86, 2, 4, 50), (87, 1, 4, 50), (87, 2, 4, 50), (88, 1, 4, 50), (88, 2, 4, 50), (89, 1, 4, 50), (89, 2, 4, 50), (95, 1, 4, 50), (95, 2, 4, 50), (12, 1, 5, 0), (12, 2, 5, 0), (13, 1, 5, 0), (13, 2, 5, 0), (14, 1, 5, 0), (14, 2, 5, 0), (17, 1, 5, 0), (17, 2, 5, 0), (20, 1, 5, 0), (20, 2, 5, 0), (21, 1, 5, 0), (21, 2, 5, 0), (27, 1, 5, 0), (27, 2, 5, 0), (28, 1, 5, 0), (28, 2, 5, 0), (29, 1, 5, 0), (29, 2, 5, 0), (33, 1, 5, 0), (33, 2, 5, 0), (34, 1, 5, 0), (34, 2, 5, 0), (36, 1, 5, 0), (36, 2, 5, 0), (37, 1, 5, 0), (37, 2, 5, 0), (38, 1, 5, 0), (38, 2, 5, 0), (41, 1, 5, 0), (41, 2, 5, 0), (42, 1, 5, 0), (42, 2, 5, 0), (43, 1, 5, 0), (43, 2, 5, 0), (45, 1, 5, 0), (45, 2, 5, 0), (46, 1, 5, 0), (46, 2, 5, 0), (47, 1, 5, 0), (47, 2, 5, 0), (49, 1, 5, 0), (49, 2, 5, 0), (50, 1, 5, 0), (50, 2, 5, 0), (52, 1, 5, 0), (52, 2, 5, 0), (53, 1, 5, 0), (53, 2, 5, 0), (54, 1, 5, 0), (54, 2, 5, 0), (56, 1, 5, 0), (56, 2, 5, 0), (57, 1, 5, 0), (57, 2, 5, 0), (58, 1, 5, 0), (58, 2, 5, 0), (59, 1, 5, 0), (59, 2, 5, 0), (61, 1, 5, 0), (61, 2, 5, 0), (63, 1, 5, 0), (63, 2, 5, 0), (64, 1, 5, 0), (64, 2, 5, 0), (65, 1, 5, 0), (65, 2, 5, 0), (66, 1, 5, 0), (66, 2, 5, 0), (69, 1, 5, 0), (69, 2, 5, 0), (71, 1, 5, 0), (71, 2, 5, 0), (72, 1, 5, 0), (72, 2, 5, 0), (74, 1, 5, 0), (74, 2, 5, 0), (75, 1, 5, 0), (75, 2, 5, 0), (76, 1, 5, 0), (76, 2, 5, 0), (77, 1, 5, 0), (77, 2, 5, 0), (78, 1, 5, 0), (78, 2, 5, 0), (79, 1, 5, 0), (79, 2, 5, 0), (80, 1, 5, 0), (80, 2, 5, 0), (83, 1, 5, 0), (83, 2, 5, 0), (86, 1, 5, 0), (86, 2, 5, 0), (87, 1, 5, 0), (87, 2, 5, 0), (88, 1, 5, 0), (88, 2, 5, 0), (89, 1, 5, 0), (89, 2, 5, 0), (95, 1, 5, 0), (95, 2, 5, 0), (12, 1, 5, 10), (12, 2, 5, 10), (13, 1, 5, 10), (13, 2, 5, 10), (14, 1, 5, 10), (14, 2, 5, 10), (17, 1, 5, 10), (17, 2, 5, 10), (20, 1, 5, 10), (20, 2, 5, 10), (21, 1, 5, 10), (21, 2, 5, 10), (27, 1, 5, 10), (27, 2, 5, 10), (28, 1, 5, 10), (28, 2, 5, 10), (29, 1, 5, 10), (29, 2, 5, 10), (33, 1, 5, 10), (33, 2, 5, 10), (34, 1, 5, 10), (34, 2, 5, 10), (36, 1, 5, 10), (36, 2, 5, 10), (37, 1, 5, 10), (37, 2, 5, 10), (38, 1, 5, 10), (38, 2, 5, 10), (41, 1, 5, 10), (41, 2, 5, 10), (42, 1, 5, 10), (42, 2, 5, 10), (43, 1, 5, 10), (43, 2, 5, 10), (45, 1, 5, 10), (45, 2, 5, 10), (46, 1, 5, 10), (46, 2, 5, 10), (47, 1, 5, 10), (47, 2, 5, 10), (49, 1, 5, 10), (49, 2, 5, 10), (50, 1, 5, 10), (50, 2, 5, 10), (52, 1, 5, 10), (52, 2, 5, 10), (53, 1, 5, 10), (53, 2, 5, 10), (54, 1, 5, 10), (54, 2, 5, 10), (56, 1, 5, 10), (56, 2, 5, 10), (57, 1, 5, 10), (57, 2, 5, 10), (58, 1, 5, 10), (58, 2, 5, 10), (59, 1, 5, 10), (59, 2, 5, 10), (61, 1, 5, 10), (61, 2, 5, 10), (63, 1, 5, 10), (63, 2, 5, 10), (64, 1, 5, 10), (64, 2, 5, 10), (65, 1, 5, 10), (65, 2, 5, 10), (66, 1, 5, 10), (66, 2, 5, 10), (69, 1, 5, 10), (69, 2, 5, 10), (71, 1, 5, 10), (71, 2, 5, 10), (72, 1, 5, 10), (72, 2, 5, 10), (74, 1, 5, 10), (74, 2, 5, 10), (75, 1, 5, 10), (75, 2, 5, 10), (76, 1, 5, 10), (76, 2, 5, 10), (77, 1, 5, 10), (77, 2, 5, 10), (78, 1, 5, 10), (78, 2, 5, 10), (79, 1, 5, 10), (79, 2, 5, 10), (80, 1, 5, 10), (80, 2, 5, 10), (83, 1, 5, 10), (83, 2, 5, 10), (86, 1, 5, 10), (86, 2, 5, 10), (87, 1, 5, 10), (87, 2, 5, 10), (88, 1, 5, 10), (88, 2, 5, 10), (89, 1, 5, 10), (89, 2, 5, 10), (95, 1, 5, 10), (95, 2, 5, 10), (12, 1, 5, 20), (12, 2, 5, 20), (13, 1, 5, 20), (13, 2, 5, 20), (14, 1, 5, 20), (14, 2, 5, 20), (17, 1, 5, 20), (17, 2, 5, 20), (20, 1, 5, 20), (20, 2, 5, 20), (21, 1, 5, 20), (21, 2, 5, 20), (27, 1, 5, 20), (27, 2, 5, 20), (28, 1, 5, 20), (28, 2, 5, 20), (29, 1, 5, 20), (29, 2, 5, 20), (33, 1, 5, 20), (33, 2, 5, 20), (34, 1, 5, 20), (34, 2, 5, 20), (36, 1, 5, 20), (36, 2, 5, 20), (37, 1, 5, 20), (37, 2, 5, 20), (38, 1, 5, 20), (38, 2, 5, 20), (41, 1, 5, 20), (41, 2, 5, 20), (42, 1, 5, 20), (42, 2, 5, 20), (43, 1, 5, 20), (43, 2, 5, 20), (45, 1, 5, 20), (45, 2, 5, 20), (46, 1, 5, 20), (46, 2, 5, 20), (47, 1, 5, 20), (47, 2, 5, 20), (49, 1, 5, 20), (49, 2, 5, 20), (50, 1, 5, 20), (50, 2, 5, 20), (52, 1, 5, 20), (52, 2, 5, 20), (53, 1, 5, 20), (53, 2, 5, 20), (54, 1, 5, 20), (54, 2, 5, 20), (56, 1, 5, 20), (56, 2, 5, 20), (57, 1, 5, 20), (57, 2, 5, 20), (58, 1, 5, 20), (58, 2, 5, 20), (59, 1, 5, 20), (59, 2, 5, 20), (61, 1, 5, 20), (61, 2, 5, 20), (63, 1, 5, 20), (63, 2, 5, 20), (64, 1, 5, 20), (64, 2, 5, 20), (65, 1, 5, 20), (65, 2, 5, 20), (66, 1, 5, 20), (66, 2, 5, 20), (69, 1, 5, 20), (69, 2, 5, 20), (71, 1, 5, 20), (71, 2, 5, 20), (72, 1, 5, 20), (72, 2, 5, 20), (74, 1, 5, 20), (74, 2, 5, 20), (75, 1, 5, 20), (75, 2, 5, 20), (76, 1, 5, 20), (76, 2, 5, 20), (77, 1, 5, 20), (77, 2, 5, 20), (78, 1, 5, 20), (78, 2, 5, 20), (79, 1, 5, 20), (79, 2, 5, 20), (80, 1, 5, 20), (80, 2, 5, 20), (83, 1, 5, 20), (83, 2, 5, 20), (86, 1, 5, 20), (86, 2, 5, 20), (87, 1, 5, 20), (87, 2, 5, 20), (88, 1, 5, 20), (88, 2, 5, 20), (89, 1, 5, 20), (89, 2, 5, 20), (95, 1, 5, 20), (95, 2, 5, 20), (12, 1, 5, 30), (12, 2, 5, 30), (13, 1, 5, 30), (13, 2, 5, 30), (14, 1, 5, 30), (14, 2, 5, 30), (17, 1, 5, 30), (17, 2, 5, 30), (20, 1, 5, 30), (20, 2, 5, 30), (21, 1, 5, 30), (21, 2, 5, 30), (27, 1, 5, 30), (27, 2, 5, 30), (28, 1, 5, 30), (28, 2, 5, 30), (29, 1, 5, 30), (29, 2, 5, 30), (33, 1, 5, 30), (33, 2, 5, 30), (34, 1, 5, 30), (34, 2, 5, 30), (36, 1, 5, 30), (36, 2, 5, 30), (37, 1, 5, 30), (37, 2, 5, 30), (38, 1, 5, 30), (38, 2, 5, 30), (41, 1, 5, 30), (41, 2, 5, 30), (42, 1, 5, 30), (42, 2, 5, 30), (43, 1, 5, 30), (43, 2, 5, 30), (45, 1, 5, 30), (45, 2, 5, 30), (46, 1, 5, 30), (46, 2, 5, 30), (47, 1, 5, 30), (47, 2, 5, 30), (49, 1, 5, 30), (49, 2, 5, 30), (50, 1, 5, 30), (50, 2, 5, 30), (52, 1, 5, 30), (52, 2, 5, 30), (53, 1, 5, 30), (53, 2, 5, 30), (54, 1, 5, 30), (54, 2, 5, 30), (56, 1, 5, 30), (56, 2, 5, 30), (57, 1, 5, 30), (57, 2, 5, 30), (58, 1, 5, 30), (58, 2, 5, 30), (59, 1, 5, 30), (59, 2, 5, 30), (61, 1, 5, 30), (61, 2, 5, 30), (63, 1, 5, 30), (63, 2, 5, 30), (64, 1, 5, 30), (64, 2, 5, 30), (65, 1, 5, 30), (65, 2, 5, 30), (66, 1, 5, 30), (66, 2, 5, 30), (69, 1, 5, 30), (69, 2, 5, 30), (71, 1, 5, 30), (71, 2, 5, 30), (72, 1, 5, 30), (72, 2, 5, 30), (74, 1, 5, 30), (74, 2, 5, 30), (75, 1, 5, 30), (75, 2, 5, 30), (76, 1, 5, 30), (76, 2, 5, 30), (77, 1, 5, 30), (77, 2, 5, 30), (78, 1, 5, 30), (78, 2, 5, 30), (79, 1, 5, 30), (79, 2, 5, 30), (80, 1, 5, 30), (80, 2, 5, 30), (83, 1, 5, 30), (83, 2, 5, 30), (86, 1, 5, 30), (86, 2, 5, 30), (87, 1, 5, 30), (87, 2, 5, 30), (88, 1, 5, 30), (88, 2, 5, 30), (89, 1, 5, 30), (89, 2, 5, 30), (95, 1, 5, 30), (95, 2, 5, 30), (12, 1, 5, 40), (12, 2, 5, 40), (13, 1, 5, 40), (13, 2, 5, 40), (14, 1, 5, 40), (14, 2, 5, 40), (17, 1, 5, 40), (17, 2, 5, 40), (20, 1, 5, 40), (20, 2, 5, 40), (21, 1, 5, 40), (21, 2, 5, 40), (27, 1, 5, 40), (27, 2, 5, 40), (28, 1, 5, 40), (28, 2, 5, 40), (29, 1, 5, 40), (29, 2, 5, 40), (33, 1, 5, 40), (33, 2, 5, 40), (34, 1, 5, 40), (34, 2, 5, 40), (36, 1, 5, 40), (36, 2, 5, 40), (37, 1, 5, 40), (37, 2, 5, 40), (38, 1, 5, 40), (38, 2, 5, 40), (41, 1, 5, 40), (41, 2, 5, 40), (42, 1, 5, 40), (42, 2, 5, 40), (43, 1, 5, 40), (43, 2, 5, 40), (45, 1, 5, 40), (45, 2, 5, 40), (46, 1, 5, 40), (46, 2, 5, 40), (47, 1, 5, 40), (47, 2, 5, 40), (49, 1, 5, 40), (49, 2, 5, 40), (50, 1, 5, 40), (50, 2, 5, 40), (52, 1, 5, 40), (52, 2, 5, 40), (53, 1, 5, 40), (53, 2, 5, 40), (54, 1, 5, 40), (54, 2, 5, 40), (56, 1, 5, 40), (56, 2, 5, 40), (57, 1, 5, 40), (57, 2, 5, 40), (58, 1, 5, 40), (58, 2, 5, 40), (59, 1, 5, 40), (59, 2, 5, 40), (61, 1, 5, 40), (61, 2, 5, 40), (63, 1, 5, 40), (63, 2, 5, 40), (64, 1, 5, 40), (64, 2, 5, 40), (65, 1, 5, 40), (65, 2, 5, 40), (66, 1, 5, 40), (66, 2, 5, 40), (69, 1, 5, 40), (69, 2, 5, 40), (71, 1, 5, 40), (71, 2, 5, 40), (72, 1, 5, 40), (72, 2, 5, 40), (74, 1, 5, 40), (74, 2, 5, 40), (75, 1, 5, 40), (75, 2, 5, 40), (76, 1, 5, 40), (76, 2, 5, 40), (77, 1, 5, 40), (77, 2, 5, 40), (78, 1, 5, 40), (78, 2, 5, 40), (79, 1, 5, 40), (79, 2, 5, 40), (80, 1, 5, 40), (80, 2, 5, 40), (83, 1, 5, 40), (83, 2, 5, 40), (86, 1, 5, 40), (86, 2, 5, 40), (87, 1, 5, 40), (87, 2, 5, 40), (88, 1, 5, 40), (88, 2, 5, 40), (89, 1, 5, 40), (89, 2, 5, 40), (95, 1, 5, 40), (95, 2, 5, 40), (12, 1, 5, 50), (12, 2, 5, 50), (13, 1, 5, 50), (13, 2, 5, 50), (14, 1, 5, 50), (14, 2, 5, 50), (17, 1, 5, 50), (17, 2, 5, 50), (20, 1, 5, 50), (20, 2, 5, 50), (21, 1, 5, 50), (21, 2, 5, 50), (27, 1, 5, 50), (27, 2, 5, 50), (28, 1, 5, 50), (28, 2, 5, 50), (29, 1, 5, 50), (29, 2, 5, 50), (33, 1, 5, 50), (33, 2, 5, 50), (34, 1, 5, 50), (34, 2, 5, 50), (36, 1, 5, 50), (36, 2, 5, 50), (37, 1, 5, 50), (37, 2, 5, 50), (38, 1, 5, 50), (38, 2, 5, 50), (41, 1, 5, 50), (41, 2, 5, 50), (42, 1, 5, 50), (42, 2, 5, 50), (43, 1, 5, 50), (43, 2, 5, 50), (45, 1, 5, 50), (45, 2, 5, 50), (46, 1, 5, 50), (46, 2, 5, 50), (47, 1, 5, 50), (47, 2, 5, 50), (49, 1, 5, 50), (49, 2, 5, 50), (50, 1, 5, 50), (50, 2, 5, 50), (52, 1, 5, 50), (52, 2, 5, 50), (53, 1, 5, 50), (53, 2, 5, 50), (54, 1, 5, 50), (54, 2, 5, 50), (56, 1, 5, 50), (56, 2, 5, 50), (57, 1, 5, 50), (57, 2, 5, 50), (58, 1, 5, 50), (58, 2, 5, 50), (59, 1, 5, 50), (59, 2, 5, 50), (61, 1, 5, 50), (61, 2, 5, 50), (63, 1, 5, 50), (63, 2, 5, 50), (64, 1, 5, 50), (64, 2, 5, 50), (65, 1, 5, 50), (65, 2, 5, 50), (66, 1, 5, 50), (66, 2, 5, 50), (69, 1, 5, 50), (69, 2, 5, 50), (71, 1, 5, 50), (71, 2, 5, 50), (72, 1, 5, 50), (72, 2, 5, 50), (74, 1, 5, 50), (74, 2, 5, 50), (75, 1, 5, 50), (75, 2, 5, 50), (76, 1, 5, 50), (76, 2, 5, 50), (77, 1, 5, 50), (77, 2, 5, 50), (78, 1, 5, 50), (78, 2, 5, 50), (79, 1, 5, 50), (79, 2, 5, 50), (80, 1, 5, 50), (80, 2, 5, 50), (83, 1, 5, 50), (83, 2, 5, 50), (86, 1, 5, 50), (86, 2, 5, 50), (87, 1, 5, 50), (87, 2, 5, 50), (88, 1, 5, 50), (88, 2, 5, 50), (89, 1, 5, 50), (89, 2, 5, 50), (95, 1, 5, 50), (95, 2, 5, 50), (12, 1, 6, 0), (12, 2, 6, 0), (13, 1, 6, 0), (13, 2, 6, 0), (14, 1, 6, 0), (14, 2, 6, 0), (17, 1, 6, 0), (17, 2, 6, 0), (20, 1, 6, 0), (20, 2, 6, 0), (21, 1, 6, 0), (21, 2, 6, 0), (27, 1, 6, 0), (27, 2, 6, 0), (28, 1, 6, 0), (28, 2, 6, 0), (29, 1, 6, 0), (29, 2, 6, 0), (33, 1, 6, 0), (33, 2, 6, 0), (34, 1, 6, 0), (34, 2, 6, 0), (36, 1, 6, 0), (36, 2, 6, 0), (37, 1, 6, 0), (37, 2, 6, 0), (38, 1, 6, 0), (38, 2, 6, 0), (41, 1, 6, 0), (41, 2, 6, 0), (42, 1, 6, 0), (42, 2, 6, 0), (43, 1, 6, 0), (43, 2, 6, 0), (45, 1, 6, 0), (45, 2, 6, 0), (46, 1, 6, 0), (46, 2, 6, 0), (47, 1, 6, 0), (47, 2, 6, 0), (49, 1, 6, 0), (49, 2, 6, 0), (50, 1, 6, 0), (50, 2, 6, 0), (52, 1, 6, 0), (52, 2, 6, 0), (53, 1, 6, 0), (53, 2, 6, 0), (54, 1, 6, 0), (54, 2, 6, 0), (56, 1, 6, 0), (56, 2, 6, 0), (57, 1, 6, 0), (57, 2, 6, 0), (58, 1, 6, 0), (58, 2, 6, 0), (59, 1, 6, 0), (59, 2, 6, 0), (61, 1, 6, 0), (61, 2, 6, 0), (63, 1, 6, 0), (63, 2, 6, 0), (64, 1, 6, 0), (64, 2, 6, 0), (65, 1, 6, 0), (65, 2, 6, 0), (66, 1, 6, 0), (66, 2, 6, 0), (69, 1, 6, 0), (69, 2, 6, 0), (71, 1, 6, 0), (71, 2, 6, 0), (72, 1, 6, 0), (72, 2, 6, 0), (74, 1, 6, 0), (74, 2, 6, 0), (75, 1, 6, 0), (75, 2, 6, 0), (76, 1, 6, 0), (76, 2, 6, 0), (77, 1, 6, 0), (77, 2, 6, 0), (78, 1, 6, 0), (78, 2, 6, 0), (79, 1, 6, 0), (79, 2, 6, 0), (80, 1, 6, 0), (80, 2, 6, 0), (83, 1, 6, 0), (83, 2, 6, 0), (86, 1, 6, 0), (86, 2, 6, 0), (87, 1, 6, 0), (87, 2, 6, 0), (88, 1, 6, 0), (88, 2, 6, 0), (89, 1, 6, 0), (89, 2, 6, 0), (95, 1, 6, 0), (95, 2, 6, 0), (12, 1, 6, 10), (12, 2, 6, 10), (13, 1, 6, 10), (13, 2, 6, 10), (14, 1, 6, 10), (14, 2, 6, 10), (17, 1, 6, 10), (17, 2, 6, 10), (20, 1, 6, 10), (20, 2, 6, 10), (21, 1, 6, 10), (21, 2, 6, 10), (27, 1, 6, 10), (27, 2, 6, 10), (28, 1, 6, 10), (28, 2, 6, 10), (29, 1, 6, 10), (29, 2, 6, 10), (33, 1, 6, 10), (33, 2, 6, 10), (34, 1, 6, 10), (34, 2, 6, 10), (36, 1, 6, 10), (36, 2, 6, 10), (37, 1, 6, 10), (37, 2, 6, 10), (38, 1, 6, 10), (38, 2, 6, 10), (41, 1, 6, 10), (41, 2, 6, 10), (42, 1, 6, 10), (42, 2, 6, 10), (43, 1, 6, 10), (43, 2, 6, 10), (45, 1, 6, 10), (45, 2, 6, 10), (46, 1, 6, 10), (46, 2, 6, 10), (47, 1, 6, 10), (47, 2, 6, 10), (49, 1, 6, 10), (49, 2, 6, 10), (50, 1, 6, 10), (50, 2, 6, 10), (52, 1, 6, 10), (52, 2, 6, 10), (53, 1, 6, 10), (53, 2, 6, 10), (54, 1, 6, 10), (54, 2, 6, 10), (56, 1, 6, 10), (56, 2, 6, 10), (57, 1, 6, 10), (57, 2, 6, 10), (58, 1, 6, 10), (58, 2, 6, 10), (59, 1, 6, 10), (59, 2, 6, 10), (61, 1, 6, 10), (61, 2, 6, 10), (63, 1, 6, 10), (63, 2, 6, 10), (64, 1, 6, 10), (64, 2, 6, 10), (65, 1, 6, 10), (65, 2, 6, 10), (66, 1, 6, 10), (66, 2, 6, 10), (69, 1, 6, 10), (69, 2, 6, 10), (71, 1, 6, 10), (71, 2, 6, 10), (72, 1, 6, 10), (72, 2, 6, 10), (74, 1, 6, 10), (74, 2, 6, 10), (75, 1, 6, 10), (75, 2, 6, 10), (76, 1, 6, 10), (76, 2, 6, 10), (77, 1, 6, 10), (77, 2, 6, 10), (78, 1, 6, 10), (78, 2, 6, 10), (79, 1, 6, 10), (79, 2, 6, 10), (80, 1, 6, 10), (80, 2, 6, 10), (83, 1, 6, 10), (83, 2, 6, 10), (86, 1, 6, 10), (86, 2, 6, 10), (87, 1, 6, 10), (87, 2, 6, 10), (88, 1, 6, 10), (88, 2, 6, 10), (89, 1, 6, 10), (89, 2, 6, 10), (95, 1, 6, 10), (95, 2, 6, 10), (12, 1, 6, 20), (12, 2, 6, 20), (13, 1, 6, 20), (13, 2, 6, 20), (14, 1, 6, 20), (14, 2, 6, 20), (17, 1, 6, 20), (17, 2, 6, 20), (20, 1, 6, 20), (20, 2, 6, 20), (21, 1, 6, 20), (21, 2, 6, 20), (27, 1, 6, 20), (27, 2, 6, 20), (28, 1, 6, 20), (28, 2, 6, 20), (29, 1, 6, 20), (29, 2, 6, 20), (33, 1, 6, 20), (33, 2, 6, 20), (34, 1, 6, 20), (34, 2, 6, 20), (36, 1, 6, 20), (36, 2, 6, 20), (37, 1, 6, 20), (37, 2, 6, 20), (38, 1, 6, 20), (38, 2, 6, 20), (41, 1, 6, 20), (41, 2, 6, 20), (42, 1, 6, 20), (42, 2, 6, 20), (43, 1, 6, 20), (43, 2, 6, 20), (45, 1, 6, 20), (45, 2, 6, 20), (46, 1, 6, 20), (46, 2, 6, 20), (47, 1, 6, 20), (47, 2, 6, 20), (49, 1, 6, 20), (49, 2, 6, 20), (50, 1, 6, 20), (50, 2, 6, 20), (52, 1, 6, 20), (52, 2, 6, 20), (53, 1, 6, 20), (53, 2, 6, 20), (54, 1, 6, 20), (54, 2, 6, 20), (56, 1, 6, 20), (56, 2, 6, 20), (57, 1, 6, 20), (57, 2, 6, 20), (58, 1, 6, 20), (58, 2, 6, 20), (59, 1, 6, 20), (59, 2, 6, 20), (61, 1, 6, 20), (61, 2, 6, 20), (63, 1, 6, 20), (63, 2, 6, 20), (64, 1, 6, 20), (64, 2, 6, 20), (65, 1, 6, 20), (65, 2, 6, 20), (66, 1, 6, 20), (66, 2, 6, 20), (69, 1, 6, 20), (69, 2, 6, 20), (71, 1, 6, 20), (71, 2, 6, 20), (72, 1, 6, 20), (72, 2, 6, 20), (74, 1, 6, 20), (74, 2, 6, 20), (75, 1, 6, 20), (75, 2, 6, 20), (76, 1, 6, 20), (76, 2, 6, 20), (77, 1, 6, 20), (77, 2, 6, 20), (78, 1, 6, 20), (78, 2, 6, 20), (79, 1, 6, 20), (79, 2, 6, 20), (80, 1, 6, 20), (80, 2, 6, 20), (83, 1, 6, 20), (83, 2, 6, 20), (86, 1, 6, 20), (86, 2, 6, 20), (87, 1, 6, 20), (87, 2, 6, 20), (88, 1, 6, 20), (88, 2, 6, 20), (89, 1, 6, 20), (89, 2, 6, 20), (95, 1, 6, 20), (95, 2, 6, 20), (12, 1, 6, 30), (12, 2, 6, 30), (13, 1, 6, 30), (13, 2, 6, 30), (14, 1, 6, 30), (14, 2, 6, 30), (17, 1, 6, 30), (17, 2, 6, 30), (20, 1, 6, 30), (20, 2, 6, 30), (21, 1, 6, 30), (21, 2, 6, 30), (27, 1, 6, 30), (27, 2, 6, 30), (28, 1, 6, 30), (28, 2, 6, 30), (29, 1, 6, 30), (29, 2, 6, 30), (33, 1, 6, 30), (33, 2, 6, 30), (34, 1, 6, 30), (34, 2, 6, 30), (36, 1, 6, 30), (36, 2, 6, 30), (37, 1, 6, 30), (37, 2, 6, 30), (38, 1, 6, 30), (38, 2, 6, 30), (41, 1, 6, 30), (41, 2, 6, 30), (42, 1, 6, 30), (42, 2, 6, 30), (43, 1, 6, 30), (43, 2, 6, 30), (45, 1, 6, 30), (45, 2, 6, 30), (46, 1, 6, 30), (46, 2, 6, 30), (47, 1, 6, 30), (47, 2, 6, 30), (49, 1, 6, 30), (49, 2, 6, 30), (50, 1, 6, 30), (50, 2, 6, 30), (52, 1, 6, 30), (52, 2, 6, 30), (53, 1, 6, 30), (53, 2, 6, 30), (54, 1, 6, 30), (54, 2, 6, 30), (56, 1, 6, 30), (56, 2, 6, 30), (57, 1, 6, 30), (57, 2, 6, 30), (58, 1, 6, 30), (58, 2, 6, 30), (59, 1, 6, 30), (59, 2, 6, 30), (61, 1, 6, 30), (61, 2, 6, 30), (63, 1, 6, 30), (63, 2, 6, 30), (64, 1, 6, 30), (64, 2, 6, 30), (65, 1, 6, 30), (65, 2, 6, 30), (66, 1, 6, 30), (66, 2, 6, 30), (69, 1, 6, 30), (69, 2, 6, 30), (71, 1, 6, 30), (71, 2, 6, 30), (72, 1, 6, 30), (72, 2, 6, 30), (74, 1, 6, 30), (74, 2, 6, 30), (75, 1, 6, 30), (75, 2, 6, 30), (76, 1, 6, 30), (76, 2, 6, 30), (77, 1, 6, 30), (77, 2, 6, 30), (78, 1, 6, 30), (78, 2, 6, 30), (79, 1, 6, 30), (79, 2, 6, 30), (80, 1, 6, 30), (80, 2, 6, 30), (83, 1, 6, 30), (83, 2, 6, 30), (86, 1, 6, 30), (86, 2, 6, 30), (87, 1, 6, 30), (87, 2, 6, 30), (88, 1, 6, 30), (88, 2, 6, 30), (89, 1, 6, 30), (89, 2, 6, 30), (95, 1, 6, 30), (95, 2, 6, 30), (12, 1, 6, 40), (12, 2, 6, 40), (13, 1, 6, 40), (13, 2, 6, 40), (14, 1, 6, 40), (14, 2, 6, 40), (17, 1, 6, 40), (17, 2, 6, 40), (20, 1, 6, 40), (20, 2, 6, 40), (21, 1, 6, 40), (21, 2, 6, 40), (27, 1, 6, 40), (27, 2, 6, 40), (28, 1, 6, 40), (28, 2, 6, 40), (29, 1, 6, 40), (29, 2, 6, 40), (33, 1, 6, 40), (33, 2, 6, 40), (34, 1, 6, 40), (34, 2, 6, 40), (36, 1, 6, 40), (36, 2, 6, 40), (37, 1, 6, 40), (37, 2, 6, 40), (38, 1, 6, 40), (38, 2, 6, 40), (41, 1, 6, 40), (41, 2, 6, 40), (42, 1, 6, 40), (42, 2, 6, 40), (43, 1, 6, 40), (43, 2, 6, 40), (45, 1, 6, 40), (45, 2, 6, 40), (46, 1, 6, 40), (46, 2, 6, 40), (47, 1, 6, 40), (47, 2, 6, 40), (49, 1, 6, 40), (49, 2, 6, 40), (50, 1, 6, 40), (50, 2, 6, 40), (52, 1, 6, 40), (52, 2, 6, 40), (53, 1, 6, 40), (53, 2, 6, 40), (54, 1, 6, 40), (54, 2, 6, 40), (56, 1, 6, 40), (56, 2, 6, 40), (57, 1, 6, 40), (57, 2, 6, 40), (58, 1, 6, 40), (58, 2, 6, 40), (59, 1, 6, 40), (59, 2, 6, 40), (61, 1, 6, 40), (61, 2, 6, 40), (63, 1, 6, 40), (63, 2, 6, 40), (64, 1, 6, 40), (64, 2, 6, 40), (65, 1, 6, 40), (65, 2, 6, 40), (66, 1, 6, 40), (66, 2, 6, 40), (69, 1, 6, 40), (69, 2, 6, 40), (71, 1, 6, 40), (71, 2, 6, 40), (72, 1, 6, 40), (72, 2, 6, 40), (74, 1, 6, 40), (74, 2, 6, 40), (75, 1, 6, 40), (75, 2, 6, 40), (76, 1, 6, 40), (76, 2, 6, 40), (77, 1, 6, 40), (77, 2, 6, 40), (78, 1, 6, 40), (78, 2, 6, 40), (79, 1, 6, 40), (79, 2, 6, 40), (80, 1, 6, 40), (80, 2, 6, 40), (83, 1, 6, 40), (83, 2, 6, 40), (86, 1, 6, 40), (86, 2, 6, 40), (87, 1, 6, 40), (87, 2, 6, 40), (88, 1, 6, 40), (88, 2, 6, 40), (89, 1, 6, 40), (89, 2, 6, 40), (95, 1, 6, 40), (95, 2, 6, 40), (12, 1, 6, 50), (12, 2, 6, 50), (13, 1, 6, 50), (13, 2, 6, 50), (14, 1, 6, 50), (14, 2, 6, 50), (17, 1, 6, 50), (17, 2, 6, 50), (20, 1, 6, 50), (20, 2, 6, 50), (21, 1, 6, 50), (21, 2, 6, 50), (27, 1, 6, 50), (27, 2, 6, 50), (28, 1, 6, 50), (28, 2, 6, 50), (29, 1, 6, 50), (29, 2, 6, 50), (33, 1, 6, 50), (33, 2, 6, 50), (34, 1, 6, 50), (34, 2, 6, 50), (36, 1, 6, 50), (36, 2, 6, 50), (37, 1, 6, 50), (37, 2, 6, 50), (38, 1, 6, 50), (38, 2, 6, 50), (41, 1, 6, 50), (41, 2, 6, 50), (42, 1, 6, 50), (42, 2, 6, 50), (43, 1, 6, 50), (43, 2, 6, 50), (45, 1, 6, 50), (45, 2, 6, 50), (46, 1, 6, 50), (46, 2, 6, 50), (47, 1, 6, 50), (47, 2, 6, 50), (49, 1, 6, 50), (49, 2, 6, 50), (50, 1, 6, 50), (50, 2, 6, 50), (52, 1, 6, 50), (52, 2, 6, 50), (53, 1, 6, 50), (53, 2, 6, 50), (54, 1, 6, 50), (54, 2, 6, 50), (56, 1, 6, 50), (56, 2, 6, 50), (57, 1, 6, 50), (57, 2, 6, 50), (58, 1, 6, 50), (58, 2, 6, 50), (59, 1, 6, 50), (59, 2, 6, 50), (61, 1, 6, 50), (61, 2, 6, 50), (63, 1, 6, 50), (63, 2, 6, 50), (64, 1, 6, 50), (64, 2, 6, 50), (65, 1, 6, 50), (65, 2, 6, 50), (66, 1, 6, 50), (66, 2, 6, 50), (69, 1, 6, 50), (69, 2, 6, 50), (71, 1, 6, 50), (71, 2, 6, 50), (72, 1, 6, 50), (72, 2, 6, 50), (74, 1, 6, 50), (74, 2, 6, 50), (75, 1, 6, 50), (75, 2, 6, 50), (76, 1, 6, 50), (76, 2, 6, 50), (77, 1, 6, 50), (77, 2, 6, 50), (78, 1, 6, 50), (78, 2, 6, 50), (79, 1, 6, 50), (79, 2, 6, 50), (80, 1, 6, 50), (80, 2, 6, 50), (83, 1, 6, 50), (83, 2, 6, 50), (86, 1, 6, 50), (86, 2, 6, 50), (87, 1, 6, 50), (87, 2, 6, 50), (88, 1, 6, 50), (88, 2, 6, 50), (89, 1, 6, 50), (89, 2, 6, 50), (95, 1, 6, 50), (95, 2, 6, 50), (12, 1, 7, 0), (12, 2, 7, 0), (13, 1, 7, 0), (13, 2, 7, 0), (14, 1, 7, 0), (14, 2, 7, 0), (17, 1, 7, 0), (17, 2, 7, 0), (20, 1, 7, 0), (20, 2, 7, 0), (21, 1, 7, 0), (21, 2, 7, 0), (27, 1, 7, 0), (27, 2, 7, 0), (28, 1, 7, 0), (28, 2, 7, 0), (29, 1, 7, 0), (29, 2, 7, 0), (33, 1, 7, 0), (33, 2, 7, 0), (34, 1, 7, 0), (34, 2, 7, 0), (36, 1, 7, 0), (36, 2, 7, 0), (37, 1, 7, 0), (37, 2, 7, 0), (38, 1, 7, 0), (38, 2, 7, 0), (41, 1, 7, 0), (41, 2, 7, 0), (42, 1, 7, 0), (42, 2, 7, 0), (43, 1, 7, 0), (43, 2, 7, 0), (45, 1, 7, 0), (45, 2, 7, 0), (46, 1, 7, 0), (46, 2, 7, 0), (47, 1, 7, 0), (47, 2, 7, 0), (49, 1, 7, 0), (49, 2, 7, 0), (50, 1, 7, 0), (50, 2, 7, 0), (52, 1, 7, 0), (52, 2, 7, 0), (53, 1, 7, 0), (53, 2, 7, 0), (54, 1, 7, 0), (54, 2, 7, 0), (56, 1, 7, 0), (56, 2, 7, 0), (57, 1, 7, 0), (57, 2, 7, 0), (58, 1, 7, 0), (58, 2, 7, 0), (59, 1, 7, 0), (59, 2, 7, 0), (61, 1, 7, 0), (61, 2, 7, 0), (63, 1, 7, 0), (63, 2, 7, 0), (64, 1, 7, 0), (64, 2, 7, 0), (65, 1, 7, 0), (65, 2, 7, 0), (66, 1, 7, 0), (66, 2, 7, 0), (69, 1, 7, 0), (69, 2, 7, 0), (71, 1, 7, 0), (71, 2, 7, 0), (72, 1, 7, 0), (72, 2, 7, 0), (74, 1, 7, 0), (74, 2, 7, 0), (75, 1, 7, 0), (75, 2, 7, 0), (76, 1, 7, 0), (76, 2, 7, 0), (77, 1, 7, 0), (77, 2, 7, 0), (78, 1, 7, 0), (78, 2, 7, 0), (79, 1, 7, 0), (79, 2, 7, 0), (80, 1, 7, 0), (80, 2, 7, 0), (83, 1, 7, 0), (83, 2, 7, 0), (86, 1, 7, 0), (86, 2, 7, 0), (87, 1, 7, 0), (87, 2, 7, 0), (88, 1, 7, 0), (88, 2, 7, 0), (89, 1, 7, 0), (89, 2, 7, 0), (95, 1, 7, 0), (95, 2, 7, 0), (12, 1, 7, 10), (12, 2, 7, 10), (13, 1, 7, 10), (13, 2, 7, 10), (14, 1, 7, 10), (14, 2, 7, 10), (17, 1, 7, 10), (17, 2, 7, 10), (20, 1, 7, 10), (20, 2, 7, 10), (21, 1, 7, 10), (21, 2, 7, 10), (27, 1, 7, 10), (27, 2, 7, 10), (28, 1, 7, 10), (28, 2, 7, 10), (29, 1, 7, 10), (29, 2, 7, 10), (33, 1, 7, 10), (33, 2, 7, 10), (34, 1, 7, 10), (34, 2, 7, 10), (36, 1, 7, 10), (36, 2, 7, 10), (37, 1, 7, 10), (37, 2, 7, 10), (38, 1, 7, 10), (38, 2, 7, 10), (41, 1, 7, 10), (41, 2, 7, 10), (42, 1, 7, 10), (42, 2, 7, 10), (43, 1, 7, 10), (43, 2, 7, 10), (45, 1, 7, 10), (45, 2, 7, 10), (46, 1, 7, 10), (46, 2, 7, 10), (47, 1, 7, 10), (47, 2, 7, 10), (49, 1, 7, 10), (49, 2, 7, 10), (50, 1, 7, 10), (50, 2, 7, 10), (52, 1, 7, 10), (52, 2, 7, 10), (53, 1, 7, 10), (53, 2, 7, 10), (54, 1, 7, 10), (54, 2, 7, 10), (56, 1, 7, 10), (56, 2, 7, 10), (57, 1, 7, 10), (57, 2, 7, 10), (58, 1, 7, 10), (58, 2, 7, 10), (59, 1, 7, 10), (59, 2, 7, 10), (61, 1, 7, 10), (61, 2, 7, 10), (63, 1, 7, 10), (63, 2, 7, 10), (64, 1, 7, 10), (64, 2, 7, 10), (65, 1, 7, 10), (65, 2, 7, 10), (66, 1, 7, 10), (66, 2, 7, 10), (69, 1, 7, 10), (69, 2, 7, 10), (71, 1, 7, 10), (71, 2, 7, 10), (72, 1, 7, 10), (72, 2, 7, 10), (74, 1, 7, 10), (74, 2, 7, 10), (75, 1, 7, 10), (75, 2, 7, 10), (76, 1, 7, 10), (76, 2, 7, 10), (77, 1, 7, 10), (77, 2, 7, 10), (78, 1, 7, 10), (78, 2, 7, 10), (79, 1, 7, 10), (79, 2, 7, 10), (80, 1, 7, 10), (80, 2, 7, 10), (83, 1, 7, 10), (83, 2, 7, 10), (86, 1, 7, 10), (86, 2, 7, 10), (87, 1, 7, 10), (87, 2, 7, 10), (88, 1, 7, 10), (88, 2, 7, 10), (89, 1, 7, 10), (89, 2, 7, 10), (95, 1, 7, 10), (95, 2, 7, 10), (12, 1, 7, 20), (12, 2, 7, 20), (13, 1, 7, 20), (13, 2, 7, 20), (14, 1, 7, 20), (14, 2, 7, 20), (17, 1, 7, 20), (17, 2, 7, 20), (20, 1, 7, 20), (20, 2, 7, 20), (21, 1, 7, 20), (21, 2, 7, 20), (27, 1, 7, 20), (27, 2, 7, 20), (28, 1, 7, 20), (28, 2, 7, 20), (29, 1, 7, 20), (29, 2, 7, 20), (33, 1, 7, 20), (33, 2, 7, 20), (34, 1, 7, 20), (34, 2, 7, 20), (36, 1, 7, 20), (36, 2, 7, 20), (37, 1, 7, 20), (37, 2, 7, 20), (38, 1, 7, 20), (38, 2, 7, 20), (41, 1, 7, 20), (41, 2, 7, 20), (42, 1, 7, 20), (42, 2, 7, 20), (43, 1, 7, 20), (43, 2, 7, 20), (45, 1, 7, 20), (45, 2, 7, 20), (46, 1, 7, 20), (46, 2, 7, 20), (47, 1, 7, 20), (47, 2, 7, 20), (49, 1, 7, 20), (49, 2, 7, 20), (50, 1, 7, 20), (50, 2, 7, 20), (52, 1, 7, 20), (52, 2, 7, 20), (53, 1, 7, 20), (53, 2, 7, 20), (54, 1, 7, 20), (54, 2, 7, 20), (56, 1, 7, 20), (56, 2, 7, 20), (57, 1, 7, 20), (57, 2, 7, 20), (58, 1, 7, 20), (58, 2, 7, 20), (59, 1, 7, 20), (59, 2, 7, 20), (61, 1, 7, 20), (61, 2, 7, 20), (63, 1, 7, 20), (63, 2, 7, 20), (64, 1, 7, 20), (64, 2, 7, 20), (65, 1, 7, 20), (65, 2, 7, 20), (66, 1, 7, 20), (66, 2, 7, 20), (69, 1, 7, 20), (69, 2, 7, 20), (71, 1, 7, 20), (71, 2, 7, 20), (72, 1, 7, 20), (72, 2, 7, 20), (74, 1, 7, 20), (74, 2, 7, 20), (75, 1, 7, 20), (75, 2, 7, 20), (76, 1, 7, 20), (76, 2, 7, 20), (77, 1, 7, 20), (77, 2, 7, 20), (78, 1, 7, 20), (78, 2, 7, 20), (79, 1, 7, 20), (79, 2, 7, 20), (80, 1, 7, 20), (80, 2, 7, 20), (83, 1, 7, 20), (83, 2, 7, 20), (86, 1, 7, 20), (86, 2, 7, 20), (87, 1, 7, 20), (87, 2, 7, 20), (88, 1, 7, 20), (88, 2, 7, 20), (89, 1, 7, 20), (89, 2, 7, 20), (95, 1, 7, 20), (95, 2, 7, 20), (12, 1, 7, 30), (12, 2, 7, 30), (13, 1, 7, 30), (13, 2, 7, 30), (14, 1, 7, 30), (14, 2, 7, 30), (17, 1, 7, 30), (17, 2, 7, 30), (20, 1, 7, 30), (20, 2, 7, 30), (21, 1, 7, 30), (21, 2, 7, 30), (27, 1, 7, 30), (27, 2, 7, 30), (28, 1, 7, 30), (28, 2, 7, 30), (29, 1, 7, 30), (29, 2, 7, 30), (33, 1, 7, 30), (33, 2, 7, 30), (34, 1, 7, 30), (34, 2, 7, 30), (36, 1, 7, 30), (36, 2, 7, 30), (37, 1, 7, 30), (37, 2, 7, 30), (38, 1, 7, 30), (38, 2, 7, 30), (41, 1, 7, 30), (41, 2, 7, 30), (42, 1, 7, 30), (42, 2, 7, 30), (43, 1, 7, 30), (43, 2, 7, 30), (45, 1, 7, 30), (45, 2, 7, 30), (46, 1, 7, 30), (46, 2, 7, 30), (47, 1, 7, 30), (47, 2, 7, 30), (49, 1, 7, 30), (49, 2, 7, 30), (50, 1, 7, 30), (50, 2, 7, 30), (52, 1, 7, 30), (52, 2, 7, 30), (53, 1, 7, 30), (53, 2, 7, 30), (54, 1, 7, 30), (54, 2, 7, 30), (56, 1, 7, 30), (56, 2, 7, 30), (57, 1, 7, 30), (57, 2, 7, 30), (58, 1, 7, 30), (58, 2, 7, 30), (59, 1, 7, 30), (59, 2, 7, 30), (61, 1, 7, 30), (61, 2, 7, 30), (63, 1, 7, 30), (63, 2, 7, 30), (64, 1, 7, 30), (64, 2, 7, 30), (65, 1, 7, 30), (65, 2, 7, 30), (66, 1, 7, 30), (66, 2, 7, 30), (69, 1, 7, 30), (69, 2, 7, 30), (71, 1, 7, 30), (71, 2, 7, 30), (72, 1, 7, 30), (72, 2, 7, 30), (74, 1, 7, 30), (74, 2, 7, 30), (75, 1, 7, 30), (75, 2, 7, 30), (76, 1, 7, 30), (76, 2, 7, 30), (77, 1, 7, 30), (77, 2, 7, 30), (78, 1, 7, 30), (78, 2, 7, 30), (79, 1, 7, 30), (79, 2, 7, 30), (80, 1, 7, 30), (80, 2, 7, 30), (83, 1, 7, 30), (83, 2, 7, 30), (86, 1, 7, 30), (86, 2, 7, 30), (87, 1, 7, 30), (87, 2, 7, 30), (88, 1, 7, 30), (88, 2, 7, 30), (89, 1, 7, 30), (89, 2, 7, 30), (95, 1, 7, 30), (95, 2, 7, 30), (12, 1, 7, 40), (12, 2, 7, 40), (13, 1, 7, 40), (13, 2, 7, 40), (14, 1, 7, 40), (14, 2, 7, 40), (17, 1, 7, 40), (17, 2, 7, 40), (20, 1, 7, 40), (20, 2, 7, 40), (21, 1, 7, 40), (21, 2, 7, 40), (27, 1, 7, 40), (27, 2, 7, 40), (28, 1, 7, 40), (28, 2, 7, 40), (29, 1, 7, 40), (29, 2, 7, 40), (33, 1, 7, 40), (33, 2, 7, 40), (34, 1, 7, 40), (34, 2, 7, 40), (36, 1, 7, 40), (36, 2, 7, 40), (37, 1, 7, 40), (37, 2, 7, 40), (38, 1, 7, 40), (38, 2, 7, 40), (41, 1, 7, 40), (41, 2, 7, 40), (42, 1, 7, 40), (42, 2, 7, 40), (43, 1, 7, 40), (43, 2, 7, 40), (45, 1, 7, 40), (45, 2, 7, 40), (46, 1, 7, 40), (46, 2, 7, 40), (47, 1, 7, 40), (47, 2, 7, 40), (49, 1, 7, 40), (49, 2, 7, 40), (50, 1, 7, 40), (50, 2, 7, 40), (52, 1, 7, 40), (52, 2, 7, 40), (53, 1, 7, 40), (53, 2, 7, 40), (54, 1, 7, 40), (54, 2, 7, 40), (56, 1, 7, 40), (56, 2, 7, 40), (57, 1, 7, 40), (57, 2, 7, 40), (58, 1, 7, 40), (58, 2, 7, 40), (59, 1, 7, 40), (59, 2, 7, 40), (61, 1, 7, 40), (61, 2, 7, 40), (63, 1, 7, 40), (63, 2, 7, 40), (64, 1, 7, 40), (64, 2, 7, 40), (65, 1, 7, 40), (65, 2, 7, 40), (66, 1, 7, 40), (66, 2, 7, 40), (69, 1, 7, 40), (69, 2, 7, 40), (71, 1, 7, 40), (71, 2, 7, 40), (72, 1, 7, 40), (72, 2, 7, 40), (74, 1, 7, 40), (74, 2, 7, 40), (75, 1, 7, 40), (75, 2, 7, 40), (76, 1, 7, 40), (76, 2, 7, 40), (77, 1, 7, 40), (77, 2, 7, 40), (78, 1, 7, 40), (78, 2, 7, 40), (79, 1, 7, 40), (79, 2, 7, 40), (80, 1, 7, 40), (80, 2, 7, 40), (83, 1, 7, 40), (83, 2, 7, 40), (86, 1, 7, 40), (86, 2, 7, 40), (87, 1, 7, 40), (87, 2, 7, 40), (88, 1, 7, 40), (88, 2, 7, 40), (89, 1, 7, 40), (89, 2, 7, 40), (95, 1, 7, 40), (95, 2, 7, 40), (12, 1, 7, 50), (12, 2, 7, 50), (13, 1, 7, 50), (13, 2, 7, 50), (14, 1, 7, 50), (14, 2, 7, 50), (17, 1, 7, 50), (17, 2, 7, 50), (20, 1, 7, 50), (20, 2, 7, 50), (21, 1, 7, 50), (21, 2, 7, 50), (27, 1, 7, 50), (27, 2, 7, 50), (28, 1, 7, 50), (28, 2, 7, 50), (29, 1, 7, 50), (29, 2, 7, 50), (33, 1, 7, 50), (33, 2, 7, 50), (34, 1, 7, 50), (34, 2, 7, 50), (36, 1, 7, 50), (36, 2, 7, 50), (37, 1, 7, 50), (37, 2, 7, 50), (38, 1, 7, 50), (38, 2, 7, 50), (41, 1, 7, 50), (41, 2, 7, 50), (42, 1, 7, 50), (42, 2, 7, 50), (43, 1, 7, 50), (43, 2, 7, 50), (45, 1, 7, 50), (45, 2, 7, 50), (46, 1, 7, 50), (46, 2, 7, 50), (47, 1, 7, 50), (47, 2, 7, 50), (49, 1, 7, 50), (49, 2, 7, 50), (50, 1, 7, 50), (50, 2, 7, 50), (52, 1, 7, 50), (52, 2, 7, 50), (53, 1, 7, 50), (53, 2, 7, 50), (54, 1, 7, 50), (54, 2, 7, 50), (56, 1, 7, 50), (56, 2, 7, 50), (57, 1, 7, 50), (57, 2, 7, 50), (58, 1, 7, 50), (58, 2, 7, 50), (59, 1, 7, 50), (59, 2, 7, 50), (61, 1, 7, 50), (61, 2, 7, 50), (63, 1, 7, 50), (63, 2, 7, 50), (64, 1, 7, 50), (64, 2, 7, 50), (65, 1, 7, 50), (65, 2, 7, 50), (66, 1, 7, 50), (66, 2, 7, 50), (69, 1, 7, 50), (69, 2, 7, 50), (71, 1, 7, 50), (71, 2, 7, 50), (72, 1, 7, 50), (72, 2, 7, 50), (74, 1, 7, 50), (74, 2, 7, 50), (75, 1, 7, 50), (75, 2, 7, 50), (76, 1, 7, 50), (76, 2, 7, 50), (77, 1, 7, 50), (77, 2, 7, 50), (78, 1, 7, 50), (78, 2, 7, 50), (79, 1, 7, 50), (79, 2, 7, 50), (80, 1, 7, 50), (80, 2, 7, 50), (83, 1, 7, 50), (83, 2, 7, 50), (86, 1, 7, 50), (86, 2, 7, 50), (87, 1, 7, 50), (87, 2, 7, 50), (88, 1, 7, 50), (88, 2, 7, 50), (89, 1, 7, 50), (89, 2, 7, 50), (95, 1, 7, 50), (95, 2, 7, 50), (12, 1, 8, 0), (12, 2, 8, 0), (13, 1, 8, 0), (13, 2, 8, 0), (14, 1, 8, 0), (14, 2, 8, 0), (17, 1, 8, 0), (17, 2, 8, 0), (20, 1, 8, 0), (20, 2, 8, 0), (21, 1, 8, 0), (21, 2, 8, 0), (27, 1, 8, 0), (27, 2, 8, 0), (28, 1, 8, 0), (28, 2, 8, 0), (29, 1, 8, 0), (29, 2, 8, 0), (33, 1, 8, 0), (33, 2, 8, 0), (34, 1, 8, 0), (34, 2, 8, 0), (36, 1, 8, 0), (36, 2, 8, 0), (37, 1, 8, 0), (37, 2, 8, 0), (38, 1, 8, 0), (38, 2, 8, 0), (41, 1, 8, 0), (41, 2, 8, 0), (42, 1, 8, 0), (42, 2, 8, 0), (43, 1, 8, 0), (43, 2, 8, 0), (45, 1, 8, 0), (45, 2, 8, 0), (46, 1, 8, 0), (46, 2, 8, 0), (47, 1, 8, 0), (47, 2, 8, 0), (49, 1, 8, 0), (49, 2, 8, 0), (50, 1, 8, 0), (50, 2, 8, 0), (52, 1, 8, 0), (52, 2, 8, 0), (53, 1, 8, 0), (53, 2, 8, 0), (54, 1, 8, 0), (54, 2, 8, 0), (56, 1, 8, 0), (56, 2, 8, 0), (57, 1, 8, 0), (57, 2, 8, 0), (58, 1, 8, 0), (58, 2, 8, 0), (59, 1, 8, 0), (59, 2, 8, 0), (61, 1, 8, 0), (61, 2, 8, 0), (63, 1, 8, 0), (63, 2, 8, 0), (64, 1, 8, 0), (64, 2, 8, 0), (65, 1, 8, 0), (65, 2, 8, 0), (66, 1, 8, 0), (66, 2, 8, 0), (69, 1, 8, 0), (69, 2, 8, 0), (71, 1, 8, 0), (71, 2, 8, 0), (72, 1, 8, 0), (72, 2, 8, 0), (74, 1, 8, 0), (74, 2, 8, 0), (75, 1, 8, 0), (75, 2, 8, 0), (76, 1, 8, 0), (76, 2, 8, 0), (77, 1, 8, 0), (77, 2, 8, 0), (78, 1, 8, 0), (78, 2, 8, 0), (79, 1, 8, 0), (79, 2, 8, 0), (80, 1, 8, 0), (80, 2, 8, 0), (83, 1, 8, 0), (83, 2, 8, 0), (86, 1, 8, 0), (86, 2, 8, 0), (87, 1, 8, 0), (87, 2, 8, 0), (88, 1, 8, 0), (88, 2, 8, 0), (89, 1, 8, 0), (89, 2, 8, 0), (95, 1, 8, 0), (95, 2, 8, 0)])"
      ]
     },
     "execution_count": 54,
     "metadata": {},
     "output_type": "execute_result"
    }
   ],
   "source": [
    "gm_avg_speed_data.keys()"
   ]
  },
  {
   "cell_type": "code",
   "execution_count": 55,
   "metadata": {},
   "outputs": [
    {
     "data": {
      "text/plain": [
       "[{'distanceMeters': 664, 'duration': '206s', 'speed': 3.2233009708737863},\n",
       " {'distanceMeters': 650, 'duration': '164s', 'speed': 3.9634146341463414},\n",
       " {'distanceMeters': 1568, 'duration': '394s', 'speed': 3.979695431472081},\n",
       " {'distanceMeters': 1755, 'duration': '346s', 'speed': 5.072254335260116},\n",
       " {'distanceMeters': 1485, 'duration': '268s', 'speed': 5.541044776119403},\n",
       " {'distanceMeters': 1850, 'duration': '268s', 'speed': 6.902985074626866},\n",
       " {'distanceMeters': 4925, 'duration': '572s', 'speed': 8.61013986013986},\n",
       " {'distanceMeters': 5009, 'duration': '465s', 'speed': 10.772043010752688}]"
      ]
     },
     "execution_count": 55,
     "metadata": {},
     "output_type": "execute_result"
    }
   ],
   "source": [
    "gm_avg_speed_data[(12, 1, 0, 20)]['speed_data']"
   ]
  },
  {
   "cell_type": "code",
   "execution_count": 56,
   "metadata": {},
   "outputs": [
    {
     "data": {
      "text/html": [
       "<div>\n",
       "<style scoped>\n",
       "    .dataframe tbody tr th:only-of-type {\n",
       "        vertical-align: middle;\n",
       "    }\n",
       "\n",
       "    .dataframe tbody tr th {\n",
       "        vertical-align: top;\n",
       "    }\n",
       "\n",
       "    .dataframe thead th {\n",
       "        text-align: right;\n",
       "    }\n",
       "</style>\n",
       "<table border=\"1\" class=\"dataframe\">\n",
       "  <thead>\n",
       "    <tr style=\"text-align: right;\">\n",
       "      <th></th>\n",
       "      <th>end</th>\n",
       "      <th>start</th>\n",
       "      <th>line_id</th>\n",
       "      <th>distance</th>\n",
       "      <th>direction</th>\n",
       "      <th>geometry</th>\n",
       "    </tr>\n",
       "  </thead>\n",
       "  <tbody>\n",
       "    <tr>\n",
       "      <th>0</th>\n",
       "      <td>6433</td>\n",
       "      <td>1780</td>\n",
       "      <td>12</td>\n",
       "      <td>0.000000</td>\n",
       "      <td>1</td>\n",
       "      <td>LINESTRING (4.36479 50.84185, 4.36479 50.84185...</td>\n",
       "    </tr>\n",
       "    <tr>\n",
       "      <th>1</th>\n",
       "      <td>1131</td>\n",
       "      <td>6433</td>\n",
       "      <td>12</td>\n",
       "      <td>688.862247</td>\n",
       "      <td>1</td>\n",
       "      <td>LINESTRING (4.36712 50.84033, 4.36713 50.84032...</td>\n",
       "    </tr>\n",
       "    <tr>\n",
       "      <th>2</th>\n",
       "      <td>1418</td>\n",
       "      <td>1131</td>\n",
       "      <td>12</td>\n",
       "      <td>1734.101558</td>\n",
       "      <td>1</td>\n",
       "      <td>LINESTRING (4.37362 50.83978, 4.37396 50.84038...</td>\n",
       "    </tr>\n",
       "    <tr>\n",
       "      <th>3</th>\n",
       "      <td>2247</td>\n",
       "      <td>1418</td>\n",
       "      <td>12</td>\n",
       "      <td>3922.269263</td>\n",
       "      <td>1</td>\n",
       "      <td>LINESTRING (4.38391 50.84347, 4.38391 50.84347...</td>\n",
       "    </tr>\n",
       "    <tr>\n",
       "      <th>4</th>\n",
       "      <td>4556</td>\n",
       "      <td>2247</td>\n",
       "      <td>12</td>\n",
       "      <td>6843.167479</td>\n",
       "      <td>1</td>\n",
       "      <td>LINESTRING (4.39787 50.85398, 4.39803 50.85436...</td>\n",
       "    </tr>\n",
       "    <tr>\n",
       "      <th>5</th>\n",
       "      <td>5044</td>\n",
       "      <td>4556</td>\n",
       "      <td>12</td>\n",
       "      <td>9762.640661</td>\n",
       "      <td>1</td>\n",
       "      <td>LINESTRING (4.40329 50.86419, 4.40329 50.86419...</td>\n",
       "    </tr>\n",
       "    <tr>\n",
       "      <th>6</th>\n",
       "      <td>3018</td>\n",
       "      <td>5044</td>\n",
       "      <td>12</td>\n",
       "      <td>12750.518888</td>\n",
       "      <td>1</td>\n",
       "      <td>LINESTRING (4.41472 50.87682, 4.41498 50.87683...</td>\n",
       "    </tr>\n",
       "    <tr>\n",
       "      <th>7</th>\n",
       "      <td>9600</td>\n",
       "      <td>3018</td>\n",
       "      <td>12</td>\n",
       "      <td>15181.898835</td>\n",
       "      <td>1</td>\n",
       "      <td>LINESTRING (4.43107 50.87851, 4.43128 50.87855...</td>\n",
       "    </tr>\n",
       "    <tr>\n",
       "      <th>8</th>\n",
       "      <td>3017</td>\n",
       "      <td>9600</td>\n",
       "      <td>12</td>\n",
       "      <td>2.338154</td>\n",
       "      <td>2</td>\n",
       "      <td>LINESTRING (4.48175 50.89819, 4.48196 50.89826...</td>\n",
       "    </tr>\n",
       "    <tr>\n",
       "      <th>9</th>\n",
       "      <td>5048</td>\n",
       "      <td>3017</td>\n",
       "      <td>12</td>\n",
       "      <td>8660.115316</td>\n",
       "      <td>2</td>\n",
       "      <td>LINESTRING (4.43034 50.87814, 4.43022 50.87811...</td>\n",
       "    </tr>\n",
       "  </tbody>\n",
       "</table>\n",
       "</div>"
      ],
      "text/plain": [
       "    end  start  line_id      distance  direction  \\\n",
       "0  6433   1780       12      0.000000          1   \n",
       "1  1131   6433       12    688.862247          1   \n",
       "2  1418   1131       12   1734.101558          1   \n",
       "3  2247   1418       12   3922.269263          1   \n",
       "4  4556   2247       12   6843.167479          1   \n",
       "5  5044   4556       12   9762.640661          1   \n",
       "6  3018   5044       12  12750.518888          1   \n",
       "7  9600   3018       12  15181.898835          1   \n",
       "8  3017   9600       12      2.338154          2   \n",
       "9  5048   3017       12   8660.115316          2   \n",
       "\n",
       "                                            geometry  \n",
       "0  LINESTRING (4.36479 50.84185, 4.36479 50.84185...  \n",
       "1  LINESTRING (4.36712 50.84033, 4.36713 50.84032...  \n",
       "2  LINESTRING (4.37362 50.83978, 4.37396 50.84038...  \n",
       "3  LINESTRING (4.38391 50.84347, 4.38391 50.84347...  \n",
       "4  LINESTRING (4.39787 50.85398, 4.39803 50.85436...  \n",
       "5  LINESTRING (4.40329 50.86419, 4.40329 50.86419...  \n",
       "6  LINESTRING (4.41472 50.87682, 4.41498 50.87683...  \n",
       "7  LINESTRING (4.43107 50.87851, 4.43128 50.87855...  \n",
       "8  LINESTRING (4.48175 50.89819, 4.48196 50.89826...  \n",
       "9  LINESTRING (4.43034 50.87814, 4.43022 50.87811...  "
      ]
     },
     "execution_count": 56,
     "metadata": {},
     "output_type": "execute_result"
    }
   ],
   "source": [
    "gdf = gpd.read_file(\"data/segments.geojson\", driver=\"GeoJSON\")\n",
    "gdf = gdf.drop(columns=[\"id\", \"color\"])\n",
    "gdf['line_id'] = gdf['line_id'].astype(int)\n",
    "gdf['direction'] = gdf['direction']\n",
    "gdf.head(10)"
   ]
  },
  {
   "cell_type": "markdown",
   "metadata": {},
   "source": [
    "Required format: \n",
    "\n",
    "    start_stop_id -> end_stop_id -> datetime = (mean_speed, median_speed)"
   ]
  },
  {
   "cell_type": "code",
   "execution_count": 57,
   "metadata": {},
   "outputs": [
    {
     "data": {
      "text/plain": [
       "Index([0, 1, 2, 3, 4, 5, 6, 7], dtype='int64')"
      ]
     },
     "execution_count": 57,
     "metadata": {},
     "output_type": "execute_result"
    }
   ],
   "source": [
    "# already sorted by 'line_id' and 'direction'\n",
    "grouped = gdf.groupby(['line_id', 'direction'])\n",
    "groups = grouped.groups\n",
    "groups[(12, 1)]"
   ]
  },
  {
   "cell_type": "code",
   "execution_count": 58,
   "metadata": {},
   "outputs": [
    {
     "data": {
      "text/plain": [
       "{'time': '2024-08-27T09:04:13.583212+02:00',\n",
       " 'speed_data': [{'distanceMeters': 664,\n",
       "   'duration': '225s',\n",
       "   'speed': 2.951111111111111},\n",
       "  {'distanceMeters': 650, 'duration': '173s', 'speed': 3.7572254335260116},\n",
       "  {'distanceMeters': 1568, 'duration': '393s', 'speed': 3.989821882951654},\n",
       "  {'distanceMeters': 1755, 'duration': '420s', 'speed': 4.178571428571429},\n",
       "  {'distanceMeters': 1485, 'duration': '288s', 'speed': 5.15625},\n",
       "  {'distanceMeters': 1850, 'duration': '281s', 'speed': 6.5836298932384345},\n",
       "  {'distanceMeters': 4925, 'duration': '592s', 'speed': 8.319256756756756},\n",
       "  {'distanceMeters': 5009, 'duration': '471s', 'speed': 10.634819532908704}]}"
      ]
     },
     "execution_count": 58,
     "metadata": {},
     "output_type": "execute_result"
    }
   ],
   "source": [
    "keys = list(gm_avg_speed_data.keys())\n",
    "gm_avg_speed_data[keys[0]]"
   ]
  },
  {
   "cell_type": "code",
   "execution_count": 59,
   "metadata": {},
   "outputs": [],
   "source": [
    "from collections import defaultdict\n",
    "\n",
    "# start_stop -> end_stop -> datetime = [speed1, speed2, ...]\n",
    "segment_speeds_at_time = defaultdict(lambda: defaultdict(lambda : defaultdict(list)))\n",
    "\n",
    "for key in gm_avg_speed_data:\n",
    "    line_id, direction, _, _ = key\n",
    "    time_iso = gm_avg_speed_data[key]['time']\n",
    "    dt = datetime.fromisoformat(time_iso)\n",
    "    dt_rounded = round_to_nearest_10_minutes(dt)\n",
    "    dt_bucket = dt_rounded.strftime(\"%Y-%m-%d %H:%M:%S\")\n",
    "    speed_data = gm_avg_speed_data[key]['speed_data']\n",
    "    df_indices = groups[(line_id, direction)]\n",
    "\n",
    "    assert len(df_indices) == len(speed_data), f\"Length mismatch: {len(df_indices)} != {len(speed_data)}. Key: {key}\"\n",
    "\n",
    "    for index, speed_info in zip(df_indices, speed_data):\n",
    "        start_stop = gdf.loc[index, 'start']\n",
    "        end_stop = gdf.loc[index, 'end']\n",
    "        segment_speeds_at_time[start_stop][end_stop][dt_bucket].append(speed_info['speed'])\n",
    "\n",
    "# compute the average speed for each segment at each time\n",
    "# start_stop -> end_stop -> datetime = (avg_speed, median_speed)\n",
    "segment_avg_speeds_at_time =  defaultdict(lambda: defaultdict(lambda : defaultdict(tuple)))\n",
    "\n",
    "for start_stop in segment_speeds_at_time:\n",
    "    for end_stop in segment_speeds_at_time[start_stop]:\n",
    "        for dt in segment_speeds_at_time[start_stop][end_stop]:\n",
    "            speeds = segment_speeds_at_time[start_stop][end_stop][dt]\n",
    "            avg_speed = statistics.mean(speeds)\n",
    "            median_speed = statistics.median(speeds)\n",
    "            segment_avg_speeds_at_time[start_stop][end_stop][dt] = (avg_speed, median_speed)"
   ]
  },
  {
   "cell_type": "code",
   "execution_count": 60,
   "metadata": {},
   "outputs": [],
   "source": [
    "def convert_defaultdict_to_dict(d):\n",
    "    if isinstance(d, defaultdict):\n",
    "        d = {k: convert_defaultdict_to_dict(v) for k, v in d.items()}\n",
    "    return d"
   ]
  },
  {
   "cell_type": "code",
   "execution_count": 64,
   "metadata": {},
   "outputs": [
    {
     "name": "stdout",
     "output_type": "stream",
     "text": [
      "82620\n"
     ]
    }
   ],
   "source": [
    "fact_table = []\n",
    "\n",
    "for start_stop in segment_avg_speeds_at_time:\n",
    "    for end_stop in segment_avg_speeds_at_time[start_stop]:\n",
    "        for dt in segment_avg_speeds_at_time[start_stop][end_stop]:\n",
    "            avg_speed, median_speed = segment_avg_speeds_at_time[start_stop][end_stop][dt]\n",
    "            time_id = time_df[(time_df['datetime'] == datetime.strptime(dt, \"%Y-%m-%d %H:%M:%S\"))].index[0]\n",
    "            fact_table.append({\n",
    "                'start_stop_id': start_stop,\n",
    "                'end_stop_id': end_stop,\n",
    "                'time_id': time_id,\n",
    "                'avg_speed': avg_speed,\n",
    "                'median_speed': median_speed,\n",
    "                'source': 'GM'\n",
    "            })\n",
    "print(len(fact_table))"
   ]
  },
  {
   "cell_type": "markdown",
   "metadata": {},
   "source": [
    "### STIB"
   ]
  },
  {
   "cell_type": "code",
   "execution_count": 63,
   "metadata": {},
   "outputs": [
    {
     "data": {
      "text/html": [
       "<div>\n",
       "<style scoped>\n",
       "    .dataframe tbody tr th:only-of-type {\n",
       "        vertical-align: middle;\n",
       "    }\n",
       "\n",
       "    .dataframe tbody tr th {\n",
       "        vertical-align: top;\n",
       "    }\n",
       "\n",
       "    .dataframe thead th {\n",
       "        text-align: right;\n",
       "    }\n",
       "</style>\n",
       "<table border=\"1\" class=\"dataframe\">\n",
       "  <thead>\n",
       "    <tr style=\"text-align: right;\">\n",
       "      <th></th>\n",
       "      <th>start</th>\n",
       "      <th>end</th>\n",
       "      <th>datetime</th>\n",
       "      <th>mean</th>\n",
       "      <th>median</th>\n",
       "    </tr>\n",
       "  </thead>\n",
       "  <tbody>\n",
       "    <tr>\n",
       "      <th>0</th>\n",
       "      <td>1010</td>\n",
       "      <td>1747</td>\n",
       "      <td>2024-08-27 09:00:00</td>\n",
       "      <td>3.821429</td>\n",
       "      <td>4.650</td>\n",
       "    </tr>\n",
       "    <tr>\n",
       "      <th>1</th>\n",
       "      <td>1010</td>\n",
       "      <td>1747</td>\n",
       "      <td>2024-08-27 09:10:00</td>\n",
       "      <td>5.512500</td>\n",
       "      <td>5.450</td>\n",
       "    </tr>\n",
       "    <tr>\n",
       "      <th>2</th>\n",
       "      <td>1010</td>\n",
       "      <td>1747</td>\n",
       "      <td>2024-08-27 09:20:00</td>\n",
       "      <td>5.450000</td>\n",
       "      <td>5.350</td>\n",
       "    </tr>\n",
       "    <tr>\n",
       "      <th>3</th>\n",
       "      <td>1010</td>\n",
       "      <td>1747</td>\n",
       "      <td>2024-08-27 09:30:00</td>\n",
       "      <td>5.000000</td>\n",
       "      <td>5.575</td>\n",
       "    </tr>\n",
       "    <tr>\n",
       "      <th>4</th>\n",
       "      <td>1010</td>\n",
       "      <td>1747</td>\n",
       "      <td>2024-08-27 09:40:00</td>\n",
       "      <td>2.664286</td>\n",
       "      <td>2.600</td>\n",
       "    </tr>\n",
       "  </tbody>\n",
       "</table>\n",
       "</div>"
      ],
      "text/plain": [
       "   start   end            datetime      mean  median\n",
       "0   1010  1747 2024-08-27 09:00:00  3.821429   4.650\n",
       "1   1010  1747 2024-08-27 09:10:00  5.512500   5.450\n",
       "2   1010  1747 2024-08-27 09:20:00  5.450000   5.350\n",
       "3   1010  1747 2024-08-27 09:30:00  5.000000   5.575\n",
       "4   1010  1747 2024-08-27 09:40:00  2.664286   2.600"
      ]
     },
     "execution_count": 63,
     "metadata": {},
     "output_type": "execute_result"
    }
   ],
   "source": [
    "stib_data = pd.read_csv(\"data/speeds_stib.csv\", parse_dates=[\"datetime\"])\n",
    "stib_data.head()"
   ]
  },
  {
   "cell_type": "code",
   "execution_count": 67,
   "metadata": {},
   "outputs": [
    {
     "data": {
      "application/vnd.jupyter.widget-view+json": {
       "model_id": "7a076a94e8bb40daaf27690520a04e13",
       "version_major": 2,
       "version_minor": 0
      },
      "text/plain": [
       "0it [00:00, ?it/s]"
      ]
     },
     "metadata": {},
     "output_type": "display_data"
    },
    {
     "data": {
      "text/plain": [
       "109680"
      ]
     },
     "execution_count": 67,
     "metadata": {},
     "output_type": "execute_result"
    }
   ],
   "source": [
    "for _, row in tqdm(stib_data.iterrows()):\n",
    "    time_id = time_df[(time_df['datetime'] == row['datetime'])].index[0]\n",
    "    fact_table.append({\n",
    "        'start_stop_id': row['start'],\n",
    "        'end_stop_id': row['end'],\n",
    "        'time_id': time_id,\n",
    "        'avg_speed': row['mean'],\n",
    "        'median_speed': row['median'],\n",
    "        'source': 'STIB'\n",
    "    })\n",
    "len(fact_table)"
   ]
  },
  {
   "cell_type": "code",
   "execution_count": 70,
   "metadata": {},
   "outputs": [
    {
     "name": "stdout",
     "output_type": "stream",
     "text": [
      "<class 'pandas.core.frame.DataFrame'>\n",
      "RangeIndex: 109680 entries, 0 to 109679\n",
      "Data columns (total 6 columns):\n",
      " #   Column         Non-Null Count   Dtype  \n",
      "---  ------         --------------   -----  \n",
      " 0   start_stop_id  109680 non-null  int64  \n",
      " 1   end_stop_id    109680 non-null  int64  \n",
      " 2   time_id        109680 non-null  int64  \n",
      " 3   avg_speed      109680 non-null  float64\n",
      " 4   median_speed   109680 non-null  float64\n",
      " 5   source         109680 non-null  object \n",
      "dtypes: float64(2), int64(3), object(1)\n",
      "memory usage: 5.0+ MB\n"
     ]
    },
    {
     "data": {
      "text/html": [
       "<div>\n",
       "<style scoped>\n",
       "    .dataframe tbody tr th:only-of-type {\n",
       "        vertical-align: middle;\n",
       "    }\n",
       "\n",
       "    .dataframe tbody tr th {\n",
       "        vertical-align: top;\n",
       "    }\n",
       "\n",
       "    .dataframe thead th {\n",
       "        text-align: right;\n",
       "    }\n",
       "</style>\n",
       "<table border=\"1\" class=\"dataframe\">\n",
       "  <thead>\n",
       "    <tr style=\"text-align: right;\">\n",
       "      <th></th>\n",
       "      <th>start_stop_id</th>\n",
       "      <th>end_stop_id</th>\n",
       "      <th>time_id</th>\n",
       "      <th>avg_speed</th>\n",
       "      <th>median_speed</th>\n",
       "      <th>source</th>\n",
       "    </tr>\n",
       "  </thead>\n",
       "  <tbody>\n",
       "    <tr>\n",
       "      <th>0</th>\n",
       "      <td>1780</td>\n",
       "      <td>6433</td>\n",
       "      <td>0</td>\n",
       "      <td>2.951111</td>\n",
       "      <td>2.951111</td>\n",
       "      <td>GM</td>\n",
       "    </tr>\n",
       "    <tr>\n",
       "      <th>1</th>\n",
       "      <td>1780</td>\n",
       "      <td>6433</td>\n",
       "      <td>1</td>\n",
       "      <td>3.018182</td>\n",
       "      <td>3.018182</td>\n",
       "      <td>GM</td>\n",
       "    </tr>\n",
       "    <tr>\n",
       "      <th>2</th>\n",
       "      <td>1780</td>\n",
       "      <td>6433</td>\n",
       "      <td>2</td>\n",
       "      <td>3.223301</td>\n",
       "      <td>3.223301</td>\n",
       "      <td>GM</td>\n",
       "    </tr>\n",
       "    <tr>\n",
       "      <th>3</th>\n",
       "      <td>1780</td>\n",
       "      <td>6433</td>\n",
       "      <td>4</td>\n",
       "      <td>3.239024</td>\n",
       "      <td>3.239024</td>\n",
       "      <td>GM</td>\n",
       "    </tr>\n",
       "    <tr>\n",
       "      <th>4</th>\n",
       "      <td>1780</td>\n",
       "      <td>6433</td>\n",
       "      <td>5</td>\n",
       "      <td>3.270936</td>\n",
       "      <td>3.270936</td>\n",
       "      <td>GM</td>\n",
       "    </tr>\n",
       "  </tbody>\n",
       "</table>\n",
       "</div>"
      ],
      "text/plain": [
       "   start_stop_id  end_stop_id  time_id  avg_speed  median_speed source\n",
       "0           1780         6433        0   2.951111      2.951111     GM\n",
       "1           1780         6433        1   3.018182      3.018182     GM\n",
       "2           1780         6433        2   3.223301      3.223301     GM\n",
       "3           1780         6433        4   3.239024      3.239024     GM\n",
       "4           1780         6433        5   3.270936      3.270936     GM"
      ]
     },
     "execution_count": 70,
     "metadata": {},
     "output_type": "execute_result"
    }
   ],
   "source": [
    "fact_table_df = pd.DataFrame(fact_table)\n",
    "fact_table_df.info()\n",
    "fact_table_df.head()"
   ]
  },
  {
   "cell_type": "code",
   "execution_count": 71,
   "metadata": {},
   "outputs": [],
   "source": [
    "fact_table_df.to_csv(\"preprocessed_data/FactTable.csv\", index=False)"
   ]
  },
  {
   "cell_type": "code",
   "execution_count": null,
   "metadata": {},
   "outputs": [],
   "source": []
  }
 ],
 "metadata": {
  "kernelspec": {
   "display_name": "libcity",
   "language": "python",
   "name": "python3"
  },
  "language_info": {
   "codemirror_mode": {
    "name": "ipython",
    "version": 3
   },
   "file_extension": ".py",
   "mimetype": "text/x-python",
   "name": "python",
   "nbconvert_exporter": "python",
   "pygments_lexer": "ipython3",
   "version": "3.8.19"
  }
 },
 "nbformat": 4,
 "nbformat_minor": 2
}
